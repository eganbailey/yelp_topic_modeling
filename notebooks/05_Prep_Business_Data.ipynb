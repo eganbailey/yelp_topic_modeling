{
 "cells": [
  {
   "cell_type": "markdown",
   "metadata": {},
   "source": [
    "# Preparing Business Data for Modeling\n",
    "\n",
    "Using the data we prepared in previous notebooks, we create a validation set and a feature matrix for use in classification models."
   ]
  },
  {
   "cell_type": "code",
   "execution_count": 1,
   "metadata": {},
   "outputs": [],
   "source": [
    "import pandas as pd\n",
    "import numpy as np"
   ]
  },
  {
   "cell_type": "markdown",
   "metadata": {},
   "source": [
    "## Load the review features dataset `bus` and the topic matrix `dt_matrix`"
   ]
  },
  {
   "cell_type": "code",
   "execution_count": 2,
   "metadata": {
    "scrolled": true
   },
   "outputs": [
    {
     "name": "stderr",
     "output_type": "stream",
     "text": [
      "/opt/conda/lib/python3.6/site-packages/IPython/core/interactiveshell.py:2785: DtypeWarning: Columns (0,4) have mixed types. Specify dtype option on import or set low_memory=False.\n",
      "  interactivity=interactivity, compiler=compiler, result=result)\n"
     ]
    }
   ],
   "source": [
    "bus = pd.read_csv('../data/businesses.csv', compression='gzip')"
   ]
  },
  {
   "cell_type": "code",
   "execution_count": 3,
   "metadata": {},
   "outputs": [],
   "source": [
    "dt_matrix = np.load('../data/business_doc_topic_matrix.npy')"
   ]
  },
  {
   "cell_type": "markdown",
   "metadata": {},
   "source": [
    "We will combine the two matrices together into one `features` matrix, so we need to ensure that they are the same shape. \n",
    "\n",
    "First we eliminate non-English reviews using the index array we made previously:"
   ]
  },
  {
   "cell_type": "code",
   "execution_count": 4,
   "metadata": {},
   "outputs": [],
   "source": [
    "correct_index = np.load('../data/bus_eng_index.npy')\n",
    "bus = bus[bus.index.isin(correct_index)]"
   ]
  },
  {
   "cell_type": "code",
   "execution_count": 5,
   "metadata": {},
   "outputs": [],
   "source": [
    "bus = bus.reset_index(drop=True)"
   ]
  },
  {
   "cell_type": "code",
   "execution_count": 6,
   "metadata": {},
   "outputs": [
    {
     "data": {
      "text/plain": [
       "((1952542, 28), (1952542, 325))"
      ]
     },
     "execution_count": 6,
     "metadata": {},
     "output_type": "execute_result"
    }
   ],
   "source": [
    "bus.shape, dt_matrix.shape"
   ]
  },
  {
   "cell_type": "markdown",
   "metadata": {},
   "source": [
    "We can see that `bus` and `dt_matrix` have the same shape. Let's make a final check for null values before we combine our feature matrices:"
   ]
  },
  {
   "cell_type": "code",
   "execution_count": 7,
   "metadata": {},
   "outputs": [
    {
     "data": {
      "text/html": [
       "<div>\n",
       "<table border=\"1\" class=\"dataframe\">\n",
       "  <thead>\n",
       "    <tr style=\"text-align: right;\">\n",
       "      <th></th>\n",
       "      <th>stars</th>\n",
       "      <th>text</th>\n",
       "      <th>useful</th>\n",
       "      <th>funny</th>\n",
       "      <th>cool</th>\n",
       "      <th>state</th>\n",
       "      <th>active_life</th>\n",
       "      <th>arts_and_entertainment</th>\n",
       "      <th>automotive</th>\n",
       "      <th>beauty_and_spas</th>\n",
       "      <th>...</th>\n",
       "      <th>local_services</th>\n",
       "      <th>mass_media</th>\n",
       "      <th>nightlife</th>\n",
       "      <th>pets</th>\n",
       "      <th>professional_services</th>\n",
       "      <th>public_services_and_government</th>\n",
       "      <th>religious_organizations</th>\n",
       "      <th>restaurants</th>\n",
       "      <th>shopping</th>\n",
       "      <th>review_length</th>\n",
       "    </tr>\n",
       "  </thead>\n",
       "  <tbody>\n",
       "    <tr>\n",
       "      <th>1567253</th>\n",
       "      <td>5.0</td>\n",
       "      <td>Working with Tina and Marcia has been such a p...</td>\n",
       "      <td>NaN</td>\n",
       "      <td>NaN</td>\n",
       "      <td>NaN</td>\n",
       "      <td>NaN</td>\n",
       "      <td>NaN</td>\n",
       "      <td>NaN</td>\n",
       "      <td>NaN</td>\n",
       "      <td>NaN</td>\n",
       "      <td>...</td>\n",
       "      <td>NaN</td>\n",
       "      <td>NaN</td>\n",
       "      <td>NaN</td>\n",
       "      <td>NaN</td>\n",
       "      <td>NaN</td>\n",
       "      <td>NaN</td>\n",
       "      <td>NaN</td>\n",
       "      <td>NaN</td>\n",
       "      <td>NaN</td>\n",
       "      <td>NaN</td>\n",
       "    </tr>\n",
       "    <tr>\n",
       "      <th>1567254</th>\n",
       "      <td>My husband and I had not purchased a home befo...</td>\n",
       "      <td>0</td>\n",
       "      <td>0.0</td>\n",
       "      <td>0.0</td>\n",
       "      <td>NV</td>\n",
       "      <td>0</td>\n",
       "      <td>0.0</td>\n",
       "      <td>0.0</td>\n",
       "      <td>0.0</td>\n",
       "      <td>0.0</td>\n",
       "      <td>...</td>\n",
       "      <td>0.0</td>\n",
       "      <td>0.0</td>\n",
       "      <td>0.0</td>\n",
       "      <td>0.0</td>\n",
       "      <td>0.0</td>\n",
       "      <td>0.0</td>\n",
       "      <td>0.0</td>\n",
       "      <td>0.0</td>\n",
       "      <td>52.0</td>\n",
       "      <td>NaN</td>\n",
       "    </tr>\n",
       "  </tbody>\n",
       "</table>\n",
       "<p>2 rows × 28 columns</p>\n",
       "</div>"
      ],
      "text/plain": [
       "                                                     stars  \\\n",
       "1567253                                                5.0   \n",
       "1567254  My husband and I had not purchased a home befo...   \n",
       "\n",
       "                                                      text  useful  funny  \\\n",
       "1567253  Working with Tina and Marcia has been such a p...     NaN    NaN   \n",
       "1567254                                                  0     0.0    0.0   \n",
       "\n",
       "        cool state  active_life  arts_and_entertainment  automotive  \\\n",
       "1567253  NaN   NaN          NaN                     NaN         NaN   \n",
       "1567254   NV     0          0.0                     0.0         0.0   \n",
       "\n",
       "         beauty_and_spas      ...        local_services  mass_media  \\\n",
       "1567253              NaN      ...                   NaN         NaN   \n",
       "1567254              0.0      ...                   0.0         0.0   \n",
       "\n",
       "         nightlife  pets  professional_services  \\\n",
       "1567253        NaN   NaN                    NaN   \n",
       "1567254        0.0   0.0                    0.0   \n",
       "\n",
       "         public_services_and_government  religious_organizations  restaurants  \\\n",
       "1567253                             NaN                      NaN          NaN   \n",
       "1567254                             0.0                      0.0          0.0   \n",
       "\n",
       "         shopping  review_length  \n",
       "1567253       NaN            NaN  \n",
       "1567254      52.0            NaN  \n",
       "\n",
       "[2 rows x 28 columns]"
      ]
     },
     "execution_count": 7,
     "metadata": {},
     "output_type": "execute_result"
    }
   ],
   "source": [
    "bus[bus.isnull().any(axis=1)]"
   ]
  },
  {
   "cell_type": "markdown",
   "metadata": {},
   "source": [
    "We can drop these reviews as they don't have any feature data other than their text content."
   ]
  },
  {
   "cell_type": "code",
   "execution_count": 8,
   "metadata": {},
   "outputs": [],
   "source": [
    "bus.drop([1567253, 1567254], 0, inplace=True)"
   ]
  },
  {
   "cell_type": "code",
   "execution_count": 9,
   "metadata": {},
   "outputs": [
    {
     "data": {
      "text/plain": [
       "(1952540, 28)"
      ]
     },
     "execution_count": 9,
     "metadata": {},
     "output_type": "execute_result"
    }
   ],
   "source": [
    "bus.shape"
   ]
  },
  {
   "cell_type": "markdown",
   "metadata": {},
   "source": [
    "We also eliminate the topic vectors for those rows and assign the new doc-topic matrix to `right_matrix`:"
   ]
  },
  {
   "cell_type": "code",
   "execution_count": 10,
   "metadata": {},
   "outputs": [],
   "source": [
    "right_matrix = np.delete(dt_matrix, [1567253, 1567254], 0)"
   ]
  },
  {
   "cell_type": "code",
   "execution_count": 11,
   "metadata": {},
   "outputs": [
    {
     "data": {
      "text/plain": [
       "(1952540, 325)"
      ]
     },
     "execution_count": 11,
     "metadata": {},
     "output_type": "execute_result"
    }
   ],
   "source": [
    "right_matrix.shape"
   ]
  },
  {
   "cell_type": "markdown",
   "metadata": {},
   "source": [
    "## Create validation set\n",
    "\n",
    "At this point, we have our two matrices in the same shape. I propose creating a validation set of our data using the following scheme:\n",
    "\n",
    " - Reviews with no useful votes will be classified as not useful (0).\n",
    " - Reviews with either 1 or 2 useful votes will be held out as a validation set. \n",
    " - Reviews with at least 3 useful votes will be classified as useful (1).\n",
    " \n",
    "This approach intends to control for the unknown factor of page/click count influencing the number of votes a review could get, in addition to the algorithm Yelp uses to filter and display reviews on a specific businesses' page. Following the scheme, we believe that having at least three individuals tag a review as 'Useful' is representative of a consensus, whereas reviews with only 1 or 2 votes may or may not be useful. "
   ]
  },
  {
   "cell_type": "code",
   "execution_count": 12,
   "metadata": {},
   "outputs": [],
   "source": [
    "def useful_mapper(x):\n",
    "    if x == 0:\n",
    "        return 0\n",
    "    elif x in (1, 2):\n",
    "        return \"Validation\"\n",
    "    elif x >= 3:\n",
    "        return 1"
   ]
  },
  {
   "cell_type": "code",
   "execution_count": 13,
   "metadata": {},
   "outputs": [],
   "source": [
    "bus['usefulness'] = bus['useful'].map(lambda x: useful_mapper(x))"
   ]
  },
  {
   "cell_type": "code",
   "execution_count": 14,
   "metadata": {
    "scrolled": true
   },
   "outputs": [
    {
     "data": {
      "text/plain": [
       "0             905873\n",
       "Validation    635308\n",
       "1             411359\n",
       "Name: usefulness, dtype: int64"
      ]
     },
     "execution_count": 14,
     "metadata": {},
     "output_type": "execute_result"
    }
   ],
   "source": [
    "bus['usefulness'].value_counts()"
   ]
  },
  {
   "cell_type": "code",
   "execution_count": 15,
   "metadata": {},
   "outputs": [
    {
     "data": {
      "text/plain": [
       "1952540"
      ]
     },
     "execution_count": 15,
     "metadata": {},
     "output_type": "execute_result"
    }
   ],
   "source": [
    "bus.shape[0]"
   ]
  },
  {
   "cell_type": "markdown",
   "metadata": {},
   "source": [
    "### Use index of validation set to create array of topic vectors for train set"
   ]
  },
  {
   "cell_type": "code",
   "execution_count": 16,
   "metadata": {},
   "outputs": [],
   "source": [
    "valid_index = bus[bus['usefulness'] == 'Validation'].index"
   ]
  },
  {
   "cell_type": "code",
   "execution_count": 17,
   "metadata": {},
   "outputs": [
    {
     "data": {
      "text/plain": [
       "Int64Index([      3,       4,       5,       7,       9,      17,      19,\n",
       "                 21,      25,      27,\n",
       "            ...\n",
       "            1952513, 1952514, 1952515, 1952518, 1952521, 1952523, 1952526,\n",
       "            1952527, 1952529, 1952539],\n",
       "           dtype='int64', length=635308)"
      ]
     },
     "execution_count": 17,
     "metadata": {},
     "output_type": "execute_result"
    }
   ],
   "source": [
    "valid_index"
   ]
  },
  {
   "cell_type": "code",
   "execution_count": 19,
   "metadata": {},
   "outputs": [
    {
     "data": {
      "text/plain": [
       "(635308, 325)"
      ]
     },
     "execution_count": 19,
     "metadata": {},
     "output_type": "execute_result"
    }
   ],
   "source": [
    "right_matrix_valid = right_matrix[valid_index]\n",
    "right_matrix_valid.shape"
   ]
  },
  {
   "cell_type": "code",
   "execution_count": 18,
   "metadata": {
    "scrolled": true
   },
   "outputs": [],
   "source": [
    "right_matrix_train = np.delete(right_matrix, valid_index, axis=0)"
   ]
  },
  {
   "cell_type": "code",
   "execution_count": 24,
   "metadata": {},
   "outputs": [
    {
     "data": {
      "text/plain": [
       "(1317232, 325)"
      ]
     },
     "execution_count": 24,
     "metadata": {},
     "output_type": "execute_result"
    }
   ],
   "source": [
    "right_matrix_train.shape"
   ]
  },
  {
   "cell_type": "markdown",
   "metadata": {},
   "source": [
    "### Create the validation and train datasets and save to csv"
   ]
  },
  {
   "cell_type": "code",
   "execution_count": null,
   "metadata": {},
   "outputs": [],
   "source": [
    "bus_valid_set = bus[bus.index.isin(valid_index)]\n",
    "\n",
    "bus_valid_set.to_csv('../data/businesses_validation.csv', index=False)"
   ]
  },
  {
   "cell_type": "code",
   "execution_count": 20,
   "metadata": {},
   "outputs": [],
   "source": [
    "bus_train = bus[~bus.index.isin(valid_index)]"
   ]
  },
  {
   "cell_type": "code",
   "execution_count": 22,
   "metadata": {},
   "outputs": [],
   "source": [
    "bus_train.to_csv('../data/businesses_train.csv', index=False)"
   ]
  },
  {
   "cell_type": "code",
   "execution_count": 23,
   "metadata": {},
   "outputs": [
    {
     "data": {
      "text/plain": [
       "(1317232, 29)"
      ]
     },
     "execution_count": 23,
     "metadata": {},
     "output_type": "execute_result"
    }
   ],
   "source": [
    "bus_train.values.shape"
   ]
  },
  {
   "cell_type": "markdown",
   "metadata": {},
   "source": [
    "### Create train feature vector\n",
    "\n",
    "We drop `text`, `useful`, `cool`, and `state` from the feature vectors."
   ]
  },
  {
   "cell_type": "code",
   "execution_count": 26,
   "metadata": {},
   "outputs": [
    {
     "name": "stderr",
     "output_type": "stream",
     "text": [
      "/opt/conda/lib/python3.6/site-packages/ipykernel_launcher.py:1: SettingWithCopyWarning: \n",
      "A value is trying to be set on a copy of a slice from a DataFrame\n",
      "\n",
      "See the caveats in the documentation: http://pandas.pydata.org/pandas-docs/stable/indexing.html#indexing-view-versus-copy\n",
      "  \"\"\"Entry point for launching an IPython kernel.\n"
     ]
    }
   ],
   "source": [
    "bus_train.drop(['text', 'useful', 'cool', 'state'], 1, inplace=True)\n",
    "\n",
    "left_matrix_train = bus_train[bus_train.columns[:-1]].values\n",
    "\n",
    "left_matrix_train.shape, right_matrix_train.shape\n",
    "\n",
    "del bus, bus_train, correct_index, dt_matrix, right_matrix\n",
    "\n",
    "features = np.hstack((left_matrix_train, right_matrix_train))"
   ]
  },
  {
   "cell_type": "code",
   "execution_count": 36,
   "metadata": {},
   "outputs": [],
   "source": [
    "np.save('../data/businesses_train_features.npy', features)"
   ]
  },
  {
   "cell_type": "markdown",
   "metadata": {},
   "source": [
    "### Create validation feature vector"
   ]
  },
  {
   "cell_type": "code",
   "execution_count": 20,
   "metadata": {},
   "outputs": [],
   "source": [
    "bus_valid = pd.read_csv('../data/businesses_validation.csv')\n",
    "\n",
    "bus_valid.columns\n",
    "\n",
    "bus_valid.drop(['text', 'useful', 'cool', 'state'], 1, inplace=True)\n",
    "\n",
    "left_matrix_valid = bus_valid[bus_valid.columns[:-1]].values\n",
    "\n",
    "left_matrix_valid.shape, right_matrix_valid.shape\n",
    "\n",
    "del bus, bus_valid, correct_index, dt_matrix, right_matrix\n",
    "\n",
    "valid_features = np.hstack((left_matrix_valid, right_matrix_valid))\n",
    "\n",
    "np.save('../data/valid_features.npy', valid_features)"
   ]
  },
  {
   "cell_type": "markdown",
   "metadata": {},
   "source": [
    "### Create train target vector"
   ]
  },
  {
   "cell_type": "code",
   "execution_count": 37,
   "metadata": {},
   "outputs": [],
   "source": [
    "bus_train = pd.read_csv('../data/businesses_train.csv')"
   ]
  },
  {
   "cell_type": "code",
   "execution_count": 41,
   "metadata": {},
   "outputs": [],
   "source": [
    "np.save('../data/business_target.npy', bus_train.usefulness.values)"
   ]
  }
 ],
 "metadata": {
  "kernelspec": {
   "display_name": "Python 3",
   "language": "python",
   "name": "python3"
  },
  "language_info": {
   "codemirror_mode": {
    "name": "ipython",
    "version": 3
   },
   "file_extension": ".py",
   "mimetype": "text/x-python",
   "name": "python",
   "nbconvert_exporter": "python",
   "pygments_lexer": "ipython3",
   "version": "3.6.2"
  }
 },
 "nbformat": 4,
 "nbformat_minor": 2
}
