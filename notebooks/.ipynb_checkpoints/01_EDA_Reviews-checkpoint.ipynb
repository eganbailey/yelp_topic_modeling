{
 "cells": [
  {
   "cell_type": "markdown",
   "metadata": {},
   "source": [
    "# EDA for Reviews\n",
    "\n",
    "In this notebook, I explore the Yelp reviews dataset, obtain summary statistics about the reviews, and generate visualizations for the distribution of values related to reviews. Because Yelp is primarily used for restaurant reviews and discussion, I choose to separate the review text into two corpora: one for businesses tagged with the `restaurant` tag and one for those without the `restaurant` tag.\n",
    "\n",
    "## Import modules"
   ]
  },
  {
   "cell_type": "code",
   "execution_count": 1,
   "metadata": {},
   "outputs": [],
   "source": [
    "%run .engine.py"
   ]
  },
  {
   "cell_type": "code",
   "execution_count": 2,
   "metadata": {},
   "outputs": [
    {
     "name": "stderr",
     "output_type": "stream",
     "text": [
      "/opt/conda/lib/python3.6/site-packages/psycopg2/__init__.py:144: UserWarning: The psycopg2 wheel package will be renamed from release 2.8; in order to keep installing from binary please use \"pip install psycopg2-binary\" instead. For details see: <http://initd.org/psycopg/docs/install.html#binary-install-from-pypi>.\n",
      "  \"\"\")\n"
     ]
    }
   ],
   "source": [
    "import pandas as pd\n",
    "import numpy as np\n",
    "from sqlalchemy import create_engine\n",
    "import matplotlib.pyplot as plt\n",
    "import seaborn as sns\n",
    "\n",
    "plt.style.use('fivethirtyeight')\n",
    "\n",
    "engine = create_engine(LOGIN)"
   ]
  },
  {
   "cell_type": "markdown",
   "metadata": {},
   "source": [
    "## Query data\n",
    "\n",
    "Data for this project is stored on a PostgreSQL database hosted on an AWS t2.micro instance."
   ]
  },
  {
   "cell_type": "code",
   "execution_count": 3,
   "metadata": {},
   "outputs": [
    {
     "data": {
      "text/plain": [
       "(5261668, 7)"
      ]
     },
     "execution_count": 3,
     "metadata": {},
     "output_type": "execute_result"
    }
   ],
   "source": [
    "query = \"\"\"\n",
    "SELECT reviews.stars as stars, \n",
    "reviews.text as text, \n",
    "reviews.useful as useful, \n",
    "reviews.funny as funny, \n",
    "reviews.cool as cool,\n",
    "business.state as state,\n",
    "business.categories as categories\n",
    "FROM reviews\n",
    "INNER JOIN business ON reviews.business_id = business.business_id\n",
    "\"\"\"\n",
    "\n",
    "df = pd.read_sql_query(query, engine)\n",
    "df.shape"
   ]
  },
  {
   "cell_type": "markdown",
   "metadata": {},
   "source": [
    "There are approxmiately 5.2 million reviews."
   ]
  },
  {
   "cell_type": "markdown",
   "metadata": {},
   "source": [
    "## Add individual category columns, rename all categories to lowercase and remove '&' symbols\n",
    "\n",
    "Since the business category may influence how users interact with individual businesses pages and therefore with the characteristics of reviews written, I create a set of boolean columns identifying which categories the business each review is for is associated with."
   ]
  },
  {
   "cell_type": "code",
   "execution_count": 4,
   "metadata": {},
   "outputs": [],
   "source": [
    "yelpcats = ['Active Life', 'Arts & Entertainment', 'Automotive', \n",
    "            'Beauty & Spas', 'Education', 'Event Planning & Services' , \n",
    "            'Financial Services', 'Food', 'Health & Medical', 'Home Services', \n",
    "            'Hotels & Travel', 'Local Flavor', 'Local Services', 'Mass Media', \n",
    "            'Nightlife', 'Pets', 'Professional Services', 'Public Services & Government',\n",
    "            'Real estate', 'Religious Organizations', 'Restaurants',\n",
    "            'Shopping']"
   ]
  },
  {
   "cell_type": "code",
   "execution_count": 5,
   "metadata": {},
   "outputs": [],
   "source": [
    "for i in yelpcats:\n",
    "    df[i] = df['categories'].map(lambda x: i in x).astype(int)"
   ]
  },
  {
   "cell_type": "code",
   "execution_count": 6,
   "metadata": {},
   "outputs": [],
   "source": [
    "df.columns = df.columns.map(lambda x: x.lower().replace(' ','_').replace('&', 'and'))"
   ]
  },
  {
   "cell_type": "code",
   "execution_count": 7,
   "metadata": {},
   "outputs": [],
   "source": [
    "df.drop(['categories'], 1,inplace=True)"
   ]
  },
  {
   "cell_type": "code",
   "execution_count": 8,
   "metadata": {},
   "outputs": [
    {
     "data": {
      "text/html": [
       "<div>\n",
       "<table border=\"1\" class=\"dataframe\">\n",
       "  <thead>\n",
       "    <tr style=\"text-align: right;\">\n",
       "      <th></th>\n",
       "      <th>stars</th>\n",
       "      <th>text</th>\n",
       "      <th>useful</th>\n",
       "      <th>funny</th>\n",
       "      <th>cool</th>\n",
       "      <th>state</th>\n",
       "      <th>active_life</th>\n",
       "      <th>arts_and_entertainment</th>\n",
       "      <th>automotive</th>\n",
       "      <th>beauty_and_spas</th>\n",
       "      <th>...</th>\n",
       "      <th>local_services</th>\n",
       "      <th>mass_media</th>\n",
       "      <th>nightlife</th>\n",
       "      <th>pets</th>\n",
       "      <th>professional_services</th>\n",
       "      <th>public_services_and_government</th>\n",
       "      <th>real_estate</th>\n",
       "      <th>religious_organizations</th>\n",
       "      <th>restaurants</th>\n",
       "      <th>shopping</th>\n",
       "    </tr>\n",
       "  </thead>\n",
       "  <tbody>\n",
       "    <tr>\n",
       "      <th>0</th>\n",
       "      <td>5.0</td>\n",
       "      <td>Lester's is located in a beautiful neighborhoo...</td>\n",
       "      <td>0</td>\n",
       "      <td>0</td>\n",
       "      <td>0</td>\n",
       "      <td>QC</td>\n",
       "      <td>0</td>\n",
       "      <td>0</td>\n",
       "      <td>0</td>\n",
       "      <td>0</td>\n",
       "      <td>...</td>\n",
       "      <td>0</td>\n",
       "      <td>0</td>\n",
       "      <td>0</td>\n",
       "      <td>0</td>\n",
       "      <td>0</td>\n",
       "      <td>0</td>\n",
       "      <td>0</td>\n",
       "      <td>0</td>\n",
       "      <td>1</td>\n",
       "      <td>0</td>\n",
       "    </tr>\n",
       "    <tr>\n",
       "      <th>1</th>\n",
       "      <td>4.0</td>\n",
       "      <td>Who would have guess that you would be able to...</td>\n",
       "      <td>0</td>\n",
       "      <td>0</td>\n",
       "      <td>2</td>\n",
       "      <td>ON</td>\n",
       "      <td>0</td>\n",
       "      <td>0</td>\n",
       "      <td>0</td>\n",
       "      <td>0</td>\n",
       "      <td>...</td>\n",
       "      <td>0</td>\n",
       "      <td>0</td>\n",
       "      <td>0</td>\n",
       "      <td>0</td>\n",
       "      <td>0</td>\n",
       "      <td>0</td>\n",
       "      <td>0</td>\n",
       "      <td>0</td>\n",
       "      <td>1</td>\n",
       "      <td>0</td>\n",
       "    </tr>\n",
       "    <tr>\n",
       "      <th>2</th>\n",
       "      <td>3.0</td>\n",
       "      <td>Not bad!! Love that there is a gluten-free, ve...</td>\n",
       "      <td>1</td>\n",
       "      <td>0</td>\n",
       "      <td>0</td>\n",
       "      <td>ON</td>\n",
       "      <td>0</td>\n",
       "      <td>0</td>\n",
       "      <td>0</td>\n",
       "      <td>0</td>\n",
       "      <td>...</td>\n",
       "      <td>0</td>\n",
       "      <td>0</td>\n",
       "      <td>0</td>\n",
       "      <td>0</td>\n",
       "      <td>0</td>\n",
       "      <td>0</td>\n",
       "      <td>0</td>\n",
       "      <td>0</td>\n",
       "      <td>1</td>\n",
       "      <td>0</td>\n",
       "    </tr>\n",
       "    <tr>\n",
       "      <th>3</th>\n",
       "      <td>4.0</td>\n",
       "      <td>a must stop when you are in montreal!\\n\\nI was...</td>\n",
       "      <td>0</td>\n",
       "      <td>0</td>\n",
       "      <td>0</td>\n",
       "      <td>QC</td>\n",
       "      <td>0</td>\n",
       "      <td>0</td>\n",
       "      <td>0</td>\n",
       "      <td>0</td>\n",
       "      <td>...</td>\n",
       "      <td>0</td>\n",
       "      <td>0</td>\n",
       "      <td>0</td>\n",
       "      <td>0</td>\n",
       "      <td>0</td>\n",
       "      <td>0</td>\n",
       "      <td>0</td>\n",
       "      <td>0</td>\n",
       "      <td>1</td>\n",
       "      <td>0</td>\n",
       "    </tr>\n",
       "    <tr>\n",
       "      <th>4</th>\n",
       "      <td>1.0</td>\n",
       "      <td>I too have been trying to book an appt to use ...</td>\n",
       "      <td>0</td>\n",
       "      <td>0</td>\n",
       "      <td>0</td>\n",
       "      <td>ON</td>\n",
       "      <td>0</td>\n",
       "      <td>0</td>\n",
       "      <td>0</td>\n",
       "      <td>1</td>\n",
       "      <td>...</td>\n",
       "      <td>0</td>\n",
       "      <td>0</td>\n",
       "      <td>0</td>\n",
       "      <td>0</td>\n",
       "      <td>0</td>\n",
       "      <td>0</td>\n",
       "      <td>0</td>\n",
       "      <td>0</td>\n",
       "      <td>0</td>\n",
       "      <td>0</td>\n",
       "    </tr>\n",
       "  </tbody>\n",
       "</table>\n",
       "<p>5 rows × 28 columns</p>\n",
       "</div>"
      ],
      "text/plain": [
       "   stars                                               text  useful  funny  \\\n",
       "0    5.0  Lester's is located in a beautiful neighborhoo...       0      0   \n",
       "1    4.0  Who would have guess that you would be able to...       0      0   \n",
       "2    3.0  Not bad!! Love that there is a gluten-free, ve...       1      0   \n",
       "3    4.0  a must stop when you are in montreal!\\n\\nI was...       0      0   \n",
       "4    1.0  I too have been trying to book an appt to use ...       0      0   \n",
       "\n",
       "   cool state  active_life  arts_and_entertainment  automotive  \\\n",
       "0     0    QC            0                       0           0   \n",
       "1     2    ON            0                       0           0   \n",
       "2     0    ON            0                       0           0   \n",
       "3     0    QC            0                       0           0   \n",
       "4     0    ON            0                       0           0   \n",
       "\n",
       "   beauty_and_spas    ...     local_services  mass_media  nightlife  pets  \\\n",
       "0                0    ...                  0           0          0     0   \n",
       "1                0    ...                  0           0          0     0   \n",
       "2                0    ...                  0           0          0     0   \n",
       "3                0    ...                  0           0          0     0   \n",
       "4                1    ...                  0           0          0     0   \n",
       "\n",
       "   professional_services  public_services_and_government  real_estate  \\\n",
       "0                      0                               0            0   \n",
       "1                      0                               0            0   \n",
       "2                      0                               0            0   \n",
       "3                      0                               0            0   \n",
       "4                      0                               0            0   \n",
       "\n",
       "   religious_organizations  restaurants  shopping  \n",
       "0                        0            1         0  \n",
       "1                        0            1         0  \n",
       "2                        0            1         0  \n",
       "3                        0            1         0  \n",
       "4                        0            0         0  \n",
       "\n",
       "[5 rows x 28 columns]"
      ]
     },
     "execution_count": 8,
     "metadata": {},
     "output_type": "execute_result"
    }
   ],
   "source": [
    "df.head()"
   ]
  },
  {
   "cell_type": "markdown",
   "metadata": {},
   "source": [
    "## Create review word count column\n",
    "\n",
    "I also include a feature for the word count of each review as longer, substantial reviews may be more likely to be rated useful by users."
   ]
  },
  {
   "cell_type": "code",
   "execution_count": 9,
   "metadata": {},
   "outputs": [],
   "source": [
    "df['review_length'] = df['text'].map(lambda x: len(x.split(' ')))"
   ]
  },
  {
   "cell_type": "markdown",
   "metadata": {},
   "source": [
    "## Drop reviews from non-English regions\n",
    "\n",
    "The reviews are sourced from the following cities: Edinburgh (UK), Stuttgart (Germany), Montreal (Canada), Toronto (Canada), Pittsburgh , Charlotte, Champaign-Urbana, Phoenix, Las Vegas, Madison, and Cleveland. \n",
    "\n",
    "To attempt to control unexpected input to any text-based model, I chose to eliminate reviews from Edinburgh, Stuttgart, and Montreal as businesses in those metropolitan areas are more likely to have reviewers writing reviews in non-English languages. We will add another language-based filter based on character usage in the text processing notebook."
   ]
  },
  {
   "cell_type": "code",
   "execution_count": 10,
   "metadata": {},
   "outputs": [
    {
     "data": {
      "text/plain": [
       "NV     1824442\n",
       "AZ     1627792\n",
       "ON      634366\n",
       "NC      307665\n",
       "OH      243768\n",
       "PA      229850\n",
       "QC      146371\n",
       "WI      109751\n",
       "EDH      47889\n",
       "IL       36467\n",
       "BW       35400\n",
       "SC       10860\n",
       "MLN       1851\n",
       "HLD       1288\n",
       "NYK        733\n",
       "CHE        727\n",
       "FL         557\n",
       "FIF        362\n",
       "ELN        236\n",
       "C          202\n",
       "Name: state, dtype: int64"
      ]
     },
     "execution_count": 10,
     "metadata": {},
     "output_type": "execute_result"
    }
   ],
   "source": [
    "df['state'].value_counts().head(20)"
   ]
  },
  {
   "cell_type": "code",
   "execution_count": 11,
   "metadata": {},
   "outputs": [],
   "source": [
    "states_to_keep = ['NV', 'AZ', 'ON', 'NC', 'OH', 'PA', 'WI', 'IL', 'SC']"
   ]
  },
  {
   "cell_type": "code",
   "execution_count": 12,
   "metadata": {},
   "outputs": [],
   "source": [
    "df = df[df.state.isin(states_to_keep)]"
   ]
  },
  {
   "cell_type": "code",
   "execution_count": 13,
   "metadata": {},
   "outputs": [
    {
     "data": {
      "text/plain": [
       "(5024961, 29)"
      ]
     },
     "execution_count": 13,
     "metadata": {},
     "output_type": "execute_result"
    }
   ],
   "source": [
    "df.shape"
   ]
  },
  {
   "cell_type": "markdown",
   "metadata": {},
   "source": [
    "## Save the data "
   ]
  },
  {
   "cell_type": "code",
   "execution_count": 15,
   "metadata": {},
   "outputs": [],
   "source": [
    "restaurants = df[df['restaurants']==1]"
   ]
  },
  {
   "cell_type": "code",
   "execution_count": 28,
   "metadata": {},
   "outputs": [],
   "source": [
    "restaurants.to_csv('../data/restaurants.csv', index=False, compression='gzip')"
   ]
  },
  {
   "cell_type": "code",
   "execution_count": 29,
   "metadata": {},
   "outputs": [],
   "source": [
    "businesses = df[df['restaurants']==0]"
   ]
  },
  {
   "cell_type": "code",
   "execution_count": 30,
   "metadata": {},
   "outputs": [],
   "source": [
    "businesses.to_csv('../data/businesses.csv', index=False, compression='gzip')"
   ]
  },
  {
   "cell_type": "markdown",
   "metadata": {},
   "source": [
    "## Examining the useful votes"
   ]
  },
  {
   "cell_type": "code",
   "execution_count": 10,
   "metadata": {
    "scrolled": false
   },
   "outputs": [
    {
     "data": {
      "text/plain": [
       "2.8952405583059813"
      ]
     },
     "execution_count": 10,
     "metadata": {},
     "output_type": "execute_result"
    }
   ],
   "source": [
    "df[df['useful']>0]['useful'].mean()"
   ]
  },
  {
   "cell_type": "markdown",
   "metadata": {},
   "source": [
    "The average number of useful votes for any review with at least 1 useful votes was just under 3 useful votes."
   ]
  },
  {
   "cell_type": "code",
   "execution_count": 22,
   "metadata": {},
   "outputs": [
    {
     "data": {
      "text/plain": [
       "(0, 20)"
      ]
     },
     "execution_count": 22,
     "metadata": {},
     "output_type": "execute_result"
    },
    {
     "data": {
      "image/png": "[encoded data removed]",
      "text/plain": [
       "<matplotlib.figure.Figure at 0x7f7220122978>"
      ]
     },
     "metadata": {},
     "output_type": "display_data"
    }
   ],
   "source": [
    "df[df['useful'] > 0]['useful'].hist(bins=1500)\n",
    "plt.xticks(range(0, 20, 1))\n",
    "plt.xlim(0, 20)"
   ]
  },
  {
   "cell_type": "markdown",
   "metadata": {},
   "source": [
    "We see that a vast majority of reviews with any useful votes have between 1 and 3 votes."
   ]
  },
  {
   "cell_type": "code",
   "execution_count": 46,
   "metadata": {},
   "outputs": [
    {
     "data": {
      "text/plain": [
       "(0, 8)"
      ]
     },
     "execution_count": 46,
     "metadata": {},
     "output_type": "execute_result"
    },
    {
     "data": {
      "image/png": "[encoded data removed]",
      "text/plain": [
       "<matplotlib.figure.Figure at 0x7f4c932080f0>"
      ]
     },
     "metadata": {},
     "output_type": "display_data"
    }
   ],
   "source": [
    "sns.boxplot(df['useful'])\n",
    "plt.xlim(0, 8)"
   ]
  },
  {
   "cell_type": "markdown",
   "metadata": {},
   "source": [
    "The above boxplot that excludes outliers shows that the 75th percentile for useful votes among 'useful' reviews is around 5 votes."
   ]
  },
  {
   "cell_type": "markdown",
   "metadata": {},
   "source": [
    "## Useful votes by category"
   ]
  },
  {
   "cell_type": "code",
   "execution_count": 71,
   "metadata": {},
   "outputs": [],
   "source": [
    "means = []\n",
    "medians = []\n",
    "stds = []\n",
    "votes = []\n",
    "for col in df.columns[5:-1]:\n",
    "    means.append(df[df[col]==True]['useful'].mean())\n",
    "    medians.append(df[df[col]==True]['useful'].median())\n",
    "    stds.append(df[df[col]==True]['useful'].std())\n",
    "    votes.append(df[df[col]==True]['useful'].sum())"
   ]
  },
  {
   "cell_type": "code",
   "execution_count": 76,
   "metadata": {},
   "outputs": [],
   "source": [
    "summary = pd.DataFrame(index=df.columns[5:-1], data={'mean':means, 'std':stds, 'median':medians, 'votes':votes}).sort_values(by='votes', ascending=False)"
   ]
  },
  {
   "cell_type": "code",
   "execution_count": 77,
   "metadata": {},
   "outputs": [
    {
     "data": {
      "text/html": [
       "<div>\n",
       "<table border=\"1\" class=\"dataframe\">\n",
       "  <thead>\n",
       "    <tr style=\"text-align: right;\">\n",
       "      <th></th>\n",
       "      <th>mean</th>\n",
       "      <th>median</th>\n",
       "      <th>std</th>\n",
       "      <th>votes</th>\n",
       "    </tr>\n",
       "  </thead>\n",
       "  <tbody>\n",
       "    <tr>\n",
       "      <th>restaurants</th>\n",
       "      <td>1.136222</td>\n",
       "      <td>0.0</td>\n",
       "      <td>4.833013</td>\n",
       "      <td>3660246</td>\n",
       "    </tr>\n",
       "    <tr>\n",
       "      <th>food</th>\n",
       "      <td>1.252145</td>\n",
       "      <td>0.0</td>\n",
       "      <td>7.265769</td>\n",
       "      <td>1478806</td>\n",
       "    </tr>\n",
       "    <tr>\n",
       "      <th>nightlife</th>\n",
       "      <td>1.261186</td>\n",
       "      <td>0.0</td>\n",
       "      <td>3.019788</td>\n",
       "      <td>1106504</td>\n",
       "    </tr>\n",
       "    <tr>\n",
       "      <th>shopping</th>\n",
       "      <td>1.757720</td>\n",
       "      <td>1.0</td>\n",
       "      <td>3.693618</td>\n",
       "      <td>676100</td>\n",
       "    </tr>\n",
       "    <tr>\n",
       "      <th>event_planning_and_services</th>\n",
       "      <td>1.426759</td>\n",
       "      <td>0.0</td>\n",
       "      <td>3.197093</td>\n",
       "      <td>552280</td>\n",
       "    </tr>\n",
       "    <tr>\n",
       "      <th>arts_and_entertainment</th>\n",
       "      <td>1.710420</td>\n",
       "      <td>1.0</td>\n",
       "      <td>3.685752</td>\n",
       "      <td>546474</td>\n",
       "    </tr>\n",
       "    <tr>\n",
       "      <th>beauty_and_spas</th>\n",
       "      <td>1.548509</td>\n",
       "      <td>1.0</td>\n",
       "      <td>3.403828</td>\n",
       "      <td>492802</td>\n",
       "    </tr>\n",
       "    <tr>\n",
       "      <th>hotels_and_travel</th>\n",
       "      <td>1.712217</td>\n",
       "      <td>1.0</td>\n",
       "      <td>4.173482</td>\n",
       "      <td>454883</td>\n",
       "    </tr>\n",
       "    <tr>\n",
       "      <th>home_services</th>\n",
       "      <td>2.211448</td>\n",
       "      <td>1.0</td>\n",
       "      <td>4.826243</td>\n",
       "      <td>454561</td>\n",
       "    </tr>\n",
       "    <tr>\n",
       "      <th>health_and_medical</th>\n",
       "      <td>2.108439</td>\n",
       "      <td>1.0</td>\n",
       "      <td>4.554825</td>\n",
       "      <td>374328</td>\n",
       "    </tr>\n",
       "    <tr>\n",
       "      <th>active_life</th>\n",
       "      <td>1.966783</td>\n",
       "      <td>1.0</td>\n",
       "      <td>3.911185</td>\n",
       "      <td>319673</td>\n",
       "    </tr>\n",
       "    <tr>\n",
       "      <th>automotive</th>\n",
       "      <td>1.588209</td>\n",
       "      <td>0.0</td>\n",
       "      <td>3.306506</td>\n",
       "      <td>303429</td>\n",
       "    </tr>\n",
       "    <tr>\n",
       "      <th>local_services</th>\n",
       "      <td>1.764676</td>\n",
       "      <td>1.0</td>\n",
       "      <td>4.160988</td>\n",
       "      <td>261825</td>\n",
       "    </tr>\n",
       "    <tr>\n",
       "      <th>pets</th>\n",
       "      <td>2.126860</td>\n",
       "      <td>1.0</td>\n",
       "      <td>4.919910</td>\n",
       "      <td>126344</td>\n",
       "    </tr>\n",
       "    <tr>\n",
       "      <th>professional_services</th>\n",
       "      <td>2.145738</td>\n",
       "      <td>1.0</td>\n",
       "      <td>5.081433</td>\n",
       "      <td>118552</td>\n",
       "    </tr>\n",
       "    <tr>\n",
       "      <th>education</th>\n",
       "      <td>2.593087</td>\n",
       "      <td>1.0</td>\n",
       "      <td>5.679338</td>\n",
       "      <td>79670</td>\n",
       "    </tr>\n",
       "    <tr>\n",
       "      <th>local_flavor</th>\n",
       "      <td>1.756708</td>\n",
       "      <td>1.0</td>\n",
       "      <td>4.164383</td>\n",
       "      <td>60884</td>\n",
       "    </tr>\n",
       "    <tr>\n",
       "      <th>public_services_and_government</th>\n",
       "      <td>2.127409</td>\n",
       "      <td>1.0</td>\n",
       "      <td>4.564829</td>\n",
       "      <td>47354</td>\n",
       "    </tr>\n",
       "    <tr>\n",
       "      <th>financial_services</th>\n",
       "      <td>2.174840</td>\n",
       "      <td>1.0</td>\n",
       "      <td>5.294185</td>\n",
       "      <td>44482</td>\n",
       "    </tr>\n",
       "    <tr>\n",
       "      <th>religious_organizations</th>\n",
       "      <td>3.240904</td>\n",
       "      <td>1.0</td>\n",
       "      <td>5.231077</td>\n",
       "      <td>13628</td>\n",
       "    </tr>\n",
       "    <tr>\n",
       "      <th>mass_media</th>\n",
       "      <td>2.312352</td>\n",
       "      <td>1.0</td>\n",
       "      <td>4.266413</td>\n",
       "      <td>5878</td>\n",
       "    </tr>\n",
       "    <tr>\n",
       "      <th>real_estate</th>\n",
       "      <td>NaN</td>\n",
       "      <td>NaN</td>\n",
       "      <td>NaN</td>\n",
       "      <td>0</td>\n",
       "    </tr>\n",
       "  </tbody>\n",
       "</table>\n",
       "</div>"
      ],
      "text/plain": [
       "                                    mean  median       std    votes\n",
       "restaurants                     1.136222     0.0  4.833013  3660246\n",
       "food                            1.252145     0.0  7.265769  1478806\n",
       "nightlife                       1.261186     0.0  3.019788  1106504\n",
       "shopping                        1.757720     1.0  3.693618   676100\n",
       "event_planning_and_services     1.426759     0.0  3.197093   552280\n",
       "arts_and_entertainment          1.710420     1.0  3.685752   546474\n",
       "beauty_and_spas                 1.548509     1.0  3.403828   492802\n",
       "hotels_and_travel               1.712217     1.0  4.173482   454883\n",
       "home_services                   2.211448     1.0  4.826243   454561\n",
       "health_and_medical              2.108439     1.0  4.554825   374328\n",
       "active_life                     1.966783     1.0  3.911185   319673\n",
       "automotive                      1.588209     0.0  3.306506   303429\n",
       "local_services                  1.764676     1.0  4.160988   261825\n",
       "pets                            2.126860     1.0  4.919910   126344\n",
       "professional_services           2.145738     1.0  5.081433   118552\n",
       "education                       2.593087     1.0  5.679338    79670\n",
       "local_flavor                    1.756708     1.0  4.164383    60884\n",
       "public_services_and_government  2.127409     1.0  4.564829    47354\n",
       "financial_services              2.174840     1.0  5.294185    44482\n",
       "religious_organizations         3.240904     1.0  5.231077    13628\n",
       "mass_media                      2.312352     1.0  4.266413     5878\n",
       "real_estate                          NaN     NaN       NaN        0"
      ]
     },
     "execution_count": 77,
     "metadata": {},
     "output_type": "execute_result"
    }
   ],
   "source": [
    "summary"
   ]
  },
  {
   "cell_type": "markdown",
   "metadata": {},
   "source": [
    "First, we see that restaurants and food have the majority of useful votes, which is consistent with our knowledge that Yelp is primarily used for restaurant reviews. We also see that the real estate category has no useful votes. We will thus drop reviews for real estate businesses."
   ]
  },
  {
   "cell_type": "code",
   "execution_count": 14,
   "metadata": {},
   "outputs": [],
   "source": [
    "df.drop('real_estate', 1, inplace=True)"
   ]
  },
  {
   "cell_type": "markdown",
   "metadata": {},
   "source": [
    "# Visualizations"
   ]
  },
  {
   "cell_type": "code",
   "execution_count": 41,
   "metadata": {
    "scrolled": true
   },
   "outputs": [],
   "source": [
    "df['is_useful'] = (df['useful'] > 0).astype(int)"
   ]
  },
  {
   "cell_type": "code",
   "execution_count": 24,
   "metadata": {},
   "outputs": [
    {
     "data": {
      "text/plain": [
       "<matplotlib.axes._subplots.AxesSubplot at 0x7fb59f248a90>"
      ]
     },
     "execution_count": 24,
     "metadata": {},
     "output_type": "execute_result"
    },
    {
     "data": {
      "image/png": "[encoded data removed]",
      "text/plain": [
       "<matplotlib.figure.Figure at 0x7fb5ab7b3e48>"
      ]
     },
     "metadata": {},
     "output_type": "display_data"
    }
   ],
   "source": [
    "plt.figure(figsize=(12, 8))\n",
    "sns.boxplot('review_length', 'is_useful', data=df, orient='h')"
   ]
  },
  {
   "cell_type": "markdown",
   "metadata": {},
   "source": [
    "We can see that several reviews are much longer than the rest. Since we don't want those reviews to dominate the text analysis (especially if those reviews use the same words many times), we should consider dropping those observations."
   ]
  },
  {
   "cell_type": "code",
   "execution_count": 32,
   "metadata": {},
   "outputs": [
    {
     "data": {
      "text/plain": [
       "([<matplotlib.axis.YTick at 0x7fb566c04cc0>,\n",
       "  <matplotlib.axis.YTick at 0x7fb59675c9b0>],\n",
       " <a list of 2 Text yticklabel objects>)"
      ]
     },
     "execution_count": 32,
     "metadata": {},
     "output_type": "execute_result"
    },
    {
     "data": {
      "image/png": "[encoded data removed]",
      "text/plain": [
       "<matplotlib.figure.Figure at 0x7fb59534d908>"
      ]
     },
     "metadata": {},
     "output_type": "display_data"
    }
   ],
   "source": [
    "plt.figure(figsize=(12, 8))\n",
    "sns.boxplot('review_length', 'is_useful', data=df, orient='h')\n",
    "plt.xlim(0, 1000)\n",
    "plt.yticks([0, 1], ['Not Useful', 'Useful'])"
   ]
  },
  {
   "cell_type": "markdown",
   "metadata": {},
   "source": [
    "If we look at reviews and cap the review length at 1000 words, we see that in general useful reviews seem to be a little bit longer than the not useful reviews. "
   ]
  },
  {
   "cell_type": "markdown",
   "metadata": {},
   "source": [
    "## Review length by star rating"
   ]
  },
  {
   "cell_type": "code",
   "execution_count": 61,
   "metadata": {},
   "outputs": [
    {
     "name": "stderr",
     "output_type": "stream",
     "text": [
      "/opt/conda/lib/python3.6/site-packages/seaborn/categorical.py:2171: UserWarning: The boxplot API has been changed. Attempting to adjust your arguments for the new API (which might not work). Please update your code. See the version 0.6 release notes for more info.\n",
      "  warnings.warn(msg, UserWarning)\n"
     ]
    },
    {
     "data": {
      "image/png": "[encoded data removed]",
      "text/plain": [
       "<matplotlib.figure.Figure at 0x7fb592875160>"
      ]
     },
     "metadata": {},
     "output_type": "display_data"
    },
    {
     "data": {
      "image/png": "[encoded data removed]",
      "text/plain": [
       "<matplotlib.figure.Figure at 0x7fb584bb2be0>"
      ]
     },
     "metadata": {},
     "output_type": "display_data"
    }
   ],
   "source": [
    "plt.subplots(figsize=(12, 10), sharex=True, sharey=True)\n",
    "for i in range(1, 6, 1):\n",
    "    plt.subplot(5, 1, i) \n",
    "    sns.boxplot(df[(df['is_useful']==1) & (df['stars'] == i)], df[(df['is_useful']==1) & (df['stars'] == i)]['review_length'], orient='h')\n",
    "    plt.ylabel(str(i)+' stars')\n",
    "    plt.xlim(0, 1000)\n",
    "plt.subplots(figsize=(12, 10), sharex=True, sharey=True)\n",
    "for i in range(1, 6, 1):\n",
    "    plt.subplot(5, 1, i) \n",
    "    sns.boxplot(df[(df['is_useful']==0) & (df['stars'] == i)], df[(df['is_useful']==0) & (df['stars'] == i)]['review_length'], orient='h', color='orange')\n",
    "    plt.ylabel(str(i)+' stars')\n",
    "    plt.xlim(0, 1000)"
   ]
  },
  {
   "cell_type": "markdown",
   "metadata": {},
   "source": [
    "We can see that overall 5 star reviews seem to be shorter on average, with 'not useful' reviews being shorter than 'useful' reviews.\n",
    "\n",
    "Overall, it looks like reviews of all levels mostly are 250 words or under. It appears that 5 star reviews may be a little shorter in general (75th percentile at under 200 words for not useful and around 300 words for useful)."
   ]
  },
  {
   "cell_type": "markdown",
   "metadata": {},
   "source": [
    "## Comparison of vote types (Useful, funny, and cool)\n",
    "\n",
    "Below, I compare the vote counts in the three user-submitted categories for Yelp reviews: Useful, Funny, and Cool."
   ]
  },
  {
   "cell_type": "code",
   "execution_count": 66,
   "metadata": {},
   "outputs": [
    {
     "data": {
      "text/plain": [
       "(0, 1000)"
      ]
     },
     "execution_count": 66,
     "metadata": {},
     "output_type": "execute_result"
    },
    {
     "data": {
      "image/png": "[encoded data removed]",
      "text/plain": [
       "<matplotlib.figure.Figure at 0x7fb5a98c75c0>"
      ]
     },
     "metadata": {},
     "output_type": "display_data"
    }
   ],
   "source": [
    "plt.scatter('funny', 'useful', data=df)\n",
    "plt.title('Funny and Useful votes')\n",
    "plt.xlabel('Count of funny votes')\n",
    "plt.ylabel('Count of useful votes')\n",
    "plt.xlim(0, 1000)\n",
    "plt.ylim(0, 1000)"
   ]
  },
  {
   "cell_type": "markdown",
   "metadata": {},
   "source": [
    "We see that there are essentially 3 groupings of reviews: \n",
    "\n",
    "1. Votes with a high number of funny votes, but very few useful votes in comparison.\n",
    "2. Votes with an equal number of funny and useful votes (suggesting there is a linear relationship between funny and useful votes up to a certain point)\n",
    "3. Votes with a high number of useful votes, but very few funny votes."
   ]
  },
  {
   "cell_type": "code",
   "execution_count": 67,
   "metadata": {},
   "outputs": [
    {
     "data": {
      "text/plain": [
       "(0, 1000)"
      ]
     },
     "execution_count": 67,
     "metadata": {},
     "output_type": "execute_result"
    },
    {
     "data": {
      "image/png": "[encoded data removed]",
      "text/plain": [
       "<matplotlib.figure.Figure at 0x7fb55efb4be0>"
      ]
     },
     "metadata": {},
     "output_type": "display_data"
    }
   ],
   "source": [
    "plt.scatter('cool', 'useful', data=df)\n",
    "plt.title('Cool and Useful votes')\n",
    "plt.xlabel('Count of cool votes')\n",
    "plt.ylabel('Count of useful votes')\n",
    "plt.xlim(0, 1000)\n",
    "plt.ylim(0, 1000)"
   ]
  },
  {
   "cell_type": "markdown",
   "metadata": {},
   "source": [
    "When comparing cool and useful votes, we see that there are two apparent groups of reviews. A group with equal amounts of useful and cool votes up to around 250 votes, and reviews with a high number of useful votes but no cool votes. We see that there are no reviews with many cool votes, but no useful votes. I choose to drop `cool` as a feature in favor of retaining `funny`. "
   ]
  }
 ],
 "metadata": {
  "kernelspec": {
   "display_name": "Python 3",
   "language": "python",
   "name": "python3"
  },
  "language_info": {
   "codemirror_mode": {
    "name": "ipython",
    "version": 3
   },
   "file_extension": ".py",
   "mimetype": "text/x-python",
   "name": "python",
   "nbconvert_exporter": "python",
   "pygments_lexer": "ipython3",
   "version": "3.6.2"
  }
 },
 "nbformat": 4,
 "nbformat_minor": 2
}
