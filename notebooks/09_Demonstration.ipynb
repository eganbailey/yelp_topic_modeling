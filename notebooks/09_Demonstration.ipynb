{
 "cells": [
  {
   "cell_type": "markdown",
   "metadata": {},
   "source": [
    "# Demonstration\n",
    "\n",
    "This notebook serves as a demonstration of the project's workflow from start to finish. Data obtained by the SQL query is provided in the [demo](../data/demo/review_query.csv) directory."
   ]
  },
  {
   "cell_type": "markdown",
   "metadata": {},
   "source": [
    "## Import modules"
   ]
  },
  {
   "cell_type": "code",
   "execution_count": 2,
   "metadata": {},
   "outputs": [],
   "source": [
    "import pandas as pd\n",
    "import numpy as np\n",
    "from sqlalchemy import create_engine\n",
    "import matplotlib.pyplot as plt\n",
    "\n",
    "%run .engine.py\n",
    "engine = create_engine(LOGIN)"
   ]
  },
  {
   "cell_type": "markdown",
   "metadata": {},
   "source": [
    "## Data Preparation"
   ]
  },
  {
   "cell_type": "markdown",
   "metadata": {},
   "source": [
    "### Query the data"
   ]
  },
  {
   "cell_type": "code",
   "execution_count": 3,
   "metadata": {},
   "outputs": [
    {
     "data": {
      "text/plain": [
       "(100000, 6)"
      ]
     },
     "execution_count": 3,
     "metadata": {},
     "output_type": "execute_result"
    }
   ],
   "source": [
    "query = \"\"\"\n",
    "SELECT reviews.stars as stars, \n",
    "reviews.text as text, \n",
    "reviews.useful as useful, \n",
    "reviews.funny as funny, \n",
    "business.state as state,\n",
    "business.categories as categories\n",
    "FROM reviews\n",
    "INNER JOIN business ON reviews.business_id = business.business_id\n",
    "ORDER BY random()\n",
    "LIMIT 100000\n",
    "\"\"\"\n",
    "\n",
    "df = pd.read_sql_query(query, engine)\n",
    "df.shape"
   ]
  },
  {
   "cell_type": "code",
   "execution_count": 4,
   "metadata": {},
   "outputs": [
    {
     "data": {
      "text/html": [
       "<div>\n",
       "<table border=\"1\" class=\"dataframe\">\n",
       "  <thead>\n",
       "    <tr style=\"text-align: right;\">\n",
       "      <th></th>\n",
       "      <th>stars</th>\n",
       "      <th>text</th>\n",
       "      <th>useful</th>\n",
       "      <th>funny</th>\n",
       "      <th>state</th>\n",
       "      <th>categories</th>\n",
       "    </tr>\n",
       "  </thead>\n",
       "  <tbody>\n",
       "    <tr>\n",
       "      <th>0</th>\n",
       "      <td>5.0</td>\n",
       "      <td>This salon is under new management and everyon...</td>\n",
       "      <td>0</td>\n",
       "      <td>0</td>\n",
       "      <td>AZ</td>\n",
       "      <td>Nail Salons;Beauty &amp; Spas</td>\n",
       "    </tr>\n",
       "    <tr>\n",
       "      <th>1</th>\n",
       "      <td>5.0</td>\n",
       "      <td>I've eaten there a few times in the last month...</td>\n",
       "      <td>1</td>\n",
       "      <td>1</td>\n",
       "      <td>AZ</td>\n",
       "      <td>Food;Restaurants;Sandwiches;Chicken Wings;Food...</td>\n",
       "    </tr>\n",
       "    <tr>\n",
       "      <th>2</th>\n",
       "      <td>5.0</td>\n",
       "      <td>Beautiful flower arrangements at a very reason...</td>\n",
       "      <td>0</td>\n",
       "      <td>0</td>\n",
       "      <td>NV</td>\n",
       "      <td>Shopping;Florists;Flowers &amp; Gifts</td>\n",
       "    </tr>\n",
       "    <tr>\n",
       "      <th>3</th>\n",
       "      <td>5.0</td>\n",
       "      <td>Terrific service, efficient staff and always c...</td>\n",
       "      <td>0</td>\n",
       "      <td>0</td>\n",
       "      <td>AZ</td>\n",
       "      <td>Restaurants;Pizza;Italian;Nightlife;Bars</td>\n",
       "    </tr>\n",
       "    <tr>\n",
       "      <th>4</th>\n",
       "      <td>5.0</td>\n",
       "      <td>Dr. Goldstein,\\n\\nI was seen by Dr Goldstein o...</td>\n",
       "      <td>0</td>\n",
       "      <td>0</td>\n",
       "      <td>AZ</td>\n",
       "      <td>Health &amp; Medical;Dentists;Oral Surgeons;Period...</td>\n",
       "    </tr>\n",
       "  </tbody>\n",
       "</table>\n",
       "</div>"
      ],
      "text/plain": [
       "   stars                                               text  useful  funny  \\\n",
       "0    5.0  This salon is under new management and everyon...       0      0   \n",
       "1    5.0  I've eaten there a few times in the last month...       1      1   \n",
       "2    5.0  Beautiful flower arrangements at a very reason...       0      0   \n",
       "3    5.0  Terrific service, efficient staff and always c...       0      0   \n",
       "4    5.0  Dr. Goldstein,\\n\\nI was seen by Dr Goldstein o...       0      0   \n",
       "\n",
       "  state                                         categories  \n",
       "0    AZ                          Nail Salons;Beauty & Spas  \n",
       "1    AZ  Food;Restaurants;Sandwiches;Chicken Wings;Food...  \n",
       "2    NV                  Shopping;Florists;Flowers & Gifts  \n",
       "3    AZ           Restaurants;Pizza;Italian;Nightlife;Bars  \n",
       "4    AZ  Health & Medical;Dentists;Oral Surgeons;Period...  "
      ]
     },
     "execution_count": 4,
     "metadata": {},
     "output_type": "execute_result"
    }
   ],
   "source": [
    "df.head()"
   ]
  },
  {
   "cell_type": "code",
   "execution_count": 8,
   "metadata": {},
   "outputs": [],
   "source": [
    "df.to_csv('../data/demo/reviews.csv', index=False)"
   ]
  },
  {
   "cell_type": "markdown",
   "metadata": {},
   "source": [
    "### Check for nulls"
   ]
  },
  {
   "cell_type": "code",
   "execution_count": 5,
   "metadata": {},
   "outputs": [
    {
     "data": {
      "text/plain": [
       "0"
      ]
     },
     "execution_count": 5,
     "metadata": {},
     "output_type": "execute_result"
    }
   ],
   "source": [
    "df.isnull().sum().sum()"
   ]
  },
  {
   "cell_type": "markdown",
   "metadata": {},
   "source": [
    "### Create feature columns"
   ]
  },
  {
   "cell_type": "code",
   "execution_count": 6,
   "metadata": {},
   "outputs": [],
   "source": [
    "categories = ['Active Life', 'Arts & Entertainment', 'Automotive', \n",
    "            'Beauty & Spas', 'Education', 'Event Planning & Services' , \n",
    "            'Financial Services', 'Food', 'Health & Medical', 'Home Services', \n",
    "            'Hotels & Travel', 'Local Flavor', 'Local Services', 'Mass Media', \n",
    "            'Nightlife', 'Pets', 'Professional Services', 'Public Services & Government',\n",
    "            'Real estate', 'Religious Organizations', 'Restaurants',\n",
    "            'Shopping']"
   ]
  },
  {
   "cell_type": "code",
   "execution_count": 9,
   "metadata": {},
   "outputs": [],
   "source": [
    "for i in categories:\n",
    "    df[i] = df['categories'].map(lambda x: i in x).astype(int)"
   ]
  },
  {
   "cell_type": "code",
   "execution_count": 10,
   "metadata": {},
   "outputs": [],
   "source": [
    "df.columns = df.columns.map(lambda x: x.lower().replace(' ','_').replace('&', 'and'))\n",
    "df.drop(['categories'], 1, inplace=True)"
   ]
  },
  {
   "cell_type": "code",
   "execution_count": 11,
   "metadata": {},
   "outputs": [],
   "source": [
    "df['review_length'] = df['text'].map(lambda x: len(x.split(' ')))"
   ]
  },
  {
   "cell_type": "markdown",
   "metadata": {},
   "source": [
    "### Drop international reviews"
   ]
  },
  {
   "cell_type": "code",
   "execution_count": 12,
   "metadata": {},
   "outputs": [],
   "source": [
    "states_to_keep = ['NV', 'AZ', 'ON', 'NC', 'OH', 'PA', 'WI', 'IL', 'SC']"
   ]
  },
  {
   "cell_type": "code",
   "execution_count": 13,
   "metadata": {},
   "outputs": [],
   "source": [
    "df = df[df.state.isin(states_to_keep)]"
   ]
  },
  {
   "cell_type": "markdown",
   "metadata": {},
   "source": [
    "## Text processing"
   ]
  },
  {
   "cell_type": "code",
   "execution_count": 14,
   "metadata": {},
   "outputs": [],
   "source": [
    "import spacy\n",
    "import textacy\n",
    "from sklearn.feature_extraction.text import TfidfVectorizer"
   ]
  },
  {
   "cell_type": "markdown",
   "metadata": {},
   "source": [
    "### Preprocessing, removing non-English reviews"
   ]
  },
  {
   "cell_type": "code",
   "execution_count": 15,
   "metadata": {},
   "outputs": [
    {
     "name": "stderr",
     "output_type": "stream",
     "text": [
      "/opt/conda/lib/python3.6/site-packages/ipykernel_launcher.py:1: SettingWithCopyWarning: \n",
      "A value is trying to be set on a copy of a slice from a DataFrame.\n",
      "Try using .loc[row_indexer,col_indexer] = value instead\n",
      "\n",
      "See the caveats in the documentation: http://pandas.pydata.org/pandas-docs/stable/indexing.html#indexing-view-versus-copy\n",
      "  \"\"\"Entry point for launching an IPython kernel.\n"
     ]
    }
   ],
   "source": [
    "df['processed'] = df['text'].map(lambda x: textacy.preprocess.preprocess_text(x, lowercase=True, \n",
    "                                                                                    no_urls=True, \n",
    "                                                                                    no_punct=True, \n",
    "                                                                                    no_numbers=True))"
   ]
  },
  {
   "cell_type": "code",
   "execution_count": 16,
   "metadata": {},
   "outputs": [],
   "source": [
    "def isEnglish(s):\n",
    "    try:\n",
    "        s.encode('ascii')\n",
    "    except UnicodeEncodeError:\n",
    "        return False\n",
    "    else:\n",
    "        return True"
   ]
  },
  {
   "cell_type": "code",
   "execution_count": 17,
   "metadata": {},
   "outputs": [
    {
     "name": "stderr",
     "output_type": "stream",
     "text": [
      "/opt/conda/lib/python3.6/site-packages/ipykernel_launcher.py:1: SettingWithCopyWarning: \n",
      "A value is trying to be set on a copy of a slice from a DataFrame.\n",
      "Try using .loc[row_indexer,col_indexer] = value instead\n",
      "\n",
      "See the caveats in the documentation: http://pandas.pydata.org/pandas-docs/stable/indexing.html#indexing-view-versus-copy\n",
      "  \"\"\"Entry point for launching an IPython kernel.\n"
     ]
    }
   ],
   "source": [
    "df['isEnglish'] = df['processed'].astype('str').astype('unicode').apply(lambda x: isEnglish(x) == True)"
   ]
  },
  {
   "cell_type": "code",
   "execution_count": 18,
   "metadata": {},
   "outputs": [
    {
     "data": {
      "text/plain": [
       "True     93837\n",
       "False     1666\n",
       "Name: isEnglish, dtype: int64"
      ]
     },
     "execution_count": 18,
     "metadata": {},
     "output_type": "execute_result"
    }
   ],
   "source": [
    "df.isEnglish.value_counts()"
   ]
  },
  {
   "cell_type": "code",
   "execution_count": 19,
   "metadata": {},
   "outputs": [],
   "source": [
    "df = df[df.isEnglish == True]"
   ]
  },
  {
   "cell_type": "markdown",
   "metadata": {},
   "source": [
    "### Tokenizing"
   ]
  },
  {
   "cell_type": "code",
   "execution_count": 20,
   "metadata": {},
   "outputs": [],
   "source": [
    "nlp = textacy.load_spacy(\"en_core_web_sm\", \n",
    "                         disable = (\"tagger\", \"parser\", \"ner\", \"textcat\"))"
   ]
  },
  {
   "cell_type": "code",
   "execution_count": 21,
   "metadata": {},
   "outputs": [],
   "source": [
    "def token_filter(token): \n",
    "    return not (token.is_stop | len(token.text) <= 4)"
   ]
  },
  {
   "cell_type": "code",
   "execution_count": 22,
   "metadata": {},
   "outputs": [],
   "source": [
    "docs = df['processed'].tolist()"
   ]
  },
  {
   "cell_type": "code",
   "execution_count": 23,
   "metadata": {},
   "outputs": [],
   "source": [
    "filtered_tokens = []\n",
    "for doc in nlp.pipe(docs, disable=['tagger', 'parser', 'ner', 'textcat']):\n",
    "        tokens = [token.lemma_ for token in doc if token_filter(token)]\n",
    "        filtered_tokens.append(tokens)"
   ]
  },
  {
   "cell_type": "markdown",
   "metadata": {},
   "source": [
    "### Vectorizing"
   ]
  },
  {
   "cell_type": "code",
   "execution_count": 24,
   "metadata": {},
   "outputs": [],
   "source": [
    "def identity(doc):\n",
    "    return doc"
   ]
  },
  {
   "cell_type": "code",
   "execution_count": 25,
   "metadata": {},
   "outputs": [],
   "source": [
    "vectorizer = TfidfVectorizer(analyzer='word', tokenizer=identity, preprocessor=identity, \n",
    "                             token_pattern=None, strip_accents='ascii', min_df=5, max_df=0.95,\n",
    "                             max_features=10000, use_idf=True, sublinear_tf=True)"
   ]
  },
  {
   "cell_type": "markdown",
   "metadata": {},
   "source": [
    "## Topic modeling"
   ]
  },
  {
   "cell_type": "code",
   "execution_count": 26,
   "metadata": {},
   "outputs": [],
   "source": [
    "def print_topics(model, n_topics, n_terms):\n",
    "    for topic_idx, top_terms in model.top_topic_terms(vectorizer.get_feature_names(), topics=n_topics, top_n=n_terms):\n",
    "        print('topic', topic_idx, ':', '   '.join(top_terms))"
   ]
  },
  {
   "cell_type": "code",
   "execution_count": 33,
   "metadata": {},
   "outputs": [],
   "source": [
    "doc_term_matrix = vectorizer.fit_transform(doc for doc in filtered_tokens)"
   ]
  },
  {
   "cell_type": "code",
   "execution_count": null,
   "metadata": {},
   "outputs": [],
   "source": [
    "lsa = textacy.TopicModel('lsa', n_topics=325, random_state=1)\n",
    "lsa.fit(doc_term_matrix)"
   ]
  },
  {
   "cell_type": "code",
   "execution_count": 36,
   "metadata": {},
   "outputs": [],
   "source": [
    "doc_topic_matrix = lsa.transform(doc_term_matrix)"
   ]
  },
  {
   "cell_type": "code",
   "execution_count": 38,
   "metadata": {},
   "outputs": [
    {
     "name": "stdout",
     "output_type": "stream",
     "text": [
      "topic 0 : numb   this   they   that   be\n",
      "topic 1 : great   place   friendly   service   very\n",
      "topic 2 : great   staff   friendly   service   recommend\n",
      "topic 3 : service   very   back   order   will\n",
      "topic 4 : very   staff   friendly   clean   recommend\n",
      "topic 5 : place   this   recommend   will   definitely\n",
      "topic 6 : pizza   always   they   order   their\n",
      "topic 7 : pizza   numb   very   price   staff\n",
      "topic 8 : numb   place   friendly   staff   this\n",
      "topic 9 : price   recommend   service   highly   this\n",
      "topic 10 : recommend   highly   numb   amaze   always\n",
      "topic 11 : great   place   fry   staff   order\n",
      "topic 12 : numb   price   will   definitely   back\n",
      "topic 13 : amaze   numb   staff   make   your\n",
      "topic 14 : they   sushi   their   delicious   drink\n",
      "topic 15 : they   really   service   friendly   recommend\n",
      "topic 16 : sushi   order   recommend   staff   great\n",
      "topic 17 : amaze   be   sushi   staff   have\n",
      "topic 18 : always   really   very   drink   price\n",
      "topic 19 : here   breakfast   sandwich   lunch   really\n"
     ]
    }
   ],
   "source": [
    "print_topics(lsa, range(20), 5)"
   ]
  },
  {
   "cell_type": "code",
   "execution_count": 43,
   "metadata": {},
   "outputs": [
    {
     "name": "stderr",
     "output_type": "stream",
     "text": [
      "/opt/conda/lib/python3.6/site-packages/matplotlib/collections.py:877: RuntimeWarning: invalid value encountered in sqrt\n",
      "  scale = np.sqrt(self._sizes) * dpi / 72.0 * self._factor\n"
     ]
    },
    {
     "data": {
      "text/plain": [
       "<matplotlib.axes._subplots.AxesSubplot at 0x7f40c8e0d748>"
      ]
     },
     "execution_count": 43,
     "metadata": {},
     "output_type": "execute_result"
    },
    {
     "data": {
      "image/png": "[encoded data removed]",
      "text/plain": [
       "<matplotlib.figure.Figure at 0x7f40c90b2390>"
      ]
     },
     "metadata": {},
     "output_type": "display_data"
    }
   ],
   "source": [
    "lsa.termite_plot(doc_term_matrix,\n",
    "                       vectorizer.get_feature_names(), \n",
    "                       topics=[num for num in range(1, 20)],\n",
    "                       highlight_topics=[1, 5, 10, 13, 17],\n",
    "                       n_terms=20)"
   ]
  },
  {
   "cell_type": "markdown",
   "metadata": {},
   "source": [
    "## Create feature matrix"
   ]
  },
  {
   "cell_type": "code",
   "execution_count": 46,
   "metadata": {},
   "outputs": [],
   "source": [
    "df.drop(['text', 'useful', 'state', 'processed', 'isEnglish', 'real_estate'], 1, inplace=True)"
   ]
  },
  {
   "cell_type": "code",
   "execution_count": 49,
   "metadata": {},
   "outputs": [],
   "source": [
    "left_matrix = df.values"
   ]
  },
  {
   "cell_type": "code",
   "execution_count": 51,
   "metadata": {},
   "outputs": [],
   "source": [
    "right_matrix = doc_topic_matrix"
   ]
  },
  {
   "cell_type": "code",
   "execution_count": 52,
   "metadata": {},
   "outputs": [
    {
     "data": {
      "text/plain": [
       "((93837, 24), (93837, 325))"
      ]
     },
     "execution_count": 52,
     "metadata": {},
     "output_type": "execute_result"
    }
   ],
   "source": [
    "left_matrix.shape, right_matrix.shape"
   ]
  },
  {
   "cell_type": "code",
   "execution_count": 53,
   "metadata": {},
   "outputs": [],
   "source": [
    "features = np.hstack((left_matrix, right_matrix))"
   ]
  },
  {
   "cell_type": "markdown",
   "metadata": {},
   "source": [
    "## Get model predictions"
   ]
  },
  {
   "cell_type": "code",
   "execution_count": 54,
   "metadata": {},
   "outputs": [],
   "source": [
    "import pickle"
   ]
  },
  {
   "cell_type": "code",
   "execution_count": 55,
   "metadata": {},
   "outputs": [],
   "source": [
    "with open('../models/logisticreg.pkl', 'rb') as model:\n",
    "    model = pickle.load(model)"
   ]
  },
  {
   "cell_type": "code",
   "execution_count": 56,
   "metadata": {},
   "outputs": [
    {
     "data": {
      "text/plain": [
       "array([1, 1, 1, ..., 1, 1, 1])"
      ]
     },
     "execution_count": 56,
     "metadata": {},
     "output_type": "execute_result"
    }
   ],
   "source": [
    "model.predict(features)"
   ]
  }
 ],
 "metadata": {
  "kernelspec": {
   "display_name": "Python 3",
   "language": "python",
   "name": "python3"
  },
  "language_info": {
   "codemirror_mode": {
    "name": "ipython",
    "version": 3
   },
   "file_extension": ".py",
   "mimetype": "text/x-python",
   "name": "python",
   "nbconvert_exporter": "python",
   "pygments_lexer": "ipython3",
   "version": "3.6.2"
  }
 },
 "nbformat": 4,
 "nbformat_minor": 2
}
