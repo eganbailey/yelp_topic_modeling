{
 "cells": [
  {
   "cell_type": "markdown",
   "metadata": {},
   "source": [
    "# Classification modeling - Restaurants\n",
    "\n",
    "I create two sets of models: a set of binary classifiers (is useful/is not useful) and a set of ordinal classifiers with 3/4 levels of usefulesness."
   ]
  },
  {
   "cell_type": "markdown",
   "metadata": {},
   "source": [
    "## Import modules and data"
   ]
  },
  {
   "cell_type": "code",
   "execution_count": 1,
   "metadata": {},
   "outputs": [],
   "source": [
    "import pandas as pd\n",
    "import numpy as np\n",
    "import matplotlib.pyplot as plt\n",
    "import seaborn as sns\n",
    "import pickle\n",
    "import time\n",
    "import re\n",
    "\n",
    "from sklearn.model_selection import train_test_split, GridSearchCV\n",
    "from sklearn.preprocessing import StandardScaler\n",
    "from sklearn.pipeline import Pipeline\n",
    "from sklearn.linear_model import LogisticRegression\n",
    "from sklearn.tree import DecisionTreeClassifier\n",
    "from sklearn.ensemble import RandomForestClassifier, GradientBoostingClassifier\n",
    "from sklearn.svm import SVC"
   ]
  },
  {
   "cell_type": "code",
   "execution_count": 2,
   "metadata": {},
   "outputs": [],
   "source": [
    "correct_index = np.load('../data/rests_eng_index.npy')"
   ]
  },
  {
   "cell_type": "code",
   "execution_count": 3,
   "metadata": {},
   "outputs": [
    {
     "name": "stderr",
     "output_type": "stream",
     "text": [
      "/opt/conda/lib/python3.6/site-packages/IPython/core/interactiveshell.py:2785: DtypeWarning: Columns (0,4) have mixed types. Specify dtype option on import or set low_memory=False.\n",
      "  interactivity=interactivity, compiler=compiler, result=result)\n"
     ]
    }
   ],
   "source": [
    "rests = pd.read_csv('../data/restaurants.csv', compression='gzip')"
   ]
  },
  {
   "cell_type": "code",
   "execution_count": 4,
   "metadata": {},
   "outputs": [
    {
     "data": {
      "text/plain": [
       "(3055990, 28)"
      ]
     },
     "execution_count": 4,
     "metadata": {},
     "output_type": "execute_result"
    }
   ],
   "source": [
    "rests.shape"
   ]
  },
  {
   "cell_type": "code",
   "execution_count": 25,
   "metadata": {},
   "outputs": [],
   "source": [
    "def useful_mapper(x):\n",
    "    if x == 0:\n",
    "        return 0\n",
    "    elif x in (1, 2):\n",
    "        return \"Undetermined\"\n",
    "    elif x >= 3:\n",
    "        return 1"
   ]
  },
  {
   "cell_type": "code",
   "execution_count": 26,
   "metadata": {},
   "outputs": [],
   "source": [
    "rests['Usefulness'] = rests['useful'].map(useful_mapper)"
   ]
  },
  {
   "cell_type": "code",
   "execution_count": 5,
   "metadata": {},
   "outputs": [],
   "source": [
    "rests['isUseful'] = (rests['useful'] > 0).astype(int)"
   ]
  },
  {
   "cell_type": "code",
   "execution_count": 6,
   "metadata": {
    "scrolled": true
   },
   "outputs": [],
   "source": [
    "rests.drop(['useful', 'text', 'cool', 'state'], 1, inplace=True)"
   ]
  },
  {
   "cell_type": "code",
   "execution_count": 7,
   "metadata": {},
   "outputs": [],
   "source": [
    "rests = rests[rests.index.isin(correct_index)]"
   ]
  },
  {
   "cell_type": "code",
   "execution_count": 8,
   "metadata": {},
   "outputs": [],
   "source": [
    "lsa_matrix = np.load('../data/lsa_matrix.npy')"
   ]
  },
  {
   "cell_type": "code",
   "execution_count": 9,
   "metadata": {},
   "outputs": [],
   "source": [
    "rests.drop([1841405, 1841406], 0, inplace=True)"
   ]
  },
  {
   "cell_type": "code",
   "execution_count": 10,
   "metadata": {},
   "outputs": [],
   "source": [
    "lsa_matrix = np.delete(lsa_matrix, [1841405, 1841406], 0)"
   ]
  },
  {
   "cell_type": "code",
   "execution_count": 11,
   "metadata": {
    "scrolled": true
   },
   "outputs": [
    {
     "data": {
      "text/plain": [
       "Index(['stars', 'funny', 'active_life', 'arts_and_entertainment', 'automotive',\n",
       "       'beauty_and_spas', 'education', 'event_planning_and_services',\n",
       "       'financial_services', 'food', 'health_and_medical', 'home_services',\n",
       "       'hotels_and_travel', 'local_flavor', 'local_services', 'mass_media',\n",
       "       'nightlife', 'pets', 'professional_services',\n",
       "       'public_services_and_government', 'religious_organizations',\n",
       "       'restaurants', 'shopping', 'review_length', 'isUseful'],\n",
       "      dtype='object')"
      ]
     },
     "execution_count": 11,
     "metadata": {},
     "output_type": "execute_result"
    }
   ],
   "source": [
    "rests.columns"
   ]
  },
  {
   "cell_type": "code",
   "execution_count": 12,
   "metadata": {},
   "outputs": [],
   "source": [
    "left_array = rests[rests.columns[:-2]].values"
   ]
  },
  {
   "cell_type": "code",
   "execution_count": 13,
   "metadata": {},
   "outputs": [
    {
     "data": {
      "text/plain": [
       "(2984419, 23)"
      ]
     },
     "execution_count": 13,
     "metadata": {},
     "output_type": "execute_result"
    }
   ],
   "source": [
    "left_array.shape"
   ]
  },
  {
   "cell_type": "code",
   "execution_count": 14,
   "metadata": {},
   "outputs": [
    {
     "data": {
      "text/plain": [
       "(2984419, 100)"
      ]
     },
     "execution_count": 14,
     "metadata": {},
     "output_type": "execute_result"
    }
   ],
   "source": [
    "lsa_matrix.shape"
   ]
  },
  {
   "cell_type": "code",
   "execution_count": 17,
   "metadata": {},
   "outputs": [],
   "source": [
    "features = np.hstack((left_array, lsa_matrix))"
   ]
  },
  {
   "cell_type": "code",
   "execution_count": 18,
   "metadata": {},
   "outputs": [
    {
     "data": {
      "text/plain": [
       "(2984419, 123)"
      ]
     },
     "execution_count": 18,
     "metadata": {},
     "output_type": "execute_result"
    }
   ],
   "source": [
    "features.shape"
   ]
  },
  {
   "cell_type": "code",
   "execution_count": 20,
   "metadata": {},
   "outputs": [],
   "source": [
    "np.save('../data/lsa_features.npy', features)"
   ]
  },
  {
   "cell_type": "code",
   "execution_count": 16,
   "metadata": {},
   "outputs": [],
   "source": [
    "np.save('../data/rests_useful_scores.npy', rests['isUseful'].values)"
   ]
  },
  {
   "cell_type": "markdown",
   "metadata": {},
   "source": [
    "## Modeling Pipeline"
   ]
  },
  {
   "cell_type": "markdown",
   "metadata": {},
   "source": [
    "1. Features for reviews from review dataset\n",
    "2. Topic weights from topic model\n",
    "3. Scaler\n",
    "4. GridSearched models"
   ]
  },
  {
   "cell_type": "markdown",
   "metadata": {},
   "source": [
    "### Load features array"
   ]
  },
  {
   "cell_type": "code",
   "execution_count": 2,
   "metadata": {},
   "outputs": [],
   "source": [
    "features = np.load('../data/lsa_features.npy')\n",
    "target = np.load('../data/rests_useful_scores.npy')"
   ]
  },
  {
   "cell_type": "markdown",
   "metadata": {},
   "source": [
    "## Set target and feature vectors, train/test/split, normalize"
   ]
  },
  {
   "cell_type": "code",
   "execution_count": 3,
   "metadata": {},
   "outputs": [],
   "source": [
    "X = features\n",
    "y = target\n",
    "\n",
    "X_train, X_test, y_train, y_test = train_test_split(X, y)\n",
    "\n",
    "ss = StandardScaler()\n",
    "\n",
    "X_train = ss.fit_transform(X_train)\n",
    "\n",
    "X_test = ss.transform(X_test)"
   ]
  },
  {
   "cell_type": "markdown",
   "metadata": {},
   "source": [
    "### Try modeling with only the LSA feature weights"
   ]
  },
  {
   "cell_type": "code",
   "execution_count": null,
   "metadata": {},
   "outputs": [],
   "source": [
    "X = dt_matrix\n",
    "y = rests['isUseful']"
   ]
  },
  {
   "cell_type": "code",
   "execution_count": null,
   "metadata": {},
   "outputs": [],
   "source": [
    "X_train, X_test, y_train, y_test = train_test_split(X, y)"
   ]
  },
  {
   "cell_type": "code",
   "execution_count": null,
   "metadata": {},
   "outputs": [],
   "source": [
    "ss = StandardScaler()\n",
    "X_train = ss.fit_transform(X_train)"
   ]
  },
  {
   "cell_type": "code",
   "execution_count": null,
   "metadata": {},
   "outputs": [],
   "source": [
    "X_test = ss.transform(X_test)"
   ]
  },
  {
   "cell_type": "code",
   "execution_count": null,
   "metadata": {},
   "outputs": [],
   "source": [
    "lr = GridSearchCV(LogisticRegression(), param_grid={'random_state': [32], 'C': [1e-4, 1e-3]})"
   ]
  },
  {
   "cell_type": "code",
   "execution_count": null,
   "metadata": {},
   "outputs": [],
   "source": [
    "lr.fit(X_train, y_train)"
   ]
  },
  {
   "cell_type": "code",
   "execution_count": null,
   "metadata": {},
   "outputs": [],
   "source": [
    "lr.score(X_train, y_train), lr.score(X_test, y_test)"
   ]
  },
  {
   "cell_type": "markdown",
   "metadata": {},
   "source": [
    "## LR model with LSA feature weights and features"
   ]
  },
  {
   "cell_type": "code",
   "execution_count": 13,
   "metadata": {},
   "outputs": [],
   "source": [
    "lr = GridSearchCV(LogisticRegression(), param_grid={'random_state': [32], \n",
    "                                                    'C': [1e-4, 1e-3, 1e-2, 1e-1, 1, 10, 100, 1000], \n",
    "                                                    'solver': ['saga'],\n",
    "                                                    'penalty': ['l2'],\n",
    "                                                    'n_jobs': [-1],\n",
    "                                                    'verbose': [1]})"
   ]
  },
  {
   "cell_type": "code",
   "execution_count": 14,
   "metadata": {
    "scrolled": true
   },
   "outputs": [
    {
     "name": "stdout",
     "output_type": "stream",
     "text": [
      "convergence after 24 epochs took 65 seconds\n"
     ]
    },
    {
     "name": "stderr",
     "output_type": "stream",
     "text": [
      "[Parallel(n_jobs=-1)]: Done   1 out of   1 | elapsed:  1.1min finished\n"
     ]
    },
    {
     "name": "stdout",
     "output_type": "stream",
     "text": [
      "convergence after 23 epochs took 63 seconds\n"
     ]
    },
    {
     "name": "stderr",
     "output_type": "stream",
     "text": [
      "[Parallel(n_jobs=-1)]: Done   1 out of   1 | elapsed:  1.1min finished\n"
     ]
    },
    {
     "name": "stdout",
     "output_type": "stream",
     "text": [
      "convergence after 24 epochs took 66 seconds\n"
     ]
    },
    {
     "name": "stderr",
     "output_type": "stream",
     "text": [
      "[Parallel(n_jobs=-1)]: Done   1 out of   1 | elapsed:  1.1min finished\n"
     ]
    },
    {
     "name": "stdout",
     "output_type": "stream",
     "text": [
      "convergence after 45 epochs took 122 seconds\n"
     ]
    },
    {
     "name": "stderr",
     "output_type": "stream",
     "text": [
      "[Parallel(n_jobs=-1)]: Done   1 out of   1 | elapsed:  2.0min finished\n"
     ]
    },
    {
     "name": "stdout",
     "output_type": "stream",
     "text": [
      "convergence after 44 epochs took 121 seconds\n"
     ]
    },
    {
     "name": "stderr",
     "output_type": "stream",
     "text": [
      "[Parallel(n_jobs=-1)]: Done   1 out of   1 | elapsed:  2.0min finished\n"
     ]
    },
    {
     "name": "stdout",
     "output_type": "stream",
     "text": [
      "convergence after 45 epochs took 125 seconds\n"
     ]
    },
    {
     "name": "stderr",
     "output_type": "stream",
     "text": [
      "[Parallel(n_jobs=-1)]: Done   1 out of   1 | elapsed:  2.1min finished\n"
     ]
    },
    {
     "name": "stdout",
     "output_type": "stream",
     "text": [
      "convergence after 54 epochs took 144 seconds\n"
     ]
    },
    {
     "name": "stderr",
     "output_type": "stream",
     "text": [
      "[Parallel(n_jobs=-1)]: Done   1 out of   1 | elapsed:  2.4min finished\n"
     ]
    },
    {
     "name": "stdout",
     "output_type": "stream",
     "text": [
      "convergence after 52 epochs took 137 seconds\n"
     ]
    },
    {
     "name": "stderr",
     "output_type": "stream",
     "text": [
      "[Parallel(n_jobs=-1)]: Done   1 out of   1 | elapsed:  2.3min finished\n"
     ]
    },
    {
     "name": "stdout",
     "output_type": "stream",
     "text": [
      "convergence after 54 epochs took 143 seconds\n"
     ]
    },
    {
     "name": "stderr",
     "output_type": "stream",
     "text": [
      "[Parallel(n_jobs=-1)]: Done   1 out of   1 | elapsed:  2.4min finished\n"
     ]
    },
    {
     "name": "stdout",
     "output_type": "stream",
     "text": [
      "convergence after 55 epochs took 146 seconds\n"
     ]
    },
    {
     "name": "stderr",
     "output_type": "stream",
     "text": [
      "[Parallel(n_jobs=-1)]: Done   1 out of   1 | elapsed:  2.4min finished\n"
     ]
    },
    {
     "name": "stdout",
     "output_type": "stream",
     "text": [
      "convergence after 53 epochs took 141 seconds\n"
     ]
    },
    {
     "name": "stderr",
     "output_type": "stream",
     "text": [
      "[Parallel(n_jobs=-1)]: Done   1 out of   1 | elapsed:  2.3min finished\n"
     ]
    },
    {
     "name": "stdout",
     "output_type": "stream",
     "text": [
      "convergence after 55 epochs took 154 seconds\n"
     ]
    },
    {
     "name": "stderr",
     "output_type": "stream",
     "text": [
      "[Parallel(n_jobs=-1)]: Done   1 out of   1 | elapsed:  2.6min finished\n"
     ]
    },
    {
     "name": "stdout",
     "output_type": "stream",
     "text": [
      "convergence after 55 epochs took 144 seconds\n"
     ]
    },
    {
     "name": "stderr",
     "output_type": "stream",
     "text": [
      "[Parallel(n_jobs=-1)]: Done   1 out of   1 | elapsed:  2.4min finished\n"
     ]
    },
    {
     "name": "stdout",
     "output_type": "stream",
     "text": [
      "convergence after 53 epochs took 140 seconds\n"
     ]
    },
    {
     "name": "stderr",
     "output_type": "stream",
     "text": [
      "[Parallel(n_jobs=-1)]: Done   1 out of   1 | elapsed:  2.3min finished\n"
     ]
    },
    {
     "name": "stdout",
     "output_type": "stream",
     "text": [
      "convergence after 55 epochs took 146 seconds\n"
     ]
    },
    {
     "name": "stderr",
     "output_type": "stream",
     "text": [
      "[Parallel(n_jobs=-1)]: Done   1 out of   1 | elapsed:  2.4min finished\n"
     ]
    },
    {
     "name": "stdout",
     "output_type": "stream",
     "text": [
      "convergence after 55 epochs took 148 seconds\n"
     ]
    },
    {
     "name": "stderr",
     "output_type": "stream",
     "text": [
      "[Parallel(n_jobs=-1)]: Done   1 out of   1 | elapsed:  2.5min finished\n"
     ]
    },
    {
     "name": "stdout",
     "output_type": "stream",
     "text": [
      "convergence after 54 epochs took 143 seconds\n"
     ]
    },
    {
     "name": "stderr",
     "output_type": "stream",
     "text": [
      "[Parallel(n_jobs=-1)]: Done   1 out of   1 | elapsed:  2.4min finished\n"
     ]
    },
    {
     "name": "stdout",
     "output_type": "stream",
     "text": [
      "convergence after 55 epochs took 145 seconds\n"
     ]
    },
    {
     "name": "stderr",
     "output_type": "stream",
     "text": [
      "[Parallel(n_jobs=-1)]: Done   1 out of   1 | elapsed:  2.4min finished\n"
     ]
    },
    {
     "name": "stdout",
     "output_type": "stream",
     "text": [
      "convergence after 55 epochs took 147 seconds\n"
     ]
    },
    {
     "name": "stderr",
     "output_type": "stream",
     "text": [
      "[Parallel(n_jobs=-1)]: Done   1 out of   1 | elapsed:  2.5min finished\n"
     ]
    },
    {
     "name": "stdout",
     "output_type": "stream",
     "text": [
      "convergence after 54 epochs took 144 seconds\n"
     ]
    },
    {
     "name": "stderr",
     "output_type": "stream",
     "text": [
      "[Parallel(n_jobs=-1)]: Done   1 out of   1 | elapsed:  2.4min finished\n"
     ]
    },
    {
     "name": "stdout",
     "output_type": "stream",
     "text": [
      "convergence after 55 epochs took 147 seconds\n"
     ]
    },
    {
     "name": "stderr",
     "output_type": "stream",
     "text": [
      "[Parallel(n_jobs=-1)]: Done   1 out of   1 | elapsed:  2.5min finished\n"
     ]
    },
    {
     "name": "stdout",
     "output_type": "stream",
     "text": [
      "convergence after 55 epochs took 147 seconds\n"
     ]
    },
    {
     "name": "stderr",
     "output_type": "stream",
     "text": [
      "[Parallel(n_jobs=-1)]: Done   1 out of   1 | elapsed:  2.5min finished\n"
     ]
    },
    {
     "name": "stdout",
     "output_type": "stream",
     "text": [
      "convergence after 54 epochs took 145 seconds\n"
     ]
    },
    {
     "name": "stderr",
     "output_type": "stream",
     "text": [
      "[Parallel(n_jobs=-1)]: Done   1 out of   1 | elapsed:  2.4min finished\n"
     ]
    },
    {
     "name": "stdout",
     "output_type": "stream",
     "text": [
      "convergence after 55 epochs took 148 seconds\n"
     ]
    },
    {
     "name": "stderr",
     "output_type": "stream",
     "text": [
      "[Parallel(n_jobs=-1)]: Done   1 out of   1 | elapsed:  2.5min finished\n"
     ]
    },
    {
     "name": "stdout",
     "output_type": "stream",
     "text": [
      "convergence after 39 epochs took 151 seconds\n",
      "CPU times: user 56min 8s, sys: 32.1 s, total: 56min 40s\n",
      "Wall time: 55min 54s\n"
     ]
    },
    {
     "name": "stderr",
     "output_type": "stream",
     "text": [
      "[Parallel(n_jobs=-1)]: Done   1 out of   1 | elapsed:  2.5min finished\n"
     ]
    },
    {
     "data": {
      "text/plain": [
       "GridSearchCV(cv=None, error_score='raise',\n",
       "       estimator=LogisticRegression(C=1.0, class_weight=None, dual=False, fit_intercept=True,\n",
       "          intercept_scaling=1, max_iter=100, multi_class='ovr', n_jobs=1,\n",
       "          penalty='l2', random_state=None, solver='liblinear', tol=0.0001,\n",
       "          verbose=0, warm_start=False),\n",
       "       fit_params=None, iid=True, n_jobs=1,\n",
       "       param_grid={'random_state': [32], 'C': [0.0001, 0.001, 0.01, 0.1, 1, 10, 100, 1000], 'solver': ['saga'], 'penalty': ['l2'], 'n_jobs': [-1], 'verbose': [1]},\n",
       "       pre_dispatch='2*n_jobs', refit=True, return_train_score='warn',\n",
       "       scoring=None, verbose=0)"
      ]
     },
     "execution_count": 14,
     "metadata": {},
     "output_type": "execute_result"
    }
   ],
   "source": [
    "%time lr.fit(X_train, y_train)"
   ]
  },
  {
   "cell_type": "code",
   "execution_count": 15,
   "metadata": {},
   "outputs": [
    {
     "data": {
      "text/plain": [
       "(0.70162050543400079, 0.70181140724160807)"
      ]
     },
     "execution_count": 15,
     "metadata": {},
     "output_type": "execute_result"
    }
   ],
   "source": [
    "lr.score(X_train, y_train), lr.score(X_test, y_test)"
   ]
  },
  {
   "cell_type": "markdown",
   "metadata": {},
   "source": [
    "## Random Forest"
   ]
  },
  {
   "cell_type": "code",
   "execution_count": 54,
   "metadata": {},
   "outputs": [],
   "source": [
    "rf = GridSearchCV(RandomForestClassifier(), param_grid={'random_state': [32], \n",
    "                                                        'min_samples_split': [3, 4, 5], \n",
    "                                                        'min_samples_leaf': range(4, 11, 1),\n",
    "                                                        'verbose': [1],\n",
    "                                                        'n_jobs': [-1]})"
   ]
  },
  {
   "cell_type": "code",
   "execution_count": 55,
   "metadata": {},
   "outputs": [
    {
     "name": "stderr",
     "output_type": "stream",
     "text": [
      "[Parallel(n_jobs=-1)]: Done   6 out of  10 | elapsed:   36.4s remaining:   24.3s\n",
      "[Parallel(n_jobs=-1)]: Done  10 out of  10 | elapsed:  1.1min finished\n",
      "[Parallel(n_jobs=8)]: Done   6 out of  10 | elapsed:    0.5s remaining:    0.3s\n",
      "[Parallel(n_jobs=8)]: Done  10 out of  10 | elapsed:    0.9s finished\n",
      "[Parallel(n_jobs=8)]: Done   6 out of  10 | elapsed:    1.1s remaining:    0.7s\n",
      "[Parallel(n_jobs=8)]: Done  10 out of  10 | elapsed:    1.8s finished\n",
      "[Parallel(n_jobs=-1)]: Done   6 out of  10 | elapsed:   37.8s remaining:   25.2s\n",
      "[Parallel(n_jobs=-1)]: Done  10 out of  10 | elapsed:  1.2min finished\n",
      "[Parallel(n_jobs=8)]: Done   6 out of  10 | elapsed:    0.5s remaining:    0.3s\n",
      "[Parallel(n_jobs=8)]: Done  10 out of  10 | elapsed:    0.9s finished\n",
      "[Parallel(n_jobs=8)]: Done   6 out of  10 | elapsed:    1.1s remaining:    0.7s\n",
      "[Parallel(n_jobs=8)]: Done  10 out of  10 | elapsed:    1.8s finished\n",
      "[Parallel(n_jobs=-1)]: Done   6 out of  10 | elapsed:   36.8s remaining:   24.5s\n",
      "[Parallel(n_jobs=-1)]: Done  10 out of  10 | elapsed:  1.2min finished\n",
      "[Parallel(n_jobs=8)]: Done   6 out of  10 | elapsed:    0.5s remaining:    0.4s\n",
      "[Parallel(n_jobs=8)]: Done  10 out of  10 | elapsed:    0.9s finished\n",
      "[Parallel(n_jobs=8)]: Done   6 out of  10 | elapsed:    1.1s remaining:    0.7s\n",
      "[Parallel(n_jobs=8)]: Done  10 out of  10 | elapsed:    1.9s finished\n",
      "[Parallel(n_jobs=-1)]: Done   6 out of  10 | elapsed:   36.5s remaining:   24.3s\n",
      "[Parallel(n_jobs=-1)]: Done  10 out of  10 | elapsed:  1.2min finished\n",
      "[Parallel(n_jobs=8)]: Done   6 out of  10 | elapsed:    0.6s remaining:    0.4s\n",
      "[Parallel(n_jobs=8)]: Done  10 out of  10 | elapsed:    0.9s finished\n",
      "[Parallel(n_jobs=8)]: Done   6 out of  10 | elapsed:    1.1s remaining:    0.7s\n",
      "[Parallel(n_jobs=8)]: Done  10 out of  10 | elapsed:    1.8s finished\n",
      "[Parallel(n_jobs=-1)]: Done   6 out of  10 | elapsed:   48.3s remaining:   32.2s\n",
      "[Parallel(n_jobs=-1)]: Done  10 out of  10 | elapsed:  1.2min finished\n",
      "[Parallel(n_jobs=8)]: Done   6 out of  10 | elapsed:    0.5s remaining:    0.4s\n",
      "[Parallel(n_jobs=8)]: Done  10 out of  10 | elapsed:    0.9s finished\n",
      "[Parallel(n_jobs=8)]: Done   6 out of  10 | elapsed:    1.0s remaining:    0.7s\n",
      "[Parallel(n_jobs=8)]: Done  10 out of  10 | elapsed:    1.9s finished\n",
      "[Parallel(n_jobs=-1)]: Done   6 out of  10 | elapsed:   36.3s remaining:   24.2s\n",
      "[Parallel(n_jobs=-1)]: Done  10 out of  10 | elapsed:  1.1min finished\n",
      "[Parallel(n_jobs=8)]: Done   6 out of  10 | elapsed:    0.5s remaining:    0.3s\n",
      "[Parallel(n_jobs=8)]: Done  10 out of  10 | elapsed:    0.9s finished\n",
      "[Parallel(n_jobs=8)]: Done   6 out of  10 | elapsed:    1.1s remaining:    0.7s\n",
      "[Parallel(n_jobs=8)]: Done  10 out of  10 | elapsed:    1.9s finished\n",
      "[Parallel(n_jobs=-1)]: Done   6 out of  10 | elapsed:   36.0s remaining:   24.0s\n",
      "[Parallel(n_jobs=-1)]: Done  10 out of  10 | elapsed:  1.2min finished\n",
      "[Parallel(n_jobs=8)]: Done   6 out of  10 | elapsed:    0.5s remaining:    0.4s\n",
      "[Parallel(n_jobs=8)]: Done  10 out of  10 | elapsed:    0.9s finished\n",
      "[Parallel(n_jobs=8)]: Done   6 out of  10 | elapsed:    1.0s remaining:    0.7s\n",
      "[Parallel(n_jobs=8)]: Done  10 out of  10 | elapsed:    1.9s finished\n",
      "[Parallel(n_jobs=-1)]: Done   6 out of  10 | elapsed:   36.2s remaining:   24.1s\n",
      "[Parallel(n_jobs=-1)]: Done  10 out of  10 | elapsed:  1.1min finished\n",
      "[Parallel(n_jobs=8)]: Done   6 out of  10 | elapsed:    0.5s remaining:    0.4s\n",
      "[Parallel(n_jobs=8)]: Done  10 out of  10 | elapsed:    0.9s finished\n",
      "[Parallel(n_jobs=8)]: Done   6 out of  10 | elapsed:    1.1s remaining:    0.7s\n",
      "[Parallel(n_jobs=8)]: Done  10 out of  10 | elapsed:    1.9s finished\n",
      "[Parallel(n_jobs=-1)]: Done   6 out of  10 | elapsed:   36.1s remaining:   24.1s\n",
      "[Parallel(n_jobs=-1)]: Done  10 out of  10 | elapsed:  1.1min finished\n",
      "[Parallel(n_jobs=8)]: Done   6 out of  10 | elapsed:    0.5s remaining:    0.3s\n",
      "[Parallel(n_jobs=8)]: Done  10 out of  10 | elapsed:    0.9s finished\n",
      "[Parallel(n_jobs=8)]: Done   6 out of  10 | elapsed:    1.0s remaining:    0.7s\n",
      "[Parallel(n_jobs=8)]: Done  10 out of  10 | elapsed:    1.8s finished\n",
      "[Parallel(n_jobs=-1)]: Done   6 out of  10 | elapsed:   36.3s remaining:   24.2s\n",
      "[Parallel(n_jobs=-1)]: Done  10 out of  10 | elapsed:  1.1min finished\n",
      "[Parallel(n_jobs=8)]: Done   6 out of  10 | elapsed:    0.5s remaining:    0.3s\n",
      "[Parallel(n_jobs=8)]: Done  10 out of  10 | elapsed:    0.9s finished\n",
      "[Parallel(n_jobs=8)]: Done   6 out of  10 | elapsed:    1.0s remaining:    0.7s\n",
      "[Parallel(n_jobs=8)]: Done  10 out of  10 | elapsed:    1.8s finished\n",
      "[Parallel(n_jobs=-1)]: Done   6 out of  10 | elapsed:   35.7s remaining:   23.8s\n",
      "[Parallel(n_jobs=-1)]: Done  10 out of  10 | elapsed:  1.1min finished\n",
      "[Parallel(n_jobs=8)]: Done   6 out of  10 | elapsed:    0.5s remaining:    0.3s\n",
      "[Parallel(n_jobs=8)]: Done  10 out of  10 | elapsed:    0.9s finished\n",
      "[Parallel(n_jobs=8)]: Done   6 out of  10 | elapsed:    1.0s remaining:    0.7s\n",
      "[Parallel(n_jobs=8)]: Done  10 out of  10 | elapsed:    1.8s finished\n",
      "[Parallel(n_jobs=-1)]: Done   6 out of  10 | elapsed:   36.6s remaining:   24.4s\n",
      "[Parallel(n_jobs=-1)]: Done  10 out of  10 | elapsed:  1.1min finished\n",
      "[Parallel(n_jobs=8)]: Done   6 out of  10 | elapsed:    0.5s remaining:    0.3s\n",
      "[Parallel(n_jobs=8)]: Done  10 out of  10 | elapsed:    0.9s finished\n",
      "[Parallel(n_jobs=8)]: Done   6 out of  10 | elapsed:    1.0s remaining:    0.7s\n",
      "[Parallel(n_jobs=8)]: Done  10 out of  10 | elapsed:    1.8s finished\n",
      "[Parallel(n_jobs=-1)]: Done   6 out of  10 | elapsed:   36.1s remaining:   24.1s\n",
      "[Parallel(n_jobs=-1)]: Done  10 out of  10 | elapsed:  1.1min finished\n",
      "[Parallel(n_jobs=8)]: Done   6 out of  10 | elapsed:    0.5s remaining:    0.3s\n",
      "[Parallel(n_jobs=8)]: Done  10 out of  10 | elapsed:    0.8s finished\n",
      "[Parallel(n_jobs=8)]: Done   6 out of  10 | elapsed:    1.0s remaining:    0.6s\n",
      "[Parallel(n_jobs=8)]: Done  10 out of  10 | elapsed:    1.7s finished\n",
      "[Parallel(n_jobs=-1)]: Done   6 out of  10 | elapsed:   35.7s remaining:   23.8s\n",
      "[Parallel(n_jobs=-1)]: Done  10 out of  10 | elapsed:  1.1min finished\n",
      "[Parallel(n_jobs=8)]: Done   6 out of  10 | elapsed:    0.5s remaining:    0.3s\n",
      "[Parallel(n_jobs=8)]: Done  10 out of  10 | elapsed:    0.9s finished\n",
      "[Parallel(n_jobs=8)]: Done   6 out of  10 | elapsed:    1.0s remaining:    0.7s\n",
      "[Parallel(n_jobs=8)]: Done  10 out of  10 | elapsed:    1.7s finished\n",
      "[Parallel(n_jobs=-1)]: Done   6 out of  10 | elapsed:   36.6s remaining:   24.4s\n",
      "[Parallel(n_jobs=-1)]: Done  10 out of  10 | elapsed:  1.1min finished\n",
      "[Parallel(n_jobs=8)]: Done   6 out of  10 | elapsed:    0.5s remaining:    0.3s\n",
      "[Parallel(n_jobs=8)]: Done  10 out of  10 | elapsed:    0.8s finished\n",
      "[Parallel(n_jobs=8)]: Done   6 out of  10 | elapsed:    1.0s remaining:    0.7s\n",
      "[Parallel(n_jobs=8)]: Done  10 out of  10 | elapsed:    1.7s finished\n",
      "[Parallel(n_jobs=-1)]: Done   6 out of  10 | elapsed:   36.1s remaining:   24.0s\n",
      "[Parallel(n_jobs=-1)]: Done  10 out of  10 | elapsed:  1.1min finished\n",
      "[Parallel(n_jobs=8)]: Done   6 out of  10 | elapsed:    0.5s remaining:    0.3s\n",
      "[Parallel(n_jobs=8)]: Done  10 out of  10 | elapsed:    0.8s finished\n",
      "[Parallel(n_jobs=8)]: Done   6 out of  10 | elapsed:    1.0s remaining:    0.6s\n",
      "[Parallel(n_jobs=8)]: Done  10 out of  10 | elapsed:    1.7s finished\n",
      "[Parallel(n_jobs=-1)]: Done   6 out of  10 | elapsed:   35.9s remaining:   23.9s\n",
      "[Parallel(n_jobs=-1)]: Done  10 out of  10 | elapsed:  1.1min finished\n",
      "[Parallel(n_jobs=8)]: Done   6 out of  10 | elapsed:    0.5s remaining:    0.3s\n",
      "[Parallel(n_jobs=8)]: Done  10 out of  10 | elapsed:    0.8s finished\n",
      "[Parallel(n_jobs=8)]: Done   6 out of  10 | elapsed:    1.0s remaining:    0.6s\n",
      "[Parallel(n_jobs=8)]: Done  10 out of  10 | elapsed:    1.7s finished\n",
      "[Parallel(n_jobs=-1)]: Done   6 out of  10 | elapsed:   36.0s remaining:   24.0s\n",
      "[Parallel(n_jobs=-1)]: Done  10 out of  10 | elapsed:  1.1min finished\n",
      "[Parallel(n_jobs=8)]: Done   6 out of  10 | elapsed:    0.5s remaining:    0.3s\n",
      "[Parallel(n_jobs=8)]: Done  10 out of  10 | elapsed:    0.8s finished\n",
      "[Parallel(n_jobs=8)]: Done   6 out of  10 | elapsed:    1.0s remaining:    0.7s\n",
      "[Parallel(n_jobs=8)]: Done  10 out of  10 | elapsed:    1.7s finished\n",
      "[Parallel(n_jobs=-1)]: Done   6 out of  10 | elapsed:   36.3s remaining:   24.2s\n"
     ]
    },
    {
     "name": "stderr",
     "output_type": "stream",
     "text": [
      "[Parallel(n_jobs=-1)]: Done  10 out of  10 | elapsed:  1.1min finished\n",
      "[Parallel(n_jobs=8)]: Done   6 out of  10 | elapsed:    0.5s remaining:    0.3s\n",
      "[Parallel(n_jobs=8)]: Done  10 out of  10 | elapsed:    0.8s finished\n",
      "[Parallel(n_jobs=8)]: Done   6 out of  10 | elapsed:    0.9s remaining:    0.6s\n",
      "[Parallel(n_jobs=8)]: Done  10 out of  10 | elapsed:    1.7s finished\n",
      "[Parallel(n_jobs=-1)]: Done   6 out of  10 | elapsed:   35.6s remaining:   23.8s\n",
      "[Parallel(n_jobs=-1)]: Done  10 out of  10 | elapsed:  1.1min finished\n",
      "[Parallel(n_jobs=8)]: Done   6 out of  10 | elapsed:    0.5s remaining:    0.3s\n",
      "[Parallel(n_jobs=8)]: Done  10 out of  10 | elapsed:    0.8s finished\n",
      "[Parallel(n_jobs=8)]: Done   6 out of  10 | elapsed:    0.9s remaining:    0.6s\n",
      "[Parallel(n_jobs=8)]: Done  10 out of  10 | elapsed:    1.7s finished\n",
      "[Parallel(n_jobs=-1)]: Done   6 out of  10 | elapsed:   35.3s remaining:   23.5s\n",
      "[Parallel(n_jobs=-1)]: Done  10 out of  10 | elapsed:  1.1min finished\n",
      "[Parallel(n_jobs=8)]: Done   6 out of  10 | elapsed:    0.5s remaining:    0.3s\n",
      "[Parallel(n_jobs=8)]: Done  10 out of  10 | elapsed:    0.8s finished\n",
      "[Parallel(n_jobs=8)]: Done   6 out of  10 | elapsed:    1.0s remaining:    0.6s\n",
      "[Parallel(n_jobs=8)]: Done  10 out of  10 | elapsed:    1.6s finished\n",
      "[Parallel(n_jobs=8)]: Done   6 out of  10 | elapsed:    1.0s remaining:    0.6s\n",
      "[Parallel(n_jobs=8)]: Done  10 out of  10 | elapsed:    1.7s finished\n",
      "[Parallel(n_jobs=-1)]: Done   6 out of  10 | elapsed:   35.8s remaining:   23.9s\n",
      "[Parallel(n_jobs=-1)]: Done  10 out of  10 | elapsed:  1.1min finished\n",
      "[Parallel(n_jobs=8)]: Done   6 out of  10 | elapsed:    0.5s remaining:    0.3s\n",
      "[Parallel(n_jobs=8)]: Done  10 out of  10 | elapsed:    0.8s finished\n",
      "[Parallel(n_jobs=8)]: Done   6 out of  10 | elapsed:    1.0s remaining:    0.6s\n",
      "[Parallel(n_jobs=8)]: Done  10 out of  10 | elapsed:    1.7s finished\n",
      "[Parallel(n_jobs=-1)]: Done   6 out of  10 | elapsed:   36.3s remaining:   24.2s\n",
      "[Parallel(n_jobs=-1)]: Done  10 out of  10 | elapsed:  1.1min finished\n",
      "[Parallel(n_jobs=8)]: Done   6 out of  10 | elapsed:    0.5s remaining:    0.3s\n",
      "[Parallel(n_jobs=8)]: Done  10 out of  10 | elapsed:    0.8s finished\n",
      "[Parallel(n_jobs=8)]: Done   6 out of  10 | elapsed:    0.9s remaining:    0.6s\n",
      "[Parallel(n_jobs=8)]: Done  10 out of  10 | elapsed:    1.6s finished\n",
      "[Parallel(n_jobs=-1)]: Done   6 out of  10 | elapsed:   36.3s remaining:   24.2s\n",
      "[Parallel(n_jobs=-1)]: Done  10 out of  10 | elapsed:  1.1min finished\n",
      "[Parallel(n_jobs=8)]: Done   6 out of  10 | elapsed:    0.5s remaining:    0.3s\n",
      "[Parallel(n_jobs=8)]: Done  10 out of  10 | elapsed:    0.8s finished\n",
      "[Parallel(n_jobs=8)]: Done   6 out of  10 | elapsed:    0.9s remaining:    0.6s\n",
      "[Parallel(n_jobs=8)]: Done  10 out of  10 | elapsed:    1.6s finished\n",
      "[Parallel(n_jobs=-1)]: Done   6 out of  10 | elapsed:   35.9s remaining:   23.9s\n",
      "[Parallel(n_jobs=-1)]: Done  10 out of  10 | elapsed:  1.1min finished\n",
      "[Parallel(n_jobs=8)]: Done   6 out of  10 | elapsed:    0.5s remaining:    0.3s\n",
      "[Parallel(n_jobs=8)]: Done  10 out of  10 | elapsed:    0.8s finished\n",
      "[Parallel(n_jobs=8)]: Done   6 out of  10 | elapsed:    1.0s remaining:    0.6s\n",
      "[Parallel(n_jobs=8)]: Done  10 out of  10 | elapsed:    1.7s finished\n",
      "[Parallel(n_jobs=-1)]: Done   6 out of  10 | elapsed:   35.5s remaining:   23.7s\n",
      "[Parallel(n_jobs=-1)]: Done  10 out of  10 | elapsed:  1.1min finished\n",
      "[Parallel(n_jobs=8)]: Done   6 out of  10 | elapsed:    0.5s remaining:    0.3s\n",
      "[Parallel(n_jobs=8)]: Done  10 out of  10 | elapsed:    0.8s finished\n",
      "[Parallel(n_jobs=8)]: Done   6 out of  10 | elapsed:    0.9s remaining:    0.6s\n",
      "[Parallel(n_jobs=8)]: Done  10 out of  10 | elapsed:    1.6s finished\n",
      "[Parallel(n_jobs=-1)]: Done   6 out of  10 | elapsed:   36.2s remaining:   24.2s\n",
      "[Parallel(n_jobs=-1)]: Done  10 out of  10 | elapsed:  1.1min finished\n",
      "[Parallel(n_jobs=8)]: Done   6 out of  10 | elapsed:    0.4s remaining:    0.3s\n",
      "[Parallel(n_jobs=8)]: Done  10 out of  10 | elapsed:    0.8s finished\n",
      "[Parallel(n_jobs=8)]: Done   6 out of  10 | elapsed:    0.9s remaining:    0.6s\n",
      "[Parallel(n_jobs=8)]: Done  10 out of  10 | elapsed:    1.6s finished\n",
      "[Parallel(n_jobs=-1)]: Done   6 out of  10 | elapsed:   36.0s remaining:   24.0s\n",
      "[Parallel(n_jobs=-1)]: Done  10 out of  10 | elapsed:  1.1min finished\n",
      "[Parallel(n_jobs=8)]: Done   6 out of  10 | elapsed:    0.5s remaining:    0.3s\n",
      "[Parallel(n_jobs=8)]: Done  10 out of  10 | elapsed:    0.8s finished\n",
      "[Parallel(n_jobs=8)]: Done   6 out of  10 | elapsed:    0.9s remaining:    0.6s\n",
      "[Parallel(n_jobs=8)]: Done  10 out of  10 | elapsed:    1.6s finished\n",
      "[Parallel(n_jobs=-1)]: Done   6 out of  10 | elapsed:   35.7s remaining:   23.8s\n",
      "[Parallel(n_jobs=-1)]: Done  10 out of  10 | elapsed:  1.1min finished\n",
      "[Parallel(n_jobs=8)]: Done   6 out of  10 | elapsed:    0.5s remaining:    0.3s\n",
      "[Parallel(n_jobs=8)]: Done  10 out of  10 | elapsed:    0.8s finished\n",
      "[Parallel(n_jobs=8)]: Done   6 out of  10 | elapsed:    0.9s remaining:    0.6s\n",
      "[Parallel(n_jobs=8)]: Done  10 out of  10 | elapsed:    1.6s finished\n",
      "[Parallel(n_jobs=-1)]: Done   6 out of  10 | elapsed:   35.2s remaining:   23.4s\n",
      "[Parallel(n_jobs=-1)]: Done  10 out of  10 | elapsed:  1.1min finished\n",
      "[Parallel(n_jobs=8)]: Done   6 out of  10 | elapsed:    0.4s remaining:    0.3s\n",
      "[Parallel(n_jobs=8)]: Done  10 out of  10 | elapsed:    0.8s finished\n",
      "[Parallel(n_jobs=8)]: Done   6 out of  10 | elapsed:    0.9s remaining:    0.6s\n",
      "[Parallel(n_jobs=8)]: Done  10 out of  10 | elapsed:    1.6s finished\n",
      "[Parallel(n_jobs=-1)]: Done   6 out of  10 | elapsed:   35.9s remaining:   23.9s\n",
      "[Parallel(n_jobs=-1)]: Done  10 out of  10 | elapsed:  1.1min finished\n",
      "[Parallel(n_jobs=8)]: Done   6 out of  10 | elapsed:    0.5s remaining:    0.3s\n",
      "[Parallel(n_jobs=8)]: Done  10 out of  10 | elapsed:    0.8s finished\n",
      "[Parallel(n_jobs=8)]: Done   6 out of  10 | elapsed:    0.9s remaining:    0.6s\n",
      "[Parallel(n_jobs=8)]: Done  10 out of  10 | elapsed:    1.6s finished\n",
      "[Parallel(n_jobs=-1)]: Done   6 out of  10 | elapsed:   35.3s remaining:   23.5s\n",
      "[Parallel(n_jobs=-1)]: Done  10 out of  10 | elapsed:  1.1min finished\n",
      "[Parallel(n_jobs=8)]: Done   6 out of  10 | elapsed:    0.5s remaining:    0.3s\n",
      "[Parallel(n_jobs=8)]: Done  10 out of  10 | elapsed:    0.8s finished\n",
      "[Parallel(n_jobs=8)]: Done   6 out of  10 | elapsed:    0.9s remaining:    0.6s\n",
      "[Parallel(n_jobs=8)]: Done  10 out of  10 | elapsed:    1.6s finished\n",
      "[Parallel(n_jobs=-1)]: Done   6 out of  10 | elapsed:   36.1s remaining:   24.1s\n",
      "[Parallel(n_jobs=-1)]: Done  10 out of  10 | elapsed:  1.1min finished\n",
      "[Parallel(n_jobs=8)]: Done   6 out of  10 | elapsed:    0.4s remaining:    0.3s\n",
      "[Parallel(n_jobs=8)]: Done  10 out of  10 | elapsed:    0.8s finished\n",
      "[Parallel(n_jobs=8)]: Done   6 out of  10 | elapsed:    0.9s remaining:    0.6s\n",
      "[Parallel(n_jobs=8)]: Done  10 out of  10 | elapsed:    1.6s finished\n",
      "[Parallel(n_jobs=-1)]: Done   6 out of  10 | elapsed:   35.8s remaining:   23.9s\n",
      "[Parallel(n_jobs=-1)]: Done  10 out of  10 | elapsed:  1.1min finished\n",
      "[Parallel(n_jobs=8)]: Done   6 out of  10 | elapsed:    0.5s remaining:    0.3s\n",
      "[Parallel(n_jobs=8)]: Done  10 out of  10 | elapsed:    0.8s finished\n",
      "[Parallel(n_jobs=8)]: Done   6 out of  10 | elapsed:    0.9s remaining:    0.6s\n",
      "[Parallel(n_jobs=8)]: Done  10 out of  10 | elapsed:    1.6s finished\n",
      "[Parallel(n_jobs=-1)]: Done   6 out of  10 | elapsed:   36.0s remaining:   24.0s\n",
      "[Parallel(n_jobs=-1)]: Done  10 out of  10 | elapsed:  1.1min finished\n",
      "[Parallel(n_jobs=8)]: Done   6 out of  10 | elapsed:    0.4s remaining:    0.3s\n",
      "[Parallel(n_jobs=8)]: Done  10 out of  10 | elapsed:    0.8s finished\n",
      "[Parallel(n_jobs=8)]: Done   6 out of  10 | elapsed:    0.9s remaining:    0.6s\n",
      "[Parallel(n_jobs=8)]: Done  10 out of  10 | elapsed:    1.6s finished\n",
      "[Parallel(n_jobs=-1)]: Done   6 out of  10 | elapsed:   34.8s remaining:   23.2s\n",
      "[Parallel(n_jobs=-1)]: Done  10 out of  10 | elapsed:  1.1min finished\n",
      "[Parallel(n_jobs=8)]: Done   6 out of  10 | elapsed:    0.4s remaining:    0.3s\n",
      "[Parallel(n_jobs=8)]: Done  10 out of  10 | elapsed:    0.8s finished\n",
      "[Parallel(n_jobs=8)]: Done   6 out of  10 | elapsed:    0.9s remaining:    0.6s\n",
      "[Parallel(n_jobs=8)]: Done  10 out of  10 | elapsed:    1.6s finished\n"
     ]
    },
    {
     "name": "stderr",
     "output_type": "stream",
     "text": [
      "[Parallel(n_jobs=-1)]: Done   6 out of  10 | elapsed:  1.7min remaining:  1.1min\n",
      "[Parallel(n_jobs=-1)]: Done  10 out of  10 | elapsed:  2.1min finished\n",
      "[Parallel(n_jobs=8)]: Done   6 out of  10 | elapsed:    0.4s remaining:    0.3s\n",
      "[Parallel(n_jobs=8)]: Done  10 out of  10 | elapsed:    0.8s finished\n",
      "[Parallel(n_jobs=8)]: Done   6 out of  10 | elapsed:    0.9s remaining:    0.6s\n",
      "[Parallel(n_jobs=8)]: Done  10 out of  10 | elapsed:    1.5s finished\n",
      "[Parallel(n_jobs=-1)]: Done   6 out of  10 | elapsed:  1.7min remaining:  1.1min\n",
      "[Parallel(n_jobs=-1)]: Done  10 out of  10 | elapsed:  2.5min finished\n",
      "[Parallel(n_jobs=8)]: Done   6 out of  10 | elapsed:    2.5s remaining:    1.7s\n",
      "[Parallel(n_jobs=8)]: Done  10 out of  10 | elapsed:    3.1s finished\n",
      "[Parallel(n_jobs=8)]: Done   6 out of  10 | elapsed:    5.0s remaining:    3.3s\n",
      "[Parallel(n_jobs=8)]: Done  10 out of  10 | elapsed:    6.1s finished\n",
      "[Parallel(n_jobs=-1)]: Done   6 out of  10 | elapsed:  1.9min remaining:  1.3min\n",
      "[Parallel(n_jobs=-1)]: Done  10 out of  10 | elapsed:  2.5min finished\n",
      "[Parallel(n_jobs=8)]: Done   6 out of  10 | elapsed:    2.6s remaining:    1.7s\n",
      "[Parallel(n_jobs=8)]: Done  10 out of  10 | elapsed:    3.1s finished\n",
      "[Parallel(n_jobs=8)]: Done   6 out of  10 | elapsed:    5.0s remaining:    3.3s\n",
      "[Parallel(n_jobs=8)]: Done  10 out of  10 | elapsed:    6.1s finished\n",
      "[Parallel(n_jobs=-1)]: Done   6 out of  10 | elapsed:  3.3min remaining:  2.2min\n",
      "[Parallel(n_jobs=-1)]: Done  10 out of  10 | elapsed:  4.0min finished\n",
      "[Parallel(n_jobs=8)]: Done   6 out of  10 | elapsed:    0.4s remaining:    0.3s\n",
      "[Parallel(n_jobs=8)]: Done  10 out of  10 | elapsed:    0.8s finished\n",
      "[Parallel(n_jobs=8)]: Done   6 out of  10 | elapsed:    0.9s remaining:    0.6s\n",
      "[Parallel(n_jobs=8)]: Done  10 out of  10 | elapsed:    1.5s finished\n",
      "[Parallel(n_jobs=-1)]: Done   6 out of  10 | elapsed:  1.3min remaining:   51.1s\n",
      "[Parallel(n_jobs=-1)]: Done  10 out of  10 | elapsed:  2.0min finished\n",
      "[Parallel(n_jobs=8)]: Done   6 out of  10 | elapsed:    2.5s remaining:    1.6s\n",
      "[Parallel(n_jobs=8)]: Done  10 out of  10 | elapsed:    3.0s finished\n",
      "[Parallel(n_jobs=8)]: Done   6 out of  10 | elapsed:    5.0s remaining:    3.3s\n",
      "[Parallel(n_jobs=8)]: Done  10 out of  10 | elapsed:    6.1s finished\n",
      "[Parallel(n_jobs=-1)]: Done   6 out of  10 | elapsed:  2.8min remaining:  1.8min\n",
      "[Parallel(n_jobs=-1)]: Done  10 out of  10 | elapsed:  3.2min finished\n",
      "[Parallel(n_jobs=8)]: Done   6 out of  10 | elapsed:    0.4s remaining:    0.3s\n",
      "[Parallel(n_jobs=8)]: Done  10 out of  10 | elapsed:    0.8s finished\n",
      "[Parallel(n_jobs=8)]: Done   6 out of  10 | elapsed:    0.9s remaining:    0.6s\n",
      "[Parallel(n_jobs=8)]: Done  10 out of  10 | elapsed:    1.5s finished\n",
      "[Parallel(n_jobs=-1)]: Done   6 out of  10 | elapsed:  2.6min remaining:  1.7min\n",
      "[Parallel(n_jobs=-1)]: Done  10 out of  10 | elapsed:  3.3min finished\n",
      "[Parallel(n_jobs=8)]: Done   6 out of  10 | elapsed:    2.5s remaining:    1.7s\n",
      "[Parallel(n_jobs=8)]: Done  10 out of  10 | elapsed:    3.1s finished\n",
      "[Parallel(n_jobs=8)]: Done   6 out of  10 | elapsed:    5.0s remaining:    3.3s\n",
      "[Parallel(n_jobs=8)]: Done  10 out of  10 | elapsed:    6.1s finished\n",
      "[Parallel(n_jobs=-1)]: Done   6 out of  10 | elapsed:  1.3min remaining:   51.0s\n",
      "[Parallel(n_jobs=-1)]: Done  10 out of  10 | elapsed:  2.0min finished\n",
      "[Parallel(n_jobs=8)]: Done   6 out of  10 | elapsed:    2.5s remaining:    1.7s\n",
      "[Parallel(n_jobs=8)]: Done  10 out of  10 | elapsed:    3.1s finished\n",
      "[Parallel(n_jobs=8)]: Done   6 out of  10 | elapsed:    4.9s remaining:    3.3s\n",
      "[Parallel(n_jobs=8)]: Done  10 out of  10 | elapsed:    5.9s finished\n",
      "[Parallel(n_jobs=-1)]: Done   6 out of  10 | elapsed:  3.2min remaining:  2.1min\n",
      "[Parallel(n_jobs=-1)]: Done  10 out of  10 | elapsed:  3.8min finished\n",
      "[Parallel(n_jobs=8)]: Done   6 out of  10 | elapsed:    0.4s remaining:    0.3s\n",
      "[Parallel(n_jobs=8)]: Done  10 out of  10 | elapsed:    0.7s finished\n",
      "[Parallel(n_jobs=8)]: Done   6 out of  10 | elapsed:    0.8s remaining:    0.6s\n",
      "[Parallel(n_jobs=8)]: Done  10 out of  10 | elapsed:    1.5s finished\n",
      "[Parallel(n_jobs=-1)]: Done   6 out of  10 | elapsed:  1.5min remaining:  1.0min\n",
      "[Parallel(n_jobs=-1)]: Done  10 out of  10 | elapsed:  2.3min finished\n",
      "[Parallel(n_jobs=8)]: Done   6 out of  10 | elapsed:    2.4s remaining:    1.6s\n",
      "[Parallel(n_jobs=8)]: Done  10 out of  10 | elapsed:    2.9s finished\n",
      "[Parallel(n_jobs=8)]: Done   6 out of  10 | elapsed:    4.8s remaining:    3.2s\n",
      "[Parallel(n_jobs=8)]: Done  10 out of  10 | elapsed:    5.8s finished\n",
      "[Parallel(n_jobs=-1)]: Done   6 out of  10 | elapsed:  2.3min remaining:  1.6min\n",
      "[Parallel(n_jobs=-1)]: Done  10 out of  10 | elapsed:  2.8min finished\n",
      "[Parallel(n_jobs=8)]: Done   6 out of  10 | elapsed:    0.4s remaining:    0.3s\n",
      "[Parallel(n_jobs=8)]: Done  10 out of  10 | elapsed:    0.7s finished\n",
      "[Parallel(n_jobs=8)]: Done   6 out of  10 | elapsed:    0.8s remaining:    0.6s\n",
      "[Parallel(n_jobs=8)]: Done  10 out of  10 | elapsed:    1.5s finished\n",
      "[Parallel(n_jobs=-1)]: Done   6 out of  10 | elapsed:  2.9min remaining:  1.9min\n",
      "[Parallel(n_jobs=-1)]: Done  10 out of  10 | elapsed:  3.7min finished\n",
      "[Parallel(n_jobs=8)]: Done   6 out of  10 | elapsed:    2.4s remaining:    1.6s\n",
      "[Parallel(n_jobs=8)]: Done  10 out of  10 | elapsed:    2.9s finished\n",
      "[Parallel(n_jobs=8)]: Done   6 out of  10 | elapsed:    4.8s remaining:    3.2s\n",
      "[Parallel(n_jobs=8)]: Done  10 out of  10 | elapsed:    5.8s finished\n",
      "[Parallel(n_jobs=-1)]: Done   6 out of  10 | elapsed:  1.3min remaining:   50.2s\n",
      "[Parallel(n_jobs=-1)]: Done  10 out of  10 | elapsed:  2.0min finished\n",
      "[Parallel(n_jobs=8)]: Done   6 out of  10 | elapsed:    2.4s remaining:    1.6s\n",
      "[Parallel(n_jobs=8)]: Done  10 out of  10 | elapsed:    3.0s finished\n",
      "[Parallel(n_jobs=8)]: Done   6 out of  10 | elapsed:    4.9s remaining:    3.2s\n",
      "[Parallel(n_jobs=8)]: Done  10 out of  10 | elapsed:    5.9s finished\n",
      "[Parallel(n_jobs=-1)]: Done   6 out of  10 | elapsed:  3.2min remaining:  2.1min\n",
      "[Parallel(n_jobs=-1)]: Done  10 out of  10 | elapsed:  3.7min finished\n",
      "[Parallel(n_jobs=8)]: Done   6 out of  10 | elapsed:    0.4s remaining:    0.3s\n",
      "[Parallel(n_jobs=8)]: Done  10 out of  10 | elapsed:    0.7s finished\n",
      "[Parallel(n_jobs=8)]: Done   6 out of  10 | elapsed:    0.9s remaining:    0.6s\n",
      "[Parallel(n_jobs=8)]: Done  10 out of  10 | elapsed:    1.5s finished\n",
      "[Parallel(n_jobs=-1)]: Done   6 out of  10 | elapsed:  1.7min remaining:  1.1min\n",
      "[Parallel(n_jobs=-1)]: Done  10 out of  10 | elapsed:  2.5min finished\n",
      "[Parallel(n_jobs=8)]: Done   6 out of  10 | elapsed:    2.4s remaining:    1.6s\n",
      "[Parallel(n_jobs=8)]: Done  10 out of  10 | elapsed:    3.0s finished\n",
      "[Parallel(n_jobs=8)]: Done   6 out of  10 | elapsed:    4.9s remaining:    3.3s\n",
      "[Parallel(n_jobs=8)]: Done  10 out of  10 | elapsed:    5.9s finished\n",
      "[Parallel(n_jobs=-1)]: Done   6 out of  10 | elapsed:  2.0min remaining:  1.3min\n",
      "[Parallel(n_jobs=-1)]: Done  10 out of  10 | elapsed:  2.5min finished\n",
      "[Parallel(n_jobs=8)]: Done   6 out of  10 | elapsed:    1.6s remaining:    1.1s\n",
      "[Parallel(n_jobs=8)]: Done  10 out of  10 | elapsed:    2.1s finished\n",
      "[Parallel(n_jobs=8)]: Done   6 out of  10 | elapsed:    4.8s remaining:    3.2s\n",
      "[Parallel(n_jobs=8)]: Done  10 out of  10 | elapsed:    5.8s finished\n",
      "[Parallel(n_jobs=-1)]: Done   6 out of  10 | elapsed:  3.3min remaining:  2.2min\n",
      "[Parallel(n_jobs=-1)]: Done  10 out of  10 | elapsed:  4.0min finished\n",
      "[Parallel(n_jobs=8)]: Done   6 out of  10 | elapsed:    2.3s remaining:    1.6s\n",
      "[Parallel(n_jobs=8)]: Done  10 out of  10 | elapsed:    2.8s finished\n",
      "[Parallel(n_jobs=8)]: Done   6 out of  10 | elapsed:    2.6s remaining:    1.7s\n",
      "[Parallel(n_jobs=8)]: Done  10 out of  10 | elapsed:    3.2s finished\n",
      "[Parallel(n_jobs=-1)]: Done   6 out of  10 | elapsed:  1.2min remaining:   48.4s\n",
      "[Parallel(n_jobs=-1)]: Done  10 out of  10 | elapsed:  2.0min finished\n",
      "[Parallel(n_jobs=8)]: Done   6 out of  10 | elapsed:    2.4s remaining:    1.6s\n",
      "[Parallel(n_jobs=8)]: Done  10 out of  10 | elapsed:    2.9s finished\n",
      "[Parallel(n_jobs=8)]: Done   6 out of  10 | elapsed:    4.8s remaining:    3.2s\n",
      "[Parallel(n_jobs=8)]: Done  10 out of  10 | elapsed:    5.8s finished\n",
      "[Parallel(n_jobs=-1)]: Done   6 out of  10 | elapsed:  2.9min remaining:  1.9min\n"
     ]
    },
    {
     "name": "stderr",
     "output_type": "stream",
     "text": [
      "[Parallel(n_jobs=-1)]: Done  10 out of  10 | elapsed:  3.3min finished\n",
      "[Parallel(n_jobs=8)]: Done   6 out of  10 | elapsed:    0.4s remaining:    0.3s\n",
      "[Parallel(n_jobs=8)]: Done  10 out of  10 | elapsed:    0.7s finished\n",
      "[Parallel(n_jobs=8)]: Done   6 out of  10 | elapsed:    0.8s remaining:    0.5s\n",
      "[Parallel(n_jobs=8)]: Done  10 out of  10 | elapsed:    1.4s finished\n",
      "[Parallel(n_jobs=-1)]: Done   6 out of  10 | elapsed:  2.4min remaining:  1.6min\n",
      "[Parallel(n_jobs=-1)]: Done  10 out of  10 | elapsed:  3.2min finished\n",
      "[Parallel(n_jobs=8)]: Done   6 out of  10 | elapsed:    2.3s remaining:    1.5s\n",
      "[Parallel(n_jobs=8)]: Done  10 out of  10 | elapsed:    2.8s finished\n",
      "[Parallel(n_jobs=8)]: Done   6 out of  10 | elapsed:    4.8s remaining:    3.2s\n",
      "[Parallel(n_jobs=8)]: Done  10 out of  10 | elapsed:    5.8s finished\n",
      "[Parallel(n_jobs=-1)]: Done   6 out of  10 | elapsed:  1.5min remaining:   58.0s\n",
      "[Parallel(n_jobs=-1)]: Done  10 out of  10 | elapsed:  2.1min finished\n",
      "[Parallel(n_jobs=8)]: Done   6 out of  10 | elapsed:    2.4s remaining:    1.6s\n",
      "[Parallel(n_jobs=8)]: Done  10 out of  10 | elapsed:    3.0s finished\n",
      "[Parallel(n_jobs=8)]: Done   6 out of  10 | elapsed:    4.8s remaining:    3.2s\n",
      "[Parallel(n_jobs=8)]: Done  10 out of  10 | elapsed:    5.9s finished\n",
      "[Parallel(n_jobs=-1)]: Done   6 out of  10 | elapsed:  3.3min remaining:  2.2min\n",
      "[Parallel(n_jobs=-1)]: Done  10 out of  10 | elapsed:  3.9min finished\n",
      "[Parallel(n_jobs=8)]: Done   6 out of  10 | elapsed:    0.4s remaining:    0.3s\n",
      "[Parallel(n_jobs=8)]: Done  10 out of  10 | elapsed:    0.7s finished\n",
      "[Parallel(n_jobs=8)]: Done   6 out of  10 | elapsed:    0.8s remaining:    0.5s\n",
      "[Parallel(n_jobs=8)]: Done  10 out of  10 | elapsed:    1.4s finished\n",
      "[Parallel(n_jobs=-1)]: Done   6 out of  10 | elapsed:  1.4min remaining:   57.6s\n",
      "[Parallel(n_jobs=-1)]: Done  10 out of  10 | elapsed:  2.2min finished\n",
      "[Parallel(n_jobs=8)]: Done   6 out of  10 | elapsed:    2.4s remaining:    1.6s\n",
      "[Parallel(n_jobs=8)]: Done  10 out of  10 | elapsed:    3.0s finished\n",
      "[Parallel(n_jobs=8)]: Done   6 out of  10 | elapsed:    4.7s remaining:    3.2s\n",
      "[Parallel(n_jobs=8)]: Done  10 out of  10 | elapsed:    5.8s finished\n",
      "[Parallel(n_jobs=-1)]: Done   6 out of  10 | elapsed:  2.5min remaining:  1.7min\n",
      "[Parallel(n_jobs=-1)]: Done  10 out of  10 | elapsed:  3.0min finished\n",
      "[Parallel(n_jobs=8)]: Done   6 out of  10 | elapsed:    0.4s remaining:    0.3s\n",
      "[Parallel(n_jobs=8)]: Done  10 out of  10 | elapsed:    0.7s finished\n",
      "[Parallel(n_jobs=8)]: Done   6 out of  10 | elapsed:    0.8s remaining:    0.5s\n",
      "[Parallel(n_jobs=8)]: Done  10 out of  10 | elapsed:    1.5s finished\n",
      "[Parallel(n_jobs=-1)]: Done   6 out of  10 | elapsed:  2.7min remaining:  1.8min\n",
      "[Parallel(n_jobs=-1)]: Done  10 out of  10 | elapsed:  3.5min finished\n",
      "[Parallel(n_jobs=8)]: Done   6 out of  10 | elapsed:    2.4s remaining:    1.6s\n",
      "[Parallel(n_jobs=8)]: Done  10 out of  10 | elapsed:    2.9s finished\n",
      "[Parallel(n_jobs=8)]: Done   6 out of  10 | elapsed:    4.8s remaining:    3.2s\n",
      "[Parallel(n_jobs=8)]: Done  10 out of  10 | elapsed:    5.8s finished\n",
      "[Parallel(n_jobs=-1)]: Done   6 out of  10 | elapsed:  3.3min remaining:  2.2min\n",
      "[Parallel(n_jobs=-1)]: Done  10 out of  10 | elapsed:  4.5min finished\n",
      "[Parallel(n_jobs=8)]: Done   6 out of  10 | elapsed:    8.2s remaining:    5.4s\n",
      "[Parallel(n_jobs=8)]: Done  10 out of  10 | elapsed:    9.8s finished\n",
      "[Parallel(n_jobs=8)]: Done   6 out of  10 | elapsed:    2.6s remaining:    1.7s\n"
     ]
    },
    {
     "name": "stdout",
     "output_type": "stream",
     "text": [
      "CPU times: user 12h 33min 56s, sys: 2min 55s, total: 12h 36min 52s\n",
      "Wall time: 2h 6min 21s\n"
     ]
    },
    {
     "name": "stderr",
     "output_type": "stream",
     "text": [
      "[Parallel(n_jobs=8)]: Done  10 out of  10 | elapsed:    3.1s finished\n"
     ]
    }
   ],
   "source": [
    "%%time\n",
    "rf.fit(X_train, y_train)\n",
    "rf.score(X_train, y_train), rf.score(X_test, y_test)"
   ]
  },
  {
   "cell_type": "code",
   "execution_count": 56,
   "metadata": {},
   "outputs": [
    {
     "data": {
      "text/plain": [
       "{'min_samples_leaf': 10,\n",
       " 'min_samples_split': 3,\n",
       " 'n_jobs': -1,\n",
       " 'random_state': 32,\n",
       " 'verbose': 1}"
      ]
     },
     "execution_count": 56,
     "metadata": {},
     "output_type": "execute_result"
    }
   ],
   "source": [
    "rf.best_params_"
   ]
  },
  {
   "cell_type": "code",
   "execution_count": 57,
   "metadata": {},
   "outputs": [
    {
     "name": "stderr",
     "output_type": "stream",
     "text": [
      "[Parallel(n_jobs=8)]: Done   6 out of  10 | elapsed:    8.1s remaining:    5.4s\n",
      "[Parallel(n_jobs=8)]: Done  10 out of  10 | elapsed:    9.8s finished\n"
     ]
    },
    {
     "data": {
      "text/plain": [
       "0.85624492363448557"
      ]
     },
     "execution_count": 57,
     "metadata": {},
     "output_type": "execute_result"
    }
   ],
   "source": [
    "rf.score(X_train, y_train)"
   ]
  },
  {
   "cell_type": "code",
   "execution_count": 58,
   "metadata": {},
   "outputs": [
    {
     "name": "stderr",
     "output_type": "stream",
     "text": [
      "[Parallel(n_jobs=8)]: Done   6 out of  10 | elapsed:    2.7s remaining:    1.8s\n",
      "[Parallel(n_jobs=8)]: Done  10 out of  10 | elapsed:    3.2s finished\n"
     ]
    },
    {
     "data": {
      "text/plain": [
       "0.69385006131844718"
      ]
     },
     "execution_count": 58,
     "metadata": {},
     "output_type": "execute_result"
    }
   ],
   "source": [
    "rf.score(X_test, y_test)"
   ]
  },
  {
   "cell_type": "code",
   "execution_count": null,
   "metadata": {},
   "outputs": [],
   "source": []
  }
 ],
 "metadata": {
  "kernelspec": {
   "display_name": "Python 3",
   "language": "python",
   "name": "python3"
  },
  "language_info": {
   "codemirror_mode": {
    "name": "ipython",
    "version": 3
   },
   "file_extension": ".py",
   "mimetype": "text/x-python",
   "name": "python",
   "nbconvert_exporter": "python",
   "pygments_lexer": "ipython3",
   "version": "3.6.2"
  }
 },
 "nbformat": 4,
 "nbformat_minor": 2
}
