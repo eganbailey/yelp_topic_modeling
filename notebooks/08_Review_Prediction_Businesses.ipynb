{
 "cells": [
  {
   "cell_type": "markdown",
   "metadata": {},
   "source": [
    "# Model Prediction - Businesses\n",
    "\n",
    "Using our trained logistic regression model, I use the business validation dataset and generate predictions for individual reviews and visually inspect those reviews to compare them to the model's predictions."
   ]
  },
  {
   "cell_type": "markdown",
   "metadata": {},
   "source": [
    "## Import modules"
   ]
  },
  {
   "cell_type": "code",
   "execution_count": 1,
   "metadata": {},
   "outputs": [],
   "source": [
    "import pandas as pd\n",
    "import numpy as np\n",
    "import matplotlib.pyplot as plt\n",
    "import pickle\n",
    "\n",
    "%matplotlib inline\n",
    "\n",
    "from sklearn.linear_model import LogisticRegression\n",
    "from sklearn.model_selection import GridSearchCV"
   ]
  },
  {
   "cell_type": "markdown",
   "metadata": {},
   "source": [
    "## Load model and features"
   ]
  },
  {
   "cell_type": "code",
   "execution_count": 3,
   "metadata": {},
   "outputs": [],
   "source": [
    "features = np.load('../data/bus_valid_features.npy')"
   ]
  },
  {
   "cell_type": "code",
   "execution_count": 2,
   "metadata": {},
   "outputs": [],
   "source": [
    "with open('../models/logisticreg.pkl', 'rb') as m:\n",
    "    model = pickle.load(m)"
   ]
  },
  {
   "cell_type": "markdown",
   "metadata": {},
   "source": [
    "## Get predictions for reviews in validation set"
   ]
  },
  {
   "cell_type": "code",
   "execution_count": 11,
   "metadata": {},
   "outputs": [],
   "source": [
    "preds = model.predict(features)"
   ]
  },
  {
   "cell_type": "code",
   "execution_count": 13,
   "metadata": {},
   "outputs": [
    {
     "data": {
      "text/plain": [
       "(635308, 635275)"
      ]
     },
     "execution_count": 13,
     "metadata": {},
     "output_type": "execute_result"
    }
   ],
   "source": [
    "len(model.predict(features)), sum(model.predict(features))"
   ]
  },
  {
   "cell_type": "markdown",
   "metadata": {},
   "source": [
    "We can see that the model essentially predicts that all but 33 of the reviews are 'Useful.' At first glance, this may suggest that our model is flawed; however, we should keep in mind that **all of the reviews in the validation set in actuality have at least 1 or 2 useful votes!**\n",
    "\n",
    "Let's take a look at what reviews the model is predicting is NOT useful:"
   ]
  },
  {
   "cell_type": "code",
   "execution_count": 23,
   "metadata": {},
   "outputs": [],
   "source": [
    "not_useful = np.where(preds==0)"
   ]
  },
  {
   "cell_type": "code",
   "execution_count": 16,
   "metadata": {},
   "outputs": [],
   "source": [
    "bus = pd.read_csv('../data/businesses_validation.csv')"
   ]
  },
  {
   "cell_type": "code",
   "execution_count": 39,
   "metadata": {},
   "outputs": [],
   "source": [
    "not_useful_reviews = bus[bus.index.isin(list(not_useful[0]))][['stars', 'text']]"
   ]
  },
  {
   "cell_type": "code",
   "execution_count": 44,
   "metadata": {},
   "outputs": [
    {
     "data": {
      "text/html": [
       "<div>\n",
       "<table border=\"1\" class=\"dataframe\">\n",
       "  <thead>\n",
       "    <tr style=\"text-align: right;\">\n",
       "      <th></th>\n",
       "      <th>stars</th>\n",
       "      <th>text</th>\n",
       "    </tr>\n",
       "  </thead>\n",
       "  <tbody>\n",
       "    <tr>\n",
       "      <th>53072</th>\n",
       "      <td>5.0</td>\n",
       "      <td>Everything cookie was epic</td>\n",
       "    </tr>\n",
       "    <tr>\n",
       "      <th>59874</th>\n",
       "      <td>5.0</td>\n",
       "      <td>Best coffee in Leslieville.</td>\n",
       "    </tr>\n",
       "    <tr>\n",
       "      <th>84254</th>\n",
       "      <td>5.0</td>\n",
       "      <td>Love my local bar!</td>\n",
       "    </tr>\n",
       "    <tr>\n",
       "      <th>108618</th>\n",
       "      <td>5.0</td>\n",
       "      <td>I love this mall!</td>\n",
       "    </tr>\n",
       "    <tr>\n",
       "      <th>126588</th>\n",
       "      <td>5.0</td>\n",
       "      <td>fast and easy!</td>\n",
       "    </tr>\n",
       "    <tr>\n",
       "      <th>148618</th>\n",
       "      <td>5.0</td>\n",
       "      <td>O.o</td>\n",
       "    </tr>\n",
       "    <tr>\n",
       "      <th>160696</th>\n",
       "      <td>5.0</td>\n",
       "      <td>$2.50 dry clean fast!</td>\n",
       "    </tr>\n",
       "    <tr>\n",
       "      <th>164238</th>\n",
       "      <td>4.0</td>\n",
       "      <td>Awesome place</td>\n",
       "    </tr>\n",
       "    <tr>\n",
       "      <th>171497</th>\n",
       "      <td>5.0</td>\n",
       "      <td>closed.</td>\n",
       "    </tr>\n",
       "    <tr>\n",
       "      <th>176087</th>\n",
       "      <td>3.0</td>\n",
       "      <td>Finis.</td>\n",
       "    </tr>\n",
       "    <tr>\n",
       "      <th>250320</th>\n",
       "      <td>5.0</td>\n",
       "      <td>Great place to tailgate!</td>\n",
       "    </tr>\n",
       "    <tr>\n",
       "      <th>250844</th>\n",
       "      <td>1.0</td>\n",
       "      <td>Gggggggggggggggggggggggggggggggggggggggggggg</td>\n",
       "    </tr>\n",
       "    <tr>\n",
       "      <th>278918</th>\n",
       "      <td>1.0</td>\n",
       "      <td>Gghjjhfd</td>\n",
       "    </tr>\n",
       "    <tr>\n",
       "      <th>318019</th>\n",
       "      <td>5.0</td>\n",
       "      <td>The view is Striking!!!!</td>\n",
       "    </tr>\n",
       "    <tr>\n",
       "      <th>325143</th>\n",
       "      <td>5.0</td>\n",
       "      <td>BAM= bad. ass. mother-effer.</td>\n",
       "    </tr>\n",
       "    <tr>\n",
       "      <th>339329</th>\n",
       "      <td>5.0</td>\n",
       "      <td>Great olives &amp; meat.</td>\n",
       "    </tr>\n",
       "    <tr>\n",
       "      <th>360307</th>\n",
       "      <td>4.0</td>\n",
       "      <td>Nice location.</td>\n",
       "    </tr>\n",
       "    <tr>\n",
       "      <th>388983</th>\n",
       "      <td>4.0</td>\n",
       "      <td>*** closed ***</td>\n",
       "    </tr>\n",
       "    <tr>\n",
       "      <th>390711</th>\n",
       "      <td>5.0</td>\n",
       "      <td>Hiking always fun!</td>\n",
       "    </tr>\n",
       "    <tr>\n",
       "      <th>434508</th>\n",
       "      <td>5.0</td>\n",
       "      <td>The BOMB baby! Awesome!!</td>\n",
       "    </tr>\n",
       "    <tr>\n",
       "      <th>437373</th>\n",
       "      <td>5.0</td>\n",
       "      <td>K</td>\n",
       "    </tr>\n",
       "    <tr>\n",
       "      <th>462231</th>\n",
       "      <td>5.0</td>\n",
       "      <td>love their peach smoothie!</td>\n",
       "    </tr>\n",
       "    <tr>\n",
       "      <th>537230</th>\n",
       "      <td>5.0</td>\n",
       "      <td>Holy roses! Stuh-ning.</td>\n",
       "    </tr>\n",
       "    <tr>\n",
       "      <th>546901</th>\n",
       "      <td>2.0</td>\n",
       "      <td>expensive!!!!!!\\nholy crap!!!!!!</td>\n",
       "    </tr>\n",
       "    <tr>\n",
       "      <th>560743</th>\n",
       "      <td>5.0</td>\n",
       "      <td>I love frys!</td>\n",
       "    </tr>\n",
       "    <tr>\n",
       "      <th>562089</th>\n",
       "      <td>4.0</td>\n",
       "      <td>Awesome shoe selection!!</td>\n",
       "    </tr>\n",
       "    <tr>\n",
       "      <th>571784</th>\n",
       "      <td>5.0</td>\n",
       "      <td>Awesome, great prices too</td>\n",
       "    </tr>\n",
       "    <tr>\n",
       "      <th>583751</th>\n",
       "      <td>5.0</td>\n",
       "      <td>Good stuff</td>\n",
       "    </tr>\n",
       "    <tr>\n",
       "      <th>595527</th>\n",
       "      <td>4.0</td>\n",
       "      <td>Wrong course!</td>\n",
       "    </tr>\n",
       "    <tr>\n",
       "      <th>599947</th>\n",
       "      <td>5.0</td>\n",
       "      <td>Long live queen video!</td>\n",
       "    </tr>\n",
       "    <tr>\n",
       "      <th>600021</th>\n",
       "      <td>4.0</td>\n",
       "      <td>Great atmosphere and staff!</td>\n",
       "    </tr>\n",
       "    <tr>\n",
       "      <th>602469</th>\n",
       "      <td>5.0</td>\n",
       "      <td>Awesome, natural tan!!!</td>\n",
       "    </tr>\n",
       "    <tr>\n",
       "      <th>619434</th>\n",
       "      <td>5.0</td>\n",
       "      <td>Confortable place to shop!</td>\n",
       "    </tr>\n",
       "  </tbody>\n",
       "</table>\n",
       "</div>"
      ],
      "text/plain": [
       "        stars                                          text\n",
       "53072     5.0                    Everything cookie was epic\n",
       "59874     5.0                   Best coffee in Leslieville.\n",
       "84254     5.0                            Love my local bar!\n",
       "108618    5.0                             I love this mall!\n",
       "126588    5.0                                fast and easy!\n",
       "148618    5.0                                           O.o\n",
       "160696    5.0                         $2.50 dry clean fast!\n",
       "164238    4.0                                 Awesome place\n",
       "171497    5.0                                       closed.\n",
       "176087    3.0                                        Finis.\n",
       "250320    5.0                      Great place to tailgate!\n",
       "250844    1.0  Gggggggggggggggggggggggggggggggggggggggggggg\n",
       "278918    1.0                                      Gghjjhfd\n",
       "318019    5.0                      The view is Striking!!!!\n",
       "325143    5.0                  BAM= bad. ass. mother-effer.\n",
       "339329    5.0                          Great olives & meat.\n",
       "360307    4.0                                Nice location.\n",
       "388983    4.0                                *** closed ***\n",
       "390711    5.0                            Hiking always fun!\n",
       "434508    5.0                      The BOMB baby! Awesome!!\n",
       "437373    5.0                                             K\n",
       "462231    5.0                    love their peach smoothie!\n",
       "537230    5.0                        Holy roses! Stuh-ning.\n",
       "546901    2.0              expensive!!!!!!\\nholy crap!!!!!!\n",
       "560743    5.0                                  I love frys!\n",
       "562089    4.0                      Awesome shoe selection!!\n",
       "571784    5.0                     Awesome, great prices too\n",
       "583751    5.0                                    Good stuff\n",
       "595527    4.0                                 Wrong course!\n",
       "599947    5.0                        Long live queen video!\n",
       "600021    4.0                   Great atmosphere and staff!\n",
       "602469    5.0                       Awesome, natural tan!!!\n",
       "619434    5.0                    Confortable place to shop!"
      ]
     },
     "execution_count": 44,
     "metadata": {},
     "output_type": "execute_result"
    }
   ],
   "source": [
    "not_useful_reviews"
   ]
  },
  {
   "cell_type": "code",
   "execution_count": 42,
   "metadata": {},
   "outputs": [
    {
     "data": {
      "text/plain": [
       "array([[<matplotlib.axes._subplots.AxesSubplot object at 0x7f2408705a58>]], dtype=object)"
      ]
     },
     "execution_count": 42,
     "metadata": {},
     "output_type": "execute_result"
    },
    {
     "data": {
      "image/png": "[encoded data removed]",
      "text/plain": [
       "<matplotlib.figure.Figure at 0x7f240a97e160>"
      ]
     },
     "metadata": {},
     "output_type": "display_data"
    }
   ],
   "source": [
    "not_useful_reviews.hist('stars', bins=5)"
   ]
  },
  {
   "cell_type": "markdown",
   "metadata": {},
   "source": [
    "We can see that these reviews are mostly 4 or 5 star reviews and are very short (often 4 words or less). Some of the reviews are essentially meaningless **(250844, 278918)** while others contain very little information or convey a simple emotion such as dislike or favoritism **(583751, 360307)**. However, we do notice that some short reviews can provide information about a specific product a business provides **(602469, 160696)**. "
   ]
  }
 ],
 "metadata": {
  "kernelspec": {
   "display_name": "Python 3",
   "language": "python",
   "name": "python3"
  },
  "language_info": {
   "codemirror_mode": {
    "name": "ipython",
    "version": 3
   },
   "file_extension": ".py",
   "mimetype": "text/x-python",
   "name": "python",
   "nbconvert_exporter": "python",
   "pygments_lexer": "ipython3",
   "version": "3.6.2"
  }
 },
 "nbformat": 4,
 "nbformat_minor": 2
}
