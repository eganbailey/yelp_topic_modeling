{
 "cells": [
  {
   "cell_type": "markdown",
   "metadata": {},
   "source": [
    "# Prep data for modeling - Restaurants"
   ]
  },
  {
   "cell_type": "markdown",
   "metadata": {},
   "source": [
    "## Import modules "
   ]
  },
  {
   "cell_type": "code",
   "execution_count": 1,
   "metadata": {},
   "outputs": [],
   "source": [
    "import pandas as pd\n",
    "import numpy as np"
   ]
  },
  {
   "cell_type": "markdown",
   "metadata": {},
   "source": [
    "## Load the review metadata set `rests` and the doc-topic matrix `dt_matrix`"
   ]
  },
  {
   "cell_type": "code",
   "execution_count": 2,
   "metadata": {
    "scrolled": true
   },
   "outputs": [
    {
     "name": "stderr",
     "output_type": "stream",
     "text": [
      "/opt/conda/lib/python3.6/site-packages/IPython/core/interactiveshell.py:2785: DtypeWarning: Columns (0,4) have mixed types. Specify dtype option on import or set low_memory=False.\n",
      "  interactivity=interactivity, compiler=compiler, result=result)\n"
     ]
    }
   ],
   "source": [
    "rests = pd.read_csv('../data/restaurants.csv', compression='gzip')"
   ]
  },
  {
   "cell_type": "code",
   "execution_count": 3,
   "metadata": {},
   "outputs": [],
   "source": [
    "dt_matrix = np.load('../data/rests_dt_matrix.npy')"
   ]
  },
  {
   "cell_type": "code",
   "execution_count": 4,
   "metadata": {},
   "outputs": [
    {
     "data": {
      "text/plain": [
       "((3055990, 28), (2984421, 200))"
      ]
     },
     "execution_count": 4,
     "metadata": {},
     "output_type": "execute_result"
    }
   ],
   "source": [
    "rests.shape, dt_matrix.shape"
   ]
  },
  {
   "cell_type": "markdown",
   "metadata": {},
   "source": [
    "To correctly combine our metadata and topic vectors into one feature matrix, we need to ensure they are the same shape; we can do this using the index array of the English reviews created in [Notebook 2](02_Text_Preprocessing_and_Tokenizing.ipynb)."
   ]
  },
  {
   "cell_type": "code",
   "execution_count": 5,
   "metadata": {},
   "outputs": [],
   "source": [
    "correct_index = np.load('../data/rests_eng_index.npy')\n",
    "rests = rests[rests.index.isin(correct_index)]"
   ]
  },
  {
   "cell_type": "code",
   "execution_count": 6,
   "metadata": {
    "scrolled": false
   },
   "outputs": [],
   "source": [
    "rests = rests.reset_index(drop=True)"
   ]
  },
  {
   "cell_type": "code",
   "execution_count": 7,
   "metadata": {},
   "outputs": [
    {
     "data": {
      "text/plain": [
       "((2984421, 28), (2984421, 200))"
      ]
     },
     "execution_count": 7,
     "metadata": {},
     "output_type": "execute_result"
    }
   ],
   "source": [
    "rests.shape, dt_matrix.shape"
   ]
  },
  {
   "cell_type": "markdown",
   "metadata": {},
   "source": [
    "## Create validation set following usefulness logic"
   ]
  },
  {
   "cell_type": "code",
   "execution_count": 8,
   "metadata": {},
   "outputs": [],
   "source": [
    "def useful_mapper(x):\n",
    "    if x == 0:\n",
    "        return 0\n",
    "    elif x in (1, 2):\n",
    "        return \"Validation\"\n",
    "    elif x >= 3:\n",
    "        return 1"
   ]
  },
  {
   "cell_type": "code",
   "execution_count": 9,
   "metadata": {},
   "outputs": [],
   "source": [
    "rests['Usefulness'] = rests['useful'].map(useful_mapper)"
   ]
  },
  {
   "cell_type": "code",
   "execution_count": 10,
   "metadata": {},
   "outputs": [
    {
     "data": {
      "text/plain": [
       "0             1667146\n",
       "Validation     944736\n",
       "1              372537\n",
       "Name: Usefulness, dtype: int64"
      ]
     },
     "execution_count": 10,
     "metadata": {},
     "output_type": "execute_result"
    }
   ],
   "source": [
    "rests['Usefulness'].value_counts()"
   ]
  },
  {
   "cell_type": "markdown",
   "metadata": {},
   "source": [
    "## Drop null values"
   ]
  },
  {
   "cell_type": "code",
   "execution_count": 11,
   "metadata": {},
   "outputs": [
    {
     "data": {
      "text/html": [
       "<div>\n",
       "<table border=\"1\" class=\"dataframe\">\n",
       "  <thead>\n",
       "    <tr style=\"text-align: right;\">\n",
       "      <th></th>\n",
       "      <th>stars</th>\n",
       "      <th>text</th>\n",
       "      <th>useful</th>\n",
       "      <th>funny</th>\n",
       "      <th>cool</th>\n",
       "      <th>state</th>\n",
       "      <th>active_life</th>\n",
       "      <th>arts_and_entertainment</th>\n",
       "      <th>automotive</th>\n",
       "      <th>beauty_and_spas</th>\n",
       "      <th>...</th>\n",
       "      <th>mass_media</th>\n",
       "      <th>nightlife</th>\n",
       "      <th>pets</th>\n",
       "      <th>professional_services</th>\n",
       "      <th>public_services_and_government</th>\n",
       "      <th>religious_organizations</th>\n",
       "      <th>restaurants</th>\n",
       "      <th>shopping</th>\n",
       "      <th>review_length</th>\n",
       "      <th>Usefulness</th>\n",
       "    </tr>\n",
       "  </thead>\n",
       "  <tbody>\n",
       "    <tr>\n",
       "      <th>1798074</th>\n",
       "      <td>5.0</td>\n",
       "      <td>Best Creole\\/Cajun food in Nevada! Order the  ...</td>\n",
       "      <td>NaN</td>\n",
       "      <td>NaN</td>\n",
       "      <td>NaN</td>\n",
       "      <td>NaN</td>\n",
       "      <td>NaN</td>\n",
       "      <td>NaN</td>\n",
       "      <td>NaN</td>\n",
       "      <td>NaN</td>\n",
       "      <td>...</td>\n",
       "      <td>NaN</td>\n",
       "      <td>NaN</td>\n",
       "      <td>NaN</td>\n",
       "      <td>NaN</td>\n",
       "      <td>NaN</td>\n",
       "      <td>NaN</td>\n",
       "      <td>NaN</td>\n",
       "      <td>NaN</td>\n",
       "      <td>NaN</td>\n",
       "      <td>None</td>\n",
       "    </tr>\n",
       "    <tr>\n",
       "      <th>1798075</th>\n",
       "      <td>All the goodness of the deep South! Seasoned a...</td>\n",
       "      <td>1</td>\n",
       "      <td>0.0</td>\n",
       "      <td>1.0</td>\n",
       "      <td>NV</td>\n",
       "      <td>0</td>\n",
       "      <td>0.0</td>\n",
       "      <td>0.0</td>\n",
       "      <td>0.0</td>\n",
       "      <td>0.0</td>\n",
       "      <td>...</td>\n",
       "      <td>0.0</td>\n",
       "      <td>0.0</td>\n",
       "      <td>0.0</td>\n",
       "      <td>0.0</td>\n",
       "      <td>0.0</td>\n",
       "      <td>1.0</td>\n",
       "      <td>0.0</td>\n",
       "      <td>36.0</td>\n",
       "      <td>NaN</td>\n",
       "      <td>0</td>\n",
       "    </tr>\n",
       "    <tr>\n",
       "      <th>2560639</th>\n",
       "      <td>5</td>\n",
       "      <td>Cornish Pasty saved our Mothers Day! After hav...</td>\n",
       "      <td>-1.0</td>\n",
       "      <td>0.0</td>\n",
       "      <td>-1</td>\n",
       "      <td>AZ</td>\n",
       "      <td>0.0</td>\n",
       "      <td>0.0</td>\n",
       "      <td>0.0</td>\n",
       "      <td>0.0</td>\n",
       "      <td>...</td>\n",
       "      <td>0.0</td>\n",
       "      <td>0.0</td>\n",
       "      <td>0.0</td>\n",
       "      <td>0.0</td>\n",
       "      <td>0.0</td>\n",
       "      <td>0.0</td>\n",
       "      <td>1.0</td>\n",
       "      <td>0.0</td>\n",
       "      <td>94.0</td>\n",
       "      <td>None</td>\n",
       "    </tr>\n",
       "  </tbody>\n",
       "</table>\n",
       "<p>3 rows × 29 columns</p>\n",
       "</div>"
      ],
      "text/plain": [
       "                                                     stars  \\\n",
       "1798074                                                5.0   \n",
       "1798075  All the goodness of the deep South! Seasoned a...   \n",
       "2560639                                                  5   \n",
       "\n",
       "                                                      text  useful  funny  \\\n",
       "1798074  Best Creole\\/Cajun food in Nevada! Order the  ...     NaN    NaN   \n",
       "1798075                                                  1     0.0    1.0   \n",
       "2560639  Cornish Pasty saved our Mothers Day! After hav...    -1.0    0.0   \n",
       "\n",
       "        cool state  active_life  arts_and_entertainment  automotive  \\\n",
       "1798074  NaN   NaN          NaN                     NaN         NaN   \n",
       "1798075   NV     0          0.0                     0.0         0.0   \n",
       "2560639   -1    AZ          0.0                     0.0         0.0   \n",
       "\n",
       "         beauty_and_spas     ...      mass_media  nightlife  pets  \\\n",
       "1798074              NaN     ...             NaN        NaN   NaN   \n",
       "1798075              0.0     ...             0.0        0.0   0.0   \n",
       "2560639              0.0     ...             0.0        0.0   0.0   \n",
       "\n",
       "         professional_services  public_services_and_government  \\\n",
       "1798074                    NaN                             NaN   \n",
       "1798075                    0.0                             0.0   \n",
       "2560639                    0.0                             0.0   \n",
       "\n",
       "         religious_organizations  restaurants  shopping  review_length  \\\n",
       "1798074                      NaN          NaN       NaN            NaN   \n",
       "1798075                      1.0          0.0      36.0            NaN   \n",
       "2560639                      0.0          1.0       0.0           94.0   \n",
       "\n",
       "         Usefulness  \n",
       "1798074        None  \n",
       "1798075           0  \n",
       "2560639        None  \n",
       "\n",
       "[3 rows x 29 columns]"
      ]
     },
     "execution_count": 11,
     "metadata": {},
     "output_type": "execute_result"
    }
   ],
   "source": [
    "rests[rests.isnull().any(axis=1)]"
   ]
  },
  {
   "cell_type": "code",
   "execution_count": 12,
   "metadata": {},
   "outputs": [
    {
     "data": {
      "text/plain": [
       "(2984418, 29)"
      ]
     },
     "execution_count": 12,
     "metadata": {},
     "output_type": "execute_result"
    }
   ],
   "source": [
    "rests.drop([1798074, 1798075, 2560639], 0, inplace=True)\n",
    "rests.shape"
   ]
  },
  {
   "cell_type": "code",
   "execution_count": 13,
   "metadata": {},
   "outputs": [
    {
     "data": {
      "text/plain": [
       "(2984418, 200)"
      ]
     },
     "execution_count": 13,
     "metadata": {},
     "output_type": "execute_result"
    }
   ],
   "source": [
    "right_matrix = np.delete(dt_matrix, [1798074, 1798075, 2560639], 0)\n",
    "right_matrix.shape"
   ]
  },
  {
   "cell_type": "markdown",
   "metadata": {},
   "source": [
    "## Split out validation and train topic vectors"
   ]
  },
  {
   "cell_type": "code",
   "execution_count": 14,
   "metadata": {},
   "outputs": [],
   "source": [
    "rests = rests.reset_index(drop=True)"
   ]
  },
  {
   "cell_type": "code",
   "execution_count": 15,
   "metadata": {},
   "outputs": [],
   "source": [
    "valid_index = rests[rests['Usefulness'] == 'Validation'].index"
   ]
  },
  {
   "cell_type": "code",
   "execution_count": 16,
   "metadata": {},
   "outputs": [
    {
     "data": {
      "text/plain": [
       "Int64Index([      1,       3,      10,      12,      19,      20,      29,\n",
       "                 30,      31,      33,\n",
       "            ...\n",
       "            2984390, 2984393, 2984394, 2984395, 2984398, 2984402, 2984403,\n",
       "            2984407, 2984411, 2984417],\n",
       "           dtype='int64', length=944736)"
      ]
     },
     "execution_count": 16,
     "metadata": {},
     "output_type": "execute_result"
    }
   ],
   "source": [
    "valid_index"
   ]
  },
  {
   "cell_type": "code",
   "execution_count": 17,
   "metadata": {},
   "outputs": [
    {
     "data": {
      "text/plain": [
       "(944736, 200)"
      ]
     },
     "execution_count": 17,
     "metadata": {},
     "output_type": "execute_result"
    }
   ],
   "source": [
    "right_matrix_valid = right_matrix[valid_index]\n",
    "right_matrix_valid.shape"
   ]
  },
  {
   "cell_type": "code",
   "execution_count": 18,
   "metadata": {},
   "outputs": [
    {
     "data": {
      "text/plain": [
       "(2039682, 200)"
      ]
     },
     "execution_count": 18,
     "metadata": {},
     "output_type": "execute_result"
    }
   ],
   "source": [
    "right_matrix_train = np.delete(right_matrix, valid_index, 0)\n",
    "right_matrix_train.shape"
   ]
  },
  {
   "cell_type": "markdown",
   "metadata": {},
   "source": [
    "## Create validation and train metadata datasets and save to csv"
   ]
  },
  {
   "cell_type": "code",
   "execution_count": 19,
   "metadata": {},
   "outputs": [],
   "source": [
    "rests_valid = rests[rests.index.isin(valid_index)]\n",
    "\n",
    "rests_valid.to_csv('../data/rests_validation.csv', index=False)"
   ]
  },
  {
   "cell_type": "code",
   "execution_count": 20,
   "metadata": {},
   "outputs": [],
   "source": [
    "rests_train = rests[~rests.index.isin(valid_index)]\n",
    "\n",
    "rests_train.to_csv('../data/rests_train.csv', index=False)"
   ]
  },
  {
   "cell_type": "code",
   "execution_count": 21,
   "metadata": {},
   "outputs": [
    {
     "data": {
      "text/plain": [
       "((2039682, 29), (944736, 29))"
      ]
     },
     "execution_count": 21,
     "metadata": {},
     "output_type": "execute_result"
    }
   ],
   "source": [
    "rests_train.shape, rests_valid.shape"
   ]
  },
  {
   "cell_type": "markdown",
   "metadata": {},
   "source": [
    "## Create train feature matrix"
   ]
  },
  {
   "cell_type": "code",
   "execution_count": 22,
   "metadata": {},
   "outputs": [
    {
     "name": "stderr",
     "output_type": "stream",
     "text": [
      "/opt/conda/lib/python3.6/site-packages/ipykernel_launcher.py:1: SettingWithCopyWarning: \n",
      "A value is trying to be set on a copy of a slice from a DataFrame\n",
      "\n",
      "See the caveats in the documentation: http://pandas.pydata.org/pandas-docs/stable/indexing.html#indexing-view-versus-copy\n",
      "  \"\"\"Entry point for launching an IPython kernel.\n"
     ]
    }
   ],
   "source": [
    "rests_train.drop(['text', 'useful', 'cool', 'state'], 1, inplace=True)\n",
    "\n",
    "left_matrix_train = rests_train[rests_train.columns[:-1]].values"
   ]
  },
  {
   "cell_type": "code",
   "execution_count": 23,
   "metadata": {},
   "outputs": [
    {
     "data": {
      "text/plain": [
       "((2039682, 24), (2039682, 200))"
      ]
     },
     "execution_count": 23,
     "metadata": {},
     "output_type": "execute_result"
    }
   ],
   "source": [
    "left_matrix_train.shape, right_matrix_train.shape"
   ]
  },
  {
   "cell_type": "code",
   "execution_count": 24,
   "metadata": {},
   "outputs": [],
   "source": [
    "del rests, rests_train, correct_index, dt_matrix, right_matrix\n",
    "\n",
    "features = np.hstack((left_matrix_train, right_matrix_train))"
   ]
  },
  {
   "cell_type": "code",
   "execution_count": 25,
   "metadata": {},
   "outputs": [],
   "source": [
    "del right_matrix_train, left_matrix_train"
   ]
  },
  {
   "cell_type": "code",
   "execution_count": 26,
   "metadata": {},
   "outputs": [
    {
     "name": "stdout",
     "output_type": "stream",
     "text": [
      "Variable             Type          Data/Info\n",
      "--------------------------------------------\n",
      "features             ndarray       2039682x224: 456888768 elems, type `object`, 3655110144 bytes (3485.78466796875 Mb)\n",
      "np                   module        <module 'numpy' from '/op<...>kages/numpy/__init__.py'>\n",
      "pd                   module        <module 'pandas' from '/o<...>ages/pandas/__init__.py'>\n",
      "rests_valid          DataFrame             stars            <...>944736 rows x 29 columns]\n",
      "right_matrix_valid   ndarray       944736x200: 188947200 elems, type `float64`, 1511577600 bytes (1441.552734375 Mb)\n",
      "useful_mapper        function      <function useful_mapper at 0x7fe4a6384b70>\n",
      "valid_index          Int64Index    Int64Index([      1,     <...>e='int64', length=944736)\n"
     ]
    }
   ],
   "source": [
    "whos"
   ]
  },
  {
   "cell_type": "code",
   "execution_count": 27,
   "metadata": {},
   "outputs": [],
   "source": [
    "np.save('../data/rests_train_features.npy', features)"
   ]
  },
  {
   "cell_type": "markdown",
   "metadata": {},
   "source": [
    "## Create validation feature matrix"
   ]
  },
  {
   "cell_type": "code",
   "execution_count": 28,
   "metadata": {},
   "outputs": [],
   "source": [
    "rests_valid.drop(['text', 'useful', 'cool', 'state'], 1, inplace=True)\n",
    "\n",
    "left_matrix_valid = rests_valid[rests_valid.columns[:-1]].values"
   ]
  },
  {
   "cell_type": "code",
   "execution_count": 29,
   "metadata": {},
   "outputs": [
    {
     "data": {
      "text/plain": [
       "((944736, 24), (944736, 200))"
      ]
     },
     "execution_count": 29,
     "metadata": {},
     "output_type": "execute_result"
    }
   ],
   "source": [
    "left_matrix_valid.shape, right_matrix_valid.shape"
   ]
  },
  {
   "cell_type": "code",
   "execution_count": 30,
   "metadata": {},
   "outputs": [],
   "source": [
    "valid_features = np.hstack((left_matrix_valid, right_matrix_valid))\n",
    "\n",
    "np.save('../data/valid_features_rests.npy', valid_features)"
   ]
  },
  {
   "cell_type": "markdown",
   "metadata": {},
   "source": [
    "## Create train target vector"
   ]
  },
  {
   "cell_type": "code",
   "execution_count": 31,
   "metadata": {},
   "outputs": [],
   "source": [
    "rests_train = pd.read_csv('../data/rests_train.csv')"
   ]
  },
  {
   "cell_type": "code",
   "execution_count": 32,
   "metadata": {},
   "outputs": [
    {
     "data": {
      "text/plain": [
       "0    1667145\n",
       "1     372537\n",
       "Name: Usefulness, dtype: int64"
      ]
     },
     "execution_count": 32,
     "metadata": {},
     "output_type": "execute_result"
    }
   ],
   "source": [
    "rests_train.Usefulness.value_counts()"
   ]
  },
  {
   "cell_type": "code",
   "execution_count": 33,
   "metadata": {},
   "outputs": [],
   "source": [
    "np.save('../data/rests_target.npy', rests_train.Usefulness.values)"
   ]
  }
 ],
 "metadata": {
  "kernelspec": {
   "display_name": "Python 3",
   "language": "python",
   "name": "python3"
  },
  "language_info": {
   "codemirror_mode": {
    "name": "ipython",
    "version": 3
   },
   "file_extension": ".py",
   "mimetype": "text/x-python",
   "name": "python",
   "nbconvert_exporter": "python",
   "pygments_lexer": "ipython3",
   "version": "3.6.2"
  }
 },
 "nbformat": 4,
 "nbformat_minor": 2
}
