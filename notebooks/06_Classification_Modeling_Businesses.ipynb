{
 "cells": [
  {
   "cell_type": "markdown",
   "metadata": {},
   "source": [
    "# Classification Modeling - Businesses\n",
    "\n",
    "Fit and cross-validation binary classification models which predict usefulness for non-restaurant business reviews. We choose a logistic regression model that classifies reviews as useful with 82% accuracy."
   ]
  },
  {
   "cell_type": "markdown",
   "metadata": {},
   "source": [
    "## Import modules"
   ]
  },
  {
   "cell_type": "code",
   "execution_count": 4,
   "metadata": {},
   "outputs": [],
   "source": [
    "import pandas as pd\n",
    "import numpy as np\n",
    "import matplotlib.pyplot as plt\n",
    "import seaborn as sns\n",
    "import time\n",
    "import pickle\n",
    "\n",
    "from sklearn.model_selection import train_test_split, GridSearchCV\n",
    "from sklearn.preprocessing import StandardScaler\n",
    "from sklearn.linear_model import LogisticRegression\n",
    "from sklearn.ensemble import RandomForestClassifier, GradientBoostingClassifier\n",
    "from sklearn.svm import SVC"
   ]
  },
  {
   "cell_type": "markdown",
   "metadata": {},
   "source": [
    "## Load features and target"
   ]
  },
  {
   "cell_type": "code",
   "execution_count": 2,
   "metadata": {},
   "outputs": [],
   "source": [
    "features = np.load('../data/businesses_train_features.npy')\n",
    "target = np.load('../data/business_target.npy')"
   ]
  },
  {
   "cell_type": "markdown",
   "metadata": {},
   "source": [
    "## Scale, train/test split"
   ]
  },
  {
   "cell_type": "code",
   "execution_count": 8,
   "metadata": {},
   "outputs": [
    {
     "name": "stderr",
     "output_type": "stream",
     "text": [
      "/opt/conda/lib/python3.6/site-packages/sklearn/utils/validation.py:475: DataConversionWarning: Data with input dtype object was converted to float64 by StandardScaler.\n",
      "  warnings.warn(msg, DataConversionWarning)\n"
     ]
    }
   ],
   "source": [
    "X_train, X_test, y_train, y_test = train_test_split(features, target)\n",
    "\n",
    "ss = StandardScaler()\n",
    "\n",
    "X_train = ss.fit_transform(X_train)\n",
    "\n",
    "X_test = ss.transform(X_test)"
   ]
  },
  {
   "cell_type": "markdown",
   "metadata": {},
   "source": [
    "## Baseline Accuracy"
   ]
  },
  {
   "cell_type": "code",
   "execution_count": 9,
   "metadata": {},
   "outputs": [
    {
     "data": {
      "text/plain": [
       "0.31229046971224506"
      ]
     },
     "execution_count": 9,
     "metadata": {},
     "output_type": "execute_result"
    }
   ],
   "source": [
    "target.mean()"
   ]
  },
  {
   "cell_type": "markdown",
   "metadata": {},
   "source": [
    "## Logistic Regression\n",
    "\n",
    "The logistic regression model assumes that the log-odds of the probability of a review being useful review is a linear combination of the features entered into the model. "
   ]
  },
  {
   "cell_type": "code",
   "execution_count": 10,
   "metadata": {},
   "outputs": [],
   "source": [
    "lr = GridSearchCV(LogisticRegression(), param_grid={'random_state': [32], \n",
    "                                                    'C': [1e-4, 1e-3, 1e-2, 1e-1, 1, 10, 100, 1000], \n",
    "                                                    'solver': ['saga'],\n",
    "                                                    'penalty': ['l2'],\n",
    "                                                    'n_jobs': [-1],\n",
    "                                                    'verbose': [1]})"
   ]
  },
  {
   "cell_type": "code",
   "execution_count": null,
   "metadata": {},
   "outputs": [],
   "source": [
    "lr.fit(X_train, y_train)"
   ]
  },
  {
   "cell_type": "code",
   "execution_count": 12,
   "metadata": {
    "scrolled": true
   },
   "outputs": [
    {
     "data": {
      "text/plain": [
       "(0.82158141719403521, 0.82175349520813346)"
      ]
     },
     "execution_count": 12,
     "metadata": {},
     "output_type": "execute_result"
    }
   ],
   "source": [
    "lr.score(X_train, y_train), lr.score(X_test, y_test)"
   ]
  },
  {
   "cell_type": "markdown",
   "metadata": {},
   "source": [
    "Our model is 82% accurate in predicting whether or not a review had 3+ useful votes or 0 useful votes for our train/test split data. In the next notebook, I will use the trained model on the validation data to see what reviews are being predicted as useful and what reviews are being predicted as not useful."
   ]
  },
  {
   "cell_type": "code",
   "execution_count": 18,
   "metadata": {},
   "outputs": [
    {
     "data": {
      "text/plain": [
       "{'C': 10,\n",
       " 'n_jobs': -1,\n",
       " 'penalty': 'l2',\n",
       " 'random_state': 32,\n",
       " 'solver': 'saga',\n",
       " 'verbose': 1}"
      ]
     },
     "execution_count": 18,
     "metadata": {},
     "output_type": "execute_result"
    }
   ],
   "source": [
    "lr.best_params_"
   ]
  },
  {
   "cell_type": "code",
   "execution_count": 23,
   "metadata": {},
   "outputs": [],
   "source": [
    "with open('../models/logisticreg.pkl', 'wb') as model:\n",
    "    pickle.dump(lr, model)"
   ]
  },
  {
   "cell_type": "markdown",
   "metadata": {},
   "source": [
    "## Random Forest\n",
    "\n",
    "Random forest classifiers aim to control for the overfitting present in simple decision trees by fitting mulitple trees using a random subset of the feature space."
   ]
  },
  {
   "cell_type": "code",
   "execution_count": 16,
   "metadata": {},
   "outputs": [],
   "source": [
    "rf = GridSearchCV(RandomForestClassifier(), param_grid={'random_state': [32],\n",
    "                                                        'n_estimators': [10, 50, 100],\n",
    "                                                        'min_samples_split': range(2, 4),\n",
    "                                                        'min_samples_leaf': range(8, 12),\n",
    "                                                        'n_jobs': [-1],\n",
    "                                                        'verbose':[-1]})"
   ]
  },
  {
   "cell_type": "code",
   "execution_count": 19,
   "metadata": {
    "collapsed": true
   },
   "outputs": [
    {
     "name": "stderr",
     "output_type": "stream",
     "text": [
      "[Parallel(n_jobs=-1)]: Done   4 out of  10 | elapsed:   32.9s remaining:   49.3s\n",
      "[Parallel(n_jobs=-1)]: Done  10 out of  10 | elapsed:   59.1s finished\n",
      "[Parallel(n_jobs=8)]: Done   4 out of  10 | elapsed:    0.2s remaining:    0.2s\n",
      "[Parallel(n_jobs=8)]: Done  10 out of  10 | elapsed:    0.3s finished\n",
      "[Parallel(n_jobs=8)]: Done   4 out of  10 | elapsed:    0.3s remaining:    0.5s\n",
      "[Parallel(n_jobs=8)]: Done  10 out of  10 | elapsed:    0.7s finished\n",
      "[Parallel(n_jobs=-1)]: Done   4 out of  10 | elapsed:   28.4s remaining:   42.5s\n",
      "[Parallel(n_jobs=-1)]: Done  10 out of  10 | elapsed:   55.0s finished\n",
      "[Parallel(n_jobs=8)]: Done   4 out of  10 | elapsed:    0.2s remaining:    0.2s\n",
      "[Parallel(n_jobs=8)]: Done  10 out of  10 | elapsed:    0.3s finished\n",
      "[Parallel(n_jobs=8)]: Done   4 out of  10 | elapsed:    0.3s remaining:    0.5s\n",
      "[Parallel(n_jobs=8)]: Done  10 out of  10 | elapsed:    0.7s finished\n",
      "[Parallel(n_jobs=-1)]: Done   4 out of  10 | elapsed:   28.0s remaining:   42.1s\n",
      "[Parallel(n_jobs=-1)]: Done  10 out of  10 | elapsed:   54.9s finished\n",
      "[Parallel(n_jobs=8)]: Done   4 out of  10 | elapsed:    0.2s remaining:    0.2s\n",
      "[Parallel(n_jobs=8)]: Done  10 out of  10 | elapsed:    0.3s finished\n",
      "[Parallel(n_jobs=8)]: Done   4 out of  10 | elapsed:    0.3s remaining:    0.5s\n",
      "[Parallel(n_jobs=8)]: Done  10 out of  10 | elapsed:    0.7s finished\n",
      "[Parallel(n_jobs=-1)]: Done  50 out of  50 | elapsed:  3.4min finished\n",
      "[Parallel(n_jobs=8)]: Done  50 out of  50 | elapsed:    1.2s finished\n",
      "[Parallel(n_jobs=8)]: Done  50 out of  50 | elapsed:    2.5s finished\n",
      "[Parallel(n_jobs=-1)]: Done  50 out of  50 | elapsed:  3.3min finished\n",
      "[Parallel(n_jobs=8)]: Done  50 out of  50 | elapsed:    1.2s finished\n",
      "[Parallel(n_jobs=8)]: Done  50 out of  50 | elapsed:    2.6s finished\n",
      "[Parallel(n_jobs=-1)]: Done  50 out of  50 | elapsed:  3.3min finished\n",
      "[Parallel(n_jobs=8)]: Done  50 out of  50 | elapsed:    1.2s finished\n",
      "[Parallel(n_jobs=8)]: Done  50 out of  50 | elapsed:    2.6s finished\n",
      "[Parallel(n_jobs=-1)]: Done  56 tasks      | elapsed:  3.6min\n",
      "[Parallel(n_jobs=-1)]: Done 100 out of 100 | elapsed:  6.4min finished\n",
      "[Parallel(n_jobs=8)]: Done  56 tasks      | elapsed:    1.3s\n",
      "[Parallel(n_jobs=8)]: Done 100 out of 100 | elapsed:    2.4s finished\n",
      "[Parallel(n_jobs=8)]: Done  56 tasks      | elapsed:    2.6s\n",
      "[Parallel(n_jobs=8)]: Done 100 out of 100 | elapsed:    5.1s finished\n",
      "[Parallel(n_jobs=-1)]: Done  56 tasks      | elapsed:  3.7min\n",
      "[Parallel(n_jobs=-1)]: Done 100 out of 100 | elapsed:  6.3min finished\n",
      "[Parallel(n_jobs=8)]: Done  56 tasks      | elapsed:    1.3s\n",
      "[Parallel(n_jobs=8)]: Done 100 out of 100 | elapsed:    2.3s finished\n",
      "[Parallel(n_jobs=8)]: Done  56 tasks      | elapsed:    2.8s\n",
      "[Parallel(n_jobs=8)]: Done 100 out of 100 | elapsed:    5.0s finished\n",
      "[Parallel(n_jobs=-1)]: Done  56 tasks      | elapsed:  3.7min\n",
      "[Parallel(n_jobs=-1)]: Done 100 out of 100 | elapsed:  6.5min finished\n",
      "[Parallel(n_jobs=8)]: Done  56 tasks      | elapsed:    1.3s\n",
      "[Parallel(n_jobs=8)]: Done 100 out of 100 | elapsed:    2.3s finished\n",
      "[Parallel(n_jobs=8)]: Done  56 tasks      | elapsed:    2.9s\n",
      "[Parallel(n_jobs=8)]: Done 100 out of 100 | elapsed:    5.3s finished\n",
      "[Parallel(n_jobs=-1)]: Done   4 out of  10 | elapsed:   28.4s remaining:   42.6s\n",
      "[Parallel(n_jobs=-1)]: Done  10 out of  10 | elapsed:   53.6s finished\n",
      "[Parallel(n_jobs=8)]: Done   4 out of  10 | elapsed:    0.2s remaining:    0.2s\n",
      "[Parallel(n_jobs=8)]: Done  10 out of  10 | elapsed:    0.3s finished\n",
      "[Parallel(n_jobs=8)]: Done   4 out of  10 | elapsed:    0.3s remaining:    0.5s\n",
      "[Parallel(n_jobs=8)]: Done  10 out of  10 | elapsed:    0.7s finished\n",
      "[Parallel(n_jobs=-1)]: Done   4 out of  10 | elapsed:   29.5s remaining:   44.2s\n",
      "[Parallel(n_jobs=-1)]: Done  10 out of  10 | elapsed:   56.3s finished\n",
      "[Parallel(n_jobs=8)]: Done   4 out of  10 | elapsed:    0.2s remaining:    0.2s\n",
      "[Parallel(n_jobs=8)]: Done  10 out of  10 | elapsed:    0.3s finished\n",
      "[Parallel(n_jobs=8)]: Done   4 out of  10 | elapsed:    0.3s remaining:    0.5s\n",
      "[Parallel(n_jobs=8)]: Done  10 out of  10 | elapsed:    0.7s finished\n",
      "[Parallel(n_jobs=-1)]: Done   4 out of  10 | elapsed:   27.8s remaining:   41.6s\n",
      "[Parallel(n_jobs=-1)]: Done  10 out of  10 | elapsed:   54.6s finished\n",
      "[Parallel(n_jobs=8)]: Done   4 out of  10 | elapsed:    0.2s remaining:    0.2s\n",
      "[Parallel(n_jobs=8)]: Done  10 out of  10 | elapsed:    0.3s finished\n",
      "[Parallel(n_jobs=8)]: Done   4 out of  10 | elapsed:    0.3s remaining:    0.5s\n",
      "[Parallel(n_jobs=8)]: Done  10 out of  10 | elapsed:    0.7s finished\n",
      "[Parallel(n_jobs=-1)]: Done  50 out of  50 | elapsed:  3.4min finished\n",
      "[Parallel(n_jobs=8)]: Done  50 out of  50 | elapsed:    1.1s finished\n",
      "[Parallel(n_jobs=8)]: Done  50 out of  50 | elapsed:    2.5s finished\n",
      "[Parallel(n_jobs=-1)]: Done  50 out of  50 | elapsed:  3.4min finished\n",
      "[Parallel(n_jobs=8)]: Done  50 out of  50 | elapsed:    1.2s finished\n",
      "[Parallel(n_jobs=8)]: Done  50 out of  50 | elapsed:    2.5s finished\n",
      "[Parallel(n_jobs=-1)]: Done  50 out of  50 | elapsed:  3.3min finished\n",
      "[Parallel(n_jobs=8)]: Done  50 out of  50 | elapsed:    1.2s finished\n",
      "[Parallel(n_jobs=8)]: Done  50 out of  50 | elapsed:    2.5s finished\n",
      "[Parallel(n_jobs=-1)]: Done  56 tasks      | elapsed:  3.7min\n",
      "[Parallel(n_jobs=-1)]: Done 100 out of 100 | elapsed:  6.5min finished\n",
      "[Parallel(n_jobs=8)]: Done  56 tasks      | elapsed:    1.2s\n",
      "[Parallel(n_jobs=8)]: Done 100 out of 100 | elapsed:    2.1s finished\n",
      "[Parallel(n_jobs=8)]: Done  56 tasks      | elapsed:    2.5s\n",
      "[Parallel(n_jobs=8)]: Done 100 out of 100 | elapsed:    4.6s finished\n",
      "[Parallel(n_jobs=-1)]: Done  56 tasks      | elapsed:  3.5min\n",
      "[Parallel(n_jobs=-1)]: Done 100 out of 100 | elapsed:  5.8min finished\n",
      "[Parallel(n_jobs=8)]: Done  56 tasks      | elapsed:    1.2s\n",
      "[Parallel(n_jobs=8)]: Done 100 out of 100 | elapsed:    2.2s finished\n",
      "[Parallel(n_jobs=8)]: Done  56 tasks      | elapsed:    2.6s\n",
      "[Parallel(n_jobs=8)]: Done 100 out of 100 | elapsed:    4.4s finished\n",
      "[Parallel(n_jobs=-1)]: Done  56 tasks      | elapsed:  3.3min\n",
      "[Parallel(n_jobs=-1)]: Done 100 out of 100 | elapsed:  5.6min finished\n",
      "[Parallel(n_jobs=8)]: Done  56 tasks      | elapsed:    1.2s\n",
      "[Parallel(n_jobs=8)]: Done 100 out of 100 | elapsed:    2.2s finished\n",
      "[Parallel(n_jobs=8)]: Done  56 tasks      | elapsed:    2.5s\n",
      "[Parallel(n_jobs=8)]: Done 100 out of 100 | elapsed:    4.4s finished\n",
      "[Parallel(n_jobs=-1)]: Done   4 out of  10 | elapsed:   24.6s remaining:   36.9s\n",
      "[Parallel(n_jobs=-1)]: Done  10 out of  10 | elapsed:   49.1s finished\n",
      "[Parallel(n_jobs=8)]: Done   4 out of  10 | elapsed:    0.1s remaining:    0.2s\n",
      "[Parallel(n_jobs=8)]: Done  10 out of  10 | elapsed:    0.3s finished\n",
      "[Parallel(n_jobs=8)]: Done   4 out of  10 | elapsed:    0.3s remaining:    0.4s\n",
      "[Parallel(n_jobs=8)]: Done  10 out of  10 | elapsed:    0.6s finished\n",
      "[Parallel(n_jobs=-1)]: Done   4 out of  10 | elapsed:   24.2s remaining:   36.3s\n",
      "[Parallel(n_jobs=-1)]: Done  10 out of  10 | elapsed:   49.2s finished\n",
      "[Parallel(n_jobs=8)]: Done   4 out of  10 | elapsed:    0.1s remaining:    0.2s\n",
      "[Parallel(n_jobs=8)]: Done  10 out of  10 | elapsed:    0.3s finished\n",
      "[Parallel(n_jobs=8)]: Done   4 out of  10 | elapsed:    0.3s remaining:    0.4s\n",
      "[Parallel(n_jobs=8)]: Done  10 out of  10 | elapsed:    0.6s finished\n",
      "[Parallel(n_jobs=-1)]: Done   4 out of  10 | elapsed:   24.6s remaining:   36.9s\n",
      "[Parallel(n_jobs=-1)]: Done  10 out of  10 | elapsed:   49.1s finished\n",
      "[Parallel(n_jobs=8)]: Done   4 out of  10 | elapsed:    0.1s remaining:    0.2s\n",
      "[Parallel(n_jobs=8)]: Done  10 out of  10 | elapsed:    0.3s finished\n",
      "[Parallel(n_jobs=8)]: Done   4 out of  10 | elapsed:    0.3s remaining:    0.4s\n",
      "[Parallel(n_jobs=8)]: Done  10 out of  10 | elapsed:    0.6s finished\n",
      "[Parallel(n_jobs=-1)]: Done  50 out of  50 | elapsed:  2.9min finished\n",
      "[Parallel(n_jobs=8)]: Done  50 out of  50 | elapsed:    1.0s finished\n",
      "[Parallel(n_jobs=8)]: Done  50 out of  50 | elapsed:    2.2s finished\n",
      "[Parallel(n_jobs=-1)]: Done  50 out of  50 | elapsed:  2.9min finished\n",
      "[Parallel(n_jobs=8)]: Done  50 out of  50 | elapsed:    1.1s finished\n",
      "[Parallel(n_jobs=8)]: Done  50 out of  50 | elapsed:    2.3s finished\n",
      "[Parallel(n_jobs=-1)]: Done  50 out of  50 | elapsed:  2.9min finished\n"
     ]
    },
    {
     "name": "stderr",
     "output_type": "stream",
     "text": [
      "[Parallel(n_jobs=8)]: Done  50 out of  50 | elapsed:    1.0s finished\n",
      "[Parallel(n_jobs=8)]: Done  50 out of  50 | elapsed:    2.1s finished\n",
      "[Parallel(n_jobs=-1)]: Done  56 tasks      | elapsed:  3.2min\n",
      "[Parallel(n_jobs=-1)]: Done 100 out of 100 | elapsed:  5.5min finished\n",
      "[Parallel(n_jobs=8)]: Done  56 tasks      | elapsed:    1.1s\n",
      "[Parallel(n_jobs=8)]: Done 100 out of 100 | elapsed:    2.1s finished\n",
      "[Parallel(n_jobs=8)]: Done  56 tasks      | elapsed:    2.6s\n",
      "[Parallel(n_jobs=8)]: Done 100 out of 100 | elapsed:    4.4s finished\n",
      "[Parallel(n_jobs=-1)]: Done  56 tasks      | elapsed:  3.0min\n",
      "[Parallel(n_jobs=-1)]: Done 100 out of 100 | elapsed:  6.6min finished\n",
      "[Parallel(n_jobs=8)]: Done  56 tasks      | elapsed:    1.7s\n",
      "[Parallel(n_jobs=8)]: Done 100 out of 100 | elapsed:    3.7s finished\n",
      "[Parallel(n_jobs=8)]: Done  56 tasks      | elapsed:   10.6s\n",
      "[Parallel(n_jobs=8)]: Done 100 out of 100 | elapsed:   21.9s finished\n",
      "[Parallel(n_jobs=-1)]: Done  56 tasks      | elapsed: 14.1min\n",
      "[Parallel(n_jobs=-1)]: Done 100 out of 100 | elapsed: 24.1min finished\n",
      "[Parallel(n_jobs=8)]: Done  56 tasks      | elapsed:    1.2s\n",
      "[Parallel(n_jobs=8)]: Done 100 out of 100 | elapsed:    2.1s finished\n",
      "[Parallel(n_jobs=8)]: Done  56 tasks      | elapsed:    2.5s\n",
      "[Parallel(n_jobs=8)]: Done 100 out of 100 | elapsed:    4.2s finished\n",
      "[Parallel(n_jobs=-1)]: Done   4 out of  10 | elapsed:  1.6min remaining:  2.4min\n",
      "[Parallel(n_jobs=-1)]: Done  10 out of  10 | elapsed:  2.3min finished\n",
      "[Parallel(n_jobs=8)]: Done   4 out of  10 | elapsed:    0.9s remaining:    1.4s\n",
      "[Parallel(n_jobs=8)]: Done  10 out of  10 | elapsed:    1.2s finished\n",
      "[Parallel(n_jobs=8)]: Done   4 out of  10 | elapsed:    1.8s remaining:    2.7s\n",
      "[Parallel(n_jobs=8)]: Done  10 out of  10 | elapsed:    2.3s finished\n",
      "[Parallel(n_jobs=-1)]: Done   4 out of  10 | elapsed:  2.2min remaining:  3.3min\n",
      "[Parallel(n_jobs=-1)]: Done  10 out of  10 | elapsed:  2.6min finished\n",
      "[Parallel(n_jobs=8)]: Done   4 out of  10 | elapsed:    0.1s remaining:    0.2s\n",
      "[Parallel(n_jobs=8)]: Done  10 out of  10 | elapsed:    0.3s finished\n",
      "[Parallel(n_jobs=8)]: Done   4 out of  10 | elapsed:    0.3s remaining:    0.4s\n",
      "[Parallel(n_jobs=8)]: Done  10 out of  10 | elapsed:    0.6s finished\n",
      "[Parallel(n_jobs=-1)]: Done   4 out of  10 | elapsed:   54.8s remaining:  1.4min\n",
      "[Parallel(n_jobs=-1)]: Done  10 out of  10 | elapsed:  1.7min finished\n",
      "[Parallel(n_jobs=8)]: Done   4 out of  10 | elapsed:    0.9s remaining:    1.3s\n",
      "[Parallel(n_jobs=8)]: Done  10 out of  10 | elapsed:    1.2s finished\n",
      "[Parallel(n_jobs=8)]: Done   4 out of  10 | elapsed:    1.8s remaining:    2.7s\n",
      "[Parallel(n_jobs=8)]: Done  10 out of  10 | elapsed:    2.4s finished\n",
      "[Parallel(n_jobs=-1)]: Done  50 out of  50 | elapsed: 12.2min finished\n",
      "[Parallel(n_jobs=8)]: Done  50 out of  50 | elapsed:    6.6s finished\n",
      "[Parallel(n_jobs=8)]: Done  50 out of  50 | elapsed:   13.1s finished\n",
      "[Parallel(n_jobs=-1)]: Done  50 out of  50 | elapsed: 10.7min finished\n",
      "[Parallel(n_jobs=8)]: Done  50 out of  50 | elapsed:    1.1s finished\n",
      "[Parallel(n_jobs=8)]: Done  50 out of  50 | elapsed:    2.6s finished\n",
      "[Parallel(n_jobs=-1)]: Done  50 out of  50 | elapsed: 12.2min finished\n",
      "[Parallel(n_jobs=8)]: Done  50 out of  50 | elapsed:    6.6s finished\n",
      "[Parallel(n_jobs=8)]: Done  50 out of  50 | elapsed:   12.6s finished\n",
      "[Parallel(n_jobs=-1)]: Done  56 tasks      | elapsed: 13.6min\n",
      "[Parallel(n_jobs=-1)]: Done 100 out of 100 | elapsed: 22.7min finished\n",
      "[Parallel(n_jobs=8)]: Done  56 tasks      | elapsed:    7.7s\n",
      "[Parallel(n_jobs=8)]: Done 100 out of 100 | elapsed:   13.2s finished\n",
      "[Parallel(n_jobs=8)]: Done  56 tasks      | elapsed:   15.3s\n",
      "[Parallel(n_jobs=8)]: Done 100 out of 100 | elapsed:   26.3s finished\n",
      "[Parallel(n_jobs=-1)]: Done  56 tasks      | elapsed: 13.5min\n",
      "[Parallel(n_jobs=-1)]: Done 100 out of 100 | elapsed: 23.7min finished\n",
      "[Parallel(n_jobs=8)]: Done  56 tasks      | elapsed:    1.2s\n",
      "[Parallel(n_jobs=8)]: Done 100 out of 100 | elapsed:    2.1s finished\n",
      "[Parallel(n_jobs=8)]: Done  56 tasks      | elapsed:    2.4s\n",
      "[Parallel(n_jobs=8)]: Done 100 out of 100 | elapsed:    4.3s finished\n",
      "[Parallel(n_jobs=-1)]: Done  56 tasks      | elapsed: 14.6min\n",
      "[Parallel(n_jobs=-1)]: Done 100 out of 100 | elapsed: 24.7min finished\n",
      "[Parallel(n_jobs=8)]: Done  56 tasks      | elapsed:    1.2s\n",
      "[Parallel(n_jobs=8)]: Done 100 out of 100 | elapsed:    2.1s finished\n",
      "[Parallel(n_jobs=8)]: Done  56 tasks      | elapsed:    2.5s\n",
      "[Parallel(n_jobs=8)]: Done 100 out of 100 | elapsed:    4.3s finished\n",
      "[Parallel(n_jobs=-1)]: Done   4 out of  10 | elapsed:  1.0min remaining:  1.5min\n",
      "[Parallel(n_jobs=-1)]: Done  10 out of  10 | elapsed:  1.7min finished\n",
      "[Parallel(n_jobs=8)]: Done   4 out of  10 | elapsed:    0.9s remaining:    1.3s\n",
      "[Parallel(n_jobs=8)]: Done  10 out of  10 | elapsed:    1.2s finished\n",
      "[Parallel(n_jobs=8)]: Done   4 out of  10 | elapsed:    1.9s remaining:    2.9s\n",
      "[Parallel(n_jobs=8)]: Done  10 out of  10 | elapsed:    2.6s finished\n",
      "[Parallel(n_jobs=-1)]: Done   4 out of  10 | elapsed:  2.5min remaining:  3.8min\n",
      "[Parallel(n_jobs=-1)]: Done  10 out of  10 | elapsed:  3.1min finished\n",
      "[Parallel(n_jobs=8)]: Done   4 out of  10 | elapsed:    0.1s remaining:    0.2s\n",
      "[Parallel(n_jobs=8)]: Done  10 out of  10 | elapsed:    0.3s finished\n",
      "[Parallel(n_jobs=8)]: Done   4 out of  10 | elapsed:    0.3s remaining:    0.4s\n",
      "[Parallel(n_jobs=8)]: Done  10 out of  10 | elapsed:    0.6s finished\n",
      "[Parallel(n_jobs=-1)]: Done   4 out of  10 | elapsed:   25.8s remaining:   38.7s\n",
      "[Parallel(n_jobs=-1)]: Done  10 out of  10 | elapsed:  1.1min finished\n",
      "[Parallel(n_jobs=8)]: Done   4 out of  10 | elapsed:    0.8s remaining:    1.3s\n",
      "[Parallel(n_jobs=8)]: Done  10 out of  10 | elapsed:    1.1s finished\n",
      "[Parallel(n_jobs=8)]: Done   4 out of  10 | elapsed:    1.8s remaining:    2.7s\n",
      "[Parallel(n_jobs=8)]: Done  10 out of  10 | elapsed:    2.3s finished\n",
      "[Parallel(n_jobs=-1)]: Done  50 out of  50 | elapsed: 11.3min finished\n",
      "[Parallel(n_jobs=8)]: Done  50 out of  50 | elapsed:    1.0s finished\n",
      "[Parallel(n_jobs=8)]: Done  50 out of  50 | elapsed:    2.2s finished\n",
      "[Parallel(n_jobs=-1)]: Done  50 out of  50 | elapsed: 10.7min finished\n",
      "[Parallel(n_jobs=8)]: Done  50 out of  50 | elapsed:    6.0s finished\n",
      "[Parallel(n_jobs=8)]: Done  50 out of  50 | elapsed:   13.0s finished\n",
      "[Parallel(n_jobs=-1)]: Done  56 tasks      | elapsed: 13.9min\n",
      "[Parallel(n_jobs=-1)]: Done 100 out of 100 | elapsed: 23.6min finished\n",
      "[Parallel(n_jobs=8)]: Done  56 tasks      | elapsed:    1.2s\n",
      "[Parallel(n_jobs=8)]: Done 100 out of 100 | elapsed:    2.1s finished\n",
      "[Parallel(n_jobs=8)]: Done  56 tasks      | elapsed:    2.4s\n",
      "[Parallel(n_jobs=8)]: Done 100 out of 100 | elapsed:    4.2s finished\n",
      "[Parallel(n_jobs=-1)]: Done  56 tasks      | elapsed: 14.4min\n",
      "[Parallel(n_jobs=-1)]: Done 100 out of 100 | elapsed: 22.6min finished\n",
      "[Parallel(n_jobs=8)]: Done  56 tasks      | elapsed:    7.2s\n",
      "[Parallel(n_jobs=8)]: Done 100 out of 100 | elapsed:   12.6s finished\n",
      "[Parallel(n_jobs=8)]: Done  56 tasks      | elapsed:   15.5s\n",
      "[Parallel(n_jobs=8)]: Done 100 out of 100 | elapsed:   26.8s finished\n",
      "[Parallel(n_jobs=-1)]: Done  56 tasks      | elapsed: 13.8min\n",
      "[Parallel(n_jobs=-1)]: Done 100 out of 100 | elapsed: 21.9min finished\n",
      "[Parallel(n_jobs=8)]: Done  56 tasks      | elapsed:    2.8s\n",
      "[Parallel(n_jobs=8)]: Done 100 out of 100 | elapsed:    6.3s finished\n",
      "[Parallel(n_jobs=8)]: Done  56 tasks      | elapsed:   15.1s\n",
      "[Parallel(n_jobs=8)]: Done 100 out of 100 | elapsed:   25.6s finished\n",
      "[Parallel(n_jobs=-1)]: Done   4 out of  10 | elapsed:  2.5min remaining:  3.7min\n",
      "[Parallel(n_jobs=-1)]: Done  10 out of  10 | elapsed:  3.2min finished\n",
      "[Parallel(n_jobs=8)]: Done   4 out of  10 | elapsed:    0.9s remaining:    1.3s\n",
      "[Parallel(n_jobs=8)]: Done  10 out of  10 | elapsed:    1.2s finished\n",
      "[Parallel(n_jobs=8)]: Done   4 out of  10 | elapsed:    1.8s remaining:    2.7s\n",
      "[Parallel(n_jobs=8)]: Done  10 out of  10 | elapsed:    2.3s finished\n",
      "[Parallel(n_jobs=-1)]: Done   4 out of  10 | elapsed:   56.2s remaining:  1.4min\n",
      "[Parallel(n_jobs=-1)]: Done  10 out of  10 | elapsed:  1.4min finished\n",
      "[Parallel(n_jobs=8)]: Done   4 out of  10 | elapsed:    0.9s remaining:    1.3s\n",
      "[Parallel(n_jobs=8)]: Done  10 out of  10 | elapsed:    1.2s finished\n"
     ]
    },
    {
     "name": "stderr",
     "output_type": "stream",
     "text": [
      "[Parallel(n_jobs=8)]: Done   4 out of  10 | elapsed:    1.8s remaining:    2.7s\n",
      "[Parallel(n_jobs=8)]: Done  10 out of  10 | elapsed:    2.4s finished\n",
      "[Parallel(n_jobs=-1)]: Done   4 out of  10 | elapsed:  2.4min remaining:  3.7min\n",
      "[Parallel(n_jobs=-1)]: Done  10 out of  10 | elapsed:  3.2min finished\n",
      "[Parallel(n_jobs=8)]: Done   4 out of  10 | elapsed:    0.9s remaining:    1.4s\n",
      "[Parallel(n_jobs=8)]: Done  10 out of  10 | elapsed:    1.2s finished\n",
      "[Parallel(n_jobs=8)]: Done   4 out of  10 | elapsed:    1.7s remaining:    2.6s\n",
      "[Parallel(n_jobs=8)]: Done  10 out of  10 | elapsed:    2.3s finished\n",
      "[Parallel(n_jobs=-1)]: Done  50 out of  50 | elapsed: 11.3min finished\n",
      "[Parallel(n_jobs=8)]: Done  50 out of  50 | elapsed:    1.0s finished\n",
      "[Parallel(n_jobs=8)]: Done  50 out of  50 | elapsed:    2.2s finished\n",
      "[Parallel(n_jobs=-1)]: Done  50 out of  50 | elapsed: 11.2min finished\n",
      "[Parallel(n_jobs=8)]: Done  50 out of  50 | elapsed:    6.4s finished\n",
      "[Parallel(n_jobs=8)]: Done  50 out of  50 | elapsed:   12.9s finished\n",
      "[Parallel(n_jobs=-1)]: Done  50 out of  50 | elapsed: 11.9min finished\n",
      "[Parallel(n_jobs=8)]: Done  50 out of  50 | elapsed:    5.7s finished\n",
      "[Parallel(n_jobs=8)]: Done  50 out of  50 | elapsed:   12.9s finished\n",
      "[Parallel(n_jobs=-1)]: Done  56 tasks      | elapsed: 13.9min\n",
      "[Parallel(n_jobs=-1)]: Done 100 out of 100 | elapsed: 21.9min finished\n",
      "[Parallel(n_jobs=8)]: Done  56 tasks      | elapsed:    7.2s\n",
      "[Parallel(n_jobs=8)]: Done 100 out of 100 | elapsed:   12.4s finished\n",
      "[Parallel(n_jobs=8)]: Done  56 tasks      | elapsed:   15.0s\n",
      "[Parallel(n_jobs=8)]: Done 100 out of 100 | elapsed:   25.7s finished\n",
      "[Parallel(n_jobs=-1)]: Done  56 tasks      | elapsed: 13.5min\n",
      "[Parallel(n_jobs=-1)]: Done 100 out of 100 | elapsed: 23.2min finished\n",
      "[Parallel(n_jobs=8)]: Done  56 tasks      | elapsed:    1.3s\n",
      "[Parallel(n_jobs=8)]: Done 100 out of 100 | elapsed:    2.1s finished\n",
      "[Parallel(n_jobs=8)]: Done  56 tasks      | elapsed:    2.4s\n",
      "[Parallel(n_jobs=8)]: Done 100 out of 100 | elapsed:    4.3s finished\n",
      "[Parallel(n_jobs=-1)]: Done  56 tasks      | elapsed: 13.9min\n",
      "[Parallel(n_jobs=-1)]: Done 100 out of 100 | elapsed: 22.3min finished\n",
      "[Parallel(n_jobs=8)]: Done  56 tasks      | elapsed:    7.3s\n",
      "[Parallel(n_jobs=8)]: Done 100 out of 100 | elapsed:   12.9s finished\n",
      "[Parallel(n_jobs=8)]: Done  56 tasks      | elapsed:   14.9s\n",
      "[Parallel(n_jobs=8)]: Done 100 out of 100 | elapsed:   26.3s finished\n",
      "[Parallel(n_jobs=-1)]: Done   4 out of  10 | elapsed:  1.7min remaining:  2.5min\n",
      "[Parallel(n_jobs=-1)]: Done  10 out of  10 | elapsed:  2.0min finished\n",
      "[Parallel(n_jobs=8)]: Done   4 out of  10 | elapsed:    0.1s remaining:    0.2s\n",
      "[Parallel(n_jobs=8)]: Done  10 out of  10 | elapsed:    0.3s finished\n",
      "[Parallel(n_jobs=8)]: Done   4 out of  10 | elapsed:    0.3s remaining:    0.4s\n",
      "[Parallel(n_jobs=8)]: Done  10 out of  10 | elapsed:    0.6s finished\n",
      "[Parallel(n_jobs=-1)]: Done   4 out of  10 | elapsed:  1.5min remaining:  2.3min\n",
      "[Parallel(n_jobs=-1)]: Done  10 out of  10 | elapsed:  2.1min finished\n",
      "[Parallel(n_jobs=8)]: Done   4 out of  10 | elapsed:    0.8s remaining:    1.3s\n",
      "[Parallel(n_jobs=8)]: Done  10 out of  10 | elapsed:    1.1s finished\n",
      "[Parallel(n_jobs=8)]: Done   4 out of  10 | elapsed:    1.7s remaining:    2.5s\n",
      "[Parallel(n_jobs=8)]: Done  10 out of  10 | elapsed:    2.3s finished\n",
      "[Parallel(n_jobs=-1)]: Done   4 out of  10 | elapsed:  2.2min remaining:  3.3min\n",
      "[Parallel(n_jobs=-1)]: Done  10 out of  10 | elapsed:  2.6min finished\n",
      "[Parallel(n_jobs=8)]: Done   4 out of  10 | elapsed:    0.1s remaining:    0.2s\n",
      "[Parallel(n_jobs=8)]: Done  10 out of  10 | elapsed:    0.3s finished\n",
      "[Parallel(n_jobs=8)]: Done   4 out of  10 | elapsed:    0.3s remaining:    0.4s\n",
      "[Parallel(n_jobs=8)]: Done  10 out of  10 | elapsed:    0.6s finished\n",
      "[Parallel(n_jobs=-1)]: Done  50 out of  50 | elapsed: 10.3min finished\n",
      "[Parallel(n_jobs=8)]: Done  50 out of  50 | elapsed:    6.4s finished\n",
      "[Parallel(n_jobs=8)]: Done  50 out of  50 | elapsed:   12.6s finished\n",
      "[Parallel(n_jobs=-1)]: Done  50 out of  50 | elapsed: 11.7min finished\n",
      "[Parallel(n_jobs=8)]: Done  50 out of  50 | elapsed:    6.3s finished\n",
      "[Parallel(n_jobs=8)]: Done  50 out of  50 | elapsed:   12.1s finished\n",
      "[Parallel(n_jobs=-1)]: Done  50 out of  50 | elapsed: 11.8min finished\n",
      "[Parallel(n_jobs=8)]: Done  50 out of  50 | elapsed:    1.0s finished\n",
      "[Parallel(n_jobs=8)]: Done  50 out of  50 | elapsed:    2.2s finished\n",
      "[Parallel(n_jobs=-1)]: Done  56 tasks      | elapsed: 12.1min\n",
      "[Parallel(n_jobs=-1)]: Done 100 out of 100 | elapsed: 21.6min finished\n",
      "[Parallel(n_jobs=8)]: Done  56 tasks      | elapsed:    6.8s\n",
      "[Parallel(n_jobs=8)]: Done 100 out of 100 | elapsed:   12.5s finished\n",
      "[Parallel(n_jobs=8)]: Done  56 tasks      | elapsed:   15.3s\n",
      "[Parallel(n_jobs=8)]: Done 100 out of 100 | elapsed:   25.9s finished\n",
      "[Parallel(n_jobs=-1)]: Done  56 tasks      | elapsed: 12.9min\n",
      "[Parallel(n_jobs=-1)]: Done 100 out of 100 | elapsed: 22.9min finished\n",
      "[Parallel(n_jobs=8)]: Done  56 tasks      | elapsed:    1.1s\n",
      "[Parallel(n_jobs=8)]: Done 100 out of 100 | elapsed:    2.0s finished\n",
      "[Parallel(n_jobs=8)]: Done  56 tasks      | elapsed:    2.3s\n",
      "[Parallel(n_jobs=8)]: Done 100 out of 100 | elapsed:    4.3s finished\n",
      "[Parallel(n_jobs=-1)]: Done  56 tasks      | elapsed: 13.3min\n",
      "[Parallel(n_jobs=-1)]: Done 100 out of 100 | elapsed: 22.6min finished\n",
      "[Parallel(n_jobs=8)]: Done  56 tasks      | elapsed:    7.0s\n",
      "[Parallel(n_jobs=8)]: Done 100 out of 100 | elapsed:   12.5s finished\n",
      "[Parallel(n_jobs=8)]: Done  56 tasks      | elapsed:   13.8s\n",
      "[Parallel(n_jobs=8)]: Done 100 out of 100 | elapsed:   24.9s finished\n",
      "[Parallel(n_jobs=-1)]: Done   4 out of  10 | elapsed:  1.5min remaining:  2.2min\n",
      "[Parallel(n_jobs=-1)]: Done  10 out of  10 | elapsed:  1.8min finished\n",
      "[Parallel(n_jobs=8)]: Done   4 out of  10 | elapsed:    0.1s remaining:    0.2s\n",
      "[Parallel(n_jobs=8)]: Done  10 out of  10 | elapsed:    0.3s finished\n",
      "[Parallel(n_jobs=8)]: Done   4 out of  10 | elapsed:    0.3s remaining:    0.4s\n",
      "[Parallel(n_jobs=8)]: Done  10 out of  10 | elapsed:    0.6s finished\n",
      "[Parallel(n_jobs=-1)]: Done   4 out of  10 | elapsed:  1.8min remaining:  2.8min\n",
      "[Parallel(n_jobs=-1)]: Done  10 out of  10 | elapsed:  2.5min finished\n",
      "[Parallel(n_jobs=8)]: Done   4 out of  10 | elapsed:    0.8s remaining:    1.2s\n",
      "[Parallel(n_jobs=8)]: Done  10 out of  10 | elapsed:    1.1s finished\n",
      "[Parallel(n_jobs=8)]: Done   4 out of  10 | elapsed:    1.7s remaining:    2.5s\n",
      "[Parallel(n_jobs=8)]: Done  10 out of  10 | elapsed:    2.2s finished\n",
      "[Parallel(n_jobs=-1)]: Done   4 out of  10 | elapsed:  1.9min remaining:  2.9min\n",
      "[Parallel(n_jobs=-1)]: Done  10 out of  10 | elapsed:  2.3min finished\n",
      "[Parallel(n_jobs=8)]: Done   4 out of  10 | elapsed:    0.1s remaining:    0.2s\n",
      "[Parallel(n_jobs=8)]: Done  10 out of  10 | elapsed:    0.3s finished\n",
      "[Parallel(n_jobs=8)]: Done   4 out of  10 | elapsed:    0.3s remaining:    0.4s\n",
      "[Parallel(n_jobs=8)]: Done  10 out of  10 | elapsed:    0.6s finished\n",
      "[Parallel(n_jobs=-1)]: Done  50 out of  50 | elapsed: 10.4min finished\n",
      "[Parallel(n_jobs=8)]: Done  50 out of  50 | elapsed:    6.1s finished\n",
      "[Parallel(n_jobs=8)]: Done  50 out of  50 | elapsed:   12.5s finished\n",
      "[Parallel(n_jobs=-1)]: Done  50 out of  50 | elapsed: 11.8min finished\n",
      "[Parallel(n_jobs=8)]: Done  50 out of  50 | elapsed:    6.5s finished\n",
      "[Parallel(n_jobs=8)]: Done  50 out of  50 | elapsed:   12.4s finished\n",
      "[Parallel(n_jobs=-1)]: Done  50 out of  50 | elapsed: 11.8min finished\n",
      "[Parallel(n_jobs=8)]: Done  50 out of  50 | elapsed:    1.0s finished\n",
      "[Parallel(n_jobs=8)]: Done  50 out of  50 | elapsed:    2.1s finished\n",
      "[Parallel(n_jobs=-1)]: Done  56 tasks      | elapsed: 12.7min\n",
      "[Parallel(n_jobs=-1)]: Done 100 out of 100 | elapsed: 22.0min finished\n",
      "[Parallel(n_jobs=8)]: Done  56 tasks      | elapsed:    6.5s\n",
      "[Parallel(n_jobs=8)]: Done 100 out of 100 | elapsed:   11.5s finished\n",
      "[Parallel(n_jobs=8)]: Done  56 tasks      | elapsed:   14.1s\n",
      "[Parallel(n_jobs=8)]: Done 100 out of 100 | elapsed:   25.1s finished\n",
      "[Parallel(n_jobs=-1)]: Done  56 tasks      | elapsed: 13.0min\n",
      "[Parallel(n_jobs=-1)]: Done 100 out of 100 | elapsed: 22.4min finished\n",
      "[Parallel(n_jobs=8)]: Done  56 tasks      | elapsed:    1.1s\n",
      "[Parallel(n_jobs=8)]: Done 100 out of 100 | elapsed:    2.0s finished\n"
     ]
    },
    {
     "name": "stderr",
     "output_type": "stream",
     "text": [
      "[Parallel(n_jobs=8)]: Done  56 tasks      | elapsed:    2.4s\n",
      "[Parallel(n_jobs=8)]: Done 100 out of 100 | elapsed:    4.3s finished\n",
      "[Parallel(n_jobs=-1)]: Done  56 tasks      | elapsed: 14.4min\n",
      "[Parallel(n_jobs=-1)]: Done 100 out of 100 | elapsed: 23.5min finished\n",
      "[Parallel(n_jobs=8)]: Done  56 tasks      | elapsed:    7.1s\n",
      "[Parallel(n_jobs=8)]: Done 100 out of 100 | elapsed:   12.5s finished\n",
      "[Parallel(n_jobs=8)]: Done  56 tasks      | elapsed:   14.6s\n",
      "[Parallel(n_jobs=8)]: Done 100 out of 100 | elapsed:   25.7s finished\n",
      "[Parallel(n_jobs=-1)]: Done  56 tasks      | elapsed: 20.6min\n"
     ]
    },
    {
     "name": "stdout",
     "output_type": "stream",
     "text": [
      "CPU times: user 3d 17h 51min 48s, sys: 18min 20s, total: 3d 18h 10min 8s\n",
      "Wall time: 11h 49min 50s\n"
     ]
    },
    {
     "name": "stderr",
     "output_type": "stream",
     "text": [
      "[Parallel(n_jobs=-1)]: Done 100 out of 100 | elapsed: 36.1min finished\n"
     ]
    },
    {
     "data": {
      "text/plain": [
       "GridSearchCV(cv=None, error_score='raise',\n",
       "       estimator=RandomForestClassifier(bootstrap=True, class_weight=None, criterion='gini',\n",
       "            max_depth=None, max_features='auto', max_leaf_nodes=None,\n",
       "            min_impurity_decrease=0.0, min_impurity_split=None,\n",
       "            min_samples_leaf=1, min_samples_split=2,\n",
       "            min_weight_fraction_leaf=0.0, n_estimators=10, n_jobs=1,\n",
       "            oob_score=False, random_state=None, verbose=0,\n",
       "            warm_start=False),\n",
       "       fit_params=None, iid=True, n_jobs=1,\n",
       "       param_grid={'random_state': [32], 'n_estimators': [10, 50, 100], 'min_samples_split': range(2, 4), 'min_samples_leaf': range(8, 12), 'n_jobs': [-1], 'verbose': [-1]},\n",
       "       pre_dispatch='2*n_jobs', refit=True, return_train_score='warn',\n",
       "       scoring=None, verbose=0)"
      ]
     },
     "execution_count": 19,
     "metadata": {},
     "output_type": "execute_result"
    }
   ],
   "source": [
    "%%time\n",
    "rf.fit(X_train, y_train)"
   ]
  },
  {
   "cell_type": "code",
   "execution_count": 20,
   "metadata": {},
   "outputs": [
    {
     "name": "stderr",
     "output_type": "stream",
     "text": [
      "[Parallel(n_jobs=8)]: Done  56 tasks      | elapsed:   27.4s\n",
      "[Parallel(n_jobs=8)]: Done 100 out of 100 | elapsed:   47.6s finished\n",
      "[Parallel(n_jobs=8)]: Done  56 tasks      | elapsed:    8.8s\n",
      "[Parallel(n_jobs=8)]: Done 100 out of 100 | elapsed:   15.4s finished\n"
     ]
    },
    {
     "data": {
      "text/plain": [
       "(0.91140107943526016, 0.82144071811191954)"
      ]
     },
     "execution_count": 20,
     "metadata": {},
     "output_type": "execute_result"
    }
   ],
   "source": [
    "rf.score(X_train, y_train), rf.score(X_test, y_test)"
   ]
  },
  {
   "cell_type": "code",
   "execution_count": 22,
   "metadata": {
    "scrolled": true
   },
   "outputs": [
    {
     "data": {
      "text/plain": [
       "{'min_samples_leaf': 10,\n",
       " 'min_samples_split': 2,\n",
       " 'n_estimators': 100,\n",
       " 'n_jobs': -1,\n",
       " 'random_state': 32,\n",
       " 'verbose': -1}"
      ]
     },
     "execution_count": 22,
     "metadata": {},
     "output_type": "execute_result"
    }
   ],
   "source": [
    "rf.best_params_"
   ]
  },
  {
   "cell_type": "markdown",
   "metadata": {},
   "source": [
    "### While results of our grid search suggest that model accuracy could be improved by increasing the number of estimators in each tree, I will continue to the prediction stage using the logistic regression model due to the large disparity in fit time (approx. 120 min for a random forest of 100 estimators vs approx. 25 minutes for logistic regression)."
   ]
  }
 ],
 "metadata": {
  "kernelspec": {
   "display_name": "Python 3",
   "language": "python",
   "name": "python3"
  },
  "language_info": {
   "codemirror_mode": {
    "name": "ipython",
    "version": 3
   },
   "file_extension": ".py",
   "mimetype": "text/x-python",
   "name": "python",
   "nbconvert_exporter": "python",
   "pygments_lexer": "ipython3",
   "version": "3.6.2"
  }
 },
 "nbformat": 4,
 "nbformat_minor": 2
}
